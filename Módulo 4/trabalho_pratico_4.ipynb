{
 "cells": [
  {
   "cell_type": "markdown",
   "metadata": {
    "id": "4WoZdwjQVF7S"
   },
   "source": [
    "## Trabalho Prático - Módulo 4"
   ]
  },
  {
   "cell_type": "code",
   "execution_count": 1,
   "metadata": {
    "colab": {
     "base_uri": "https://localhost:8080/"
    },
    "executionInfo": {
     "elapsed": 2605,
     "status": "ok",
     "timestamp": 1611693607044,
     "user": {
      "displayName": "Edson Venâncio",
      "photoUrl": "",
      "userId": "03024126298677047667"
     },
     "user_tz": 180
    },
    "id": "kVvCKvchVV7-",
    "outputId": "a5b194aa-dca7-485d-d08d-be63e6736584"
   },
   "outputs": [
    {
     "name": "stdout",
     "output_type": "stream",
     "text": [
      "2.4.0\n"
     ]
    }
   ],
   "source": [
    "# importando as bibliotecas\n",
    "import tensorflow as tf\n",
    "from tensorflow import keras\n",
    "import numpy as np\n",
    "import matplotlib.pyplot as plt\n",
    "\n",
    "print(tf.__version__)"
   ]
  },
  {
   "cell_type": "code",
   "execution_count": 2,
   "metadata": {
    "colab": {
     "base_uri": "https://localhost:8080/"
    },
    "executionInfo": {
     "elapsed": 1615,
     "status": "ok",
     "timestamp": 1611693611119,
     "user": {
      "displayName": "Edson Venâncio",
      "photoUrl": "",
      "userId": "03024126298677047667"
     },
     "user_tz": 180
    },
    "id": "DfJj-DChfAqa",
    "outputId": "daa0d40d-1ba7-4532-ba71-fbb5e465770b"
   },
   "outputs": [
    {
     "name": "stdout",
     "output_type": "stream",
     "text": [
      "Downloading data from https://storage.googleapis.com/tensorflow/tf-keras-datasets/train-labels-idx1-ubyte.gz\n",
      "32768/29515 [=================================] - 0s 1us/step\n",
      "Downloading data from https://storage.googleapis.com/tensorflow/tf-keras-datasets/train-images-idx3-ubyte.gz\n",
      "26427392/26421880 [==============================] - 4s 0us/step\n",
      "Downloading data from https://storage.googleapis.com/tensorflow/tf-keras-datasets/t10k-labels-idx1-ubyte.gz\n",
      "8192/5148 [===============================================] - 0s 0us/step\n",
      "Downloading data from https://storage.googleapis.com/tensorflow/tf-keras-datasets/t10k-images-idx3-ubyte.gz\n",
      "4423680/4422102 [==============================] - 1s 0us/step\n"
     ]
    }
   ],
   "source": [
    "# importando a base de dados Fashion MNIST\n",
    "fashion_mnist = keras.datasets.fashion_mnist\n",
    "\n",
    "(train_images, train_labels), (test_images, test_labels) = fashion_mnist.load_data()"
   ]
  },
  {
   "cell_type": "markdown",
   "metadata": {
    "id": "j2JgqObqlEAb"
   },
   "source": [
    "As imagens são arrays NumPy de 28x28, com os valores de pixels entre *0 e 255*.<br>Os labels (alvo da classificação) são um array de inteiros, no intervalo de ***0 a 9***.<br>\n",
    "<br>Esse intervalo corresponde com a classe de roupa que cada imagem representa.<br>\n",
    "\n",
    "**0** - Camiseta/Top (T-shirt/top)\n",
    "<br>**1** - Calça (Trouser)\n",
    "<br>**2** - Suéter (Pullover)\n",
    "<br>**3** - Vestido (Dress)\n",
    "<br>**4** - Casaco (Coat)\n",
    "<br>**5** - Sandália (Sandal)\n",
    "<br>**6** - Camisa (Shirt)\n",
    "<br>**7** - Tênis (Sneaker)\n",
    "<br>**8** - Bolsa (Bag)\n",
    "<br>**9** - Botas (Ankle boot)"
   ]
  },
  {
   "cell_type": "code",
   "execution_count": 3,
   "metadata": {
    "executionInfo": {
     "elapsed": 806,
     "status": "ok",
     "timestamp": 1611693622132,
     "user": {
      "displayName": "Edson Venâncio",
      "photoUrl": "",
      "userId": "03024126298677047667"
     },
     "user_tz": 180
    },
    "id": "YYRhssO-fA1r"
   },
   "outputs": [],
   "source": [
    "class_names = ['T-shirt/top', 'Trouser', 'Pullover', 'Dress', 'Coat', 'Sandal', 'Shirt', 'Sneaker', 'Bag', 'Ankle boot']"
   ]
  },
  {
   "cell_type": "markdown",
   "metadata": {
    "id": "zaQw0adEoNzl"
   },
   "source": [
    "### Explorando os Dados"
   ]
  },
  {
   "cell_type": "code",
   "execution_count": 4,
   "metadata": {
    "colab": {
     "base_uri": "https://localhost:8080/"
    },
    "executionInfo": {
     "elapsed": 812,
     "status": "ok",
     "timestamp": 1611693624988,
     "user": {
      "displayName": "Edson Venâncio",
      "photoUrl": "",
      "userId": "03024126298677047667"
     },
     "user_tz": 180
    },
    "id": "18tzKlNBhml1",
    "outputId": "01b7ca72-5bf0-4faa-ccc9-679ede615e6f"
   },
   "outputs": [
    {
     "name": "stdout",
     "output_type": "stream",
     "text": [
      "train images: 60000 \n",
      "test images: 10000\n"
     ]
    }
   ],
   "source": [
    "print(f'train images: {len(train_images)} \\ntest images: {len(test_images)}')"
   ]
  },
  {
   "cell_type": "code",
   "execution_count": 5,
   "metadata": {
    "colab": {
     "base_uri": "https://localhost:8080/"
    },
    "executionInfo": {
     "elapsed": 708,
     "status": "ok",
     "timestamp": 1611693627138,
     "user": {
      "displayName": "Edson Venâncio",
      "photoUrl": "",
      "userId": "03024126298677047667"
     },
     "user_tz": 180
    },
    "id": "O4NlRutUot9h",
    "outputId": "4365f2b3-85b1-47a9-8e0b-124108f74271"
   },
   "outputs": [
    {
     "name": "stdout",
     "output_type": "stream",
     "text": [
      "train labels: 60000 \n",
      "test labels: 10000\n"
     ]
    }
   ],
   "source": [
    "print(f'train labels: {len(train_labels)} \\ntest labels: {len(test_labels)}')"
   ]
  },
  {
   "cell_type": "code",
   "execution_count": 6,
   "metadata": {
    "colab": {
     "base_uri": "https://localhost:8080/"
    },
    "executionInfo": {
     "elapsed": 687,
     "status": "ok",
     "timestamp": 1611693629820,
     "user": {
      "displayName": "Edson Venâncio",
      "photoUrl": "",
      "userId": "03024126298677047667"
     },
     "user_tz": 180
    },
    "id": "ks667HSMfA69",
    "outputId": "0feb4ad8-f087-4120-baa4-e1ab6306621b"
   },
   "outputs": [
    {
     "name": "stdout",
     "output_type": "stream",
     "text": [
      "(60000, 28, 28)\n",
      "(10000, 28, 28)\n"
     ]
    }
   ],
   "source": [
    "print(train_images.shape)\n",
    "print(test_images.shape)"
   ]
  },
  {
   "cell_type": "code",
   "execution_count": 7,
   "metadata": {
    "colab": {
     "base_uri": "https://localhost:8080/"
    },
    "executionInfo": {
     "elapsed": 757,
     "status": "ok",
     "timestamp": 1611693632059,
     "user": {
      "displayName": "Edson Venâncio",
      "photoUrl": "",
      "userId": "03024126298677047667"
     },
     "user_tz": 180
    },
    "id": "cduQZlYvfBDu",
    "outputId": "9dc759f0-7505-4582-cbb5-5ee797616fbf"
   },
   "outputs": [
    {
     "name": "stdout",
     "output_type": "stream",
     "text": [
      "[9 0 0 ... 3 0 5]\n",
      "[9 2 1 ... 8 1 5]\n"
     ]
    }
   ],
   "source": [
    "print(train_labels)\n",
    "print(test_labels)"
   ]
  },
  {
   "cell_type": "code",
   "execution_count": 8,
   "metadata": {
    "colab": {
     "base_uri": "https://localhost:8080/"
    },
    "executionInfo": {
     "elapsed": 688,
     "status": "ok",
     "timestamp": 1611693634004,
     "user": {
      "displayName": "Edson Venâncio",
      "photoUrl": "",
      "userId": "03024126298677047667"
     },
     "user_tz": 180
    },
    "id": "9aMfrr5PhtRU",
    "outputId": "35dd85cb-82eb-4739-bf05-82b01edb73f1"
   },
   "outputs": [
    {
     "name": "stdout",
     "output_type": "stream",
     "text": [
      "[0 1 2 3 4 5 6 7 8 9]\n",
      "[0 1 2 3 4 5 6 7 8 9]\n"
     ]
    }
   ],
   "source": [
    "# todas as labels\n",
    "print(np.unique(train_labels))\n",
    "print(np.unique(test_labels))"
   ]
  },
  {
   "cell_type": "markdown",
   "metadata": {
    "id": "uquGGRMEpKLl"
   },
   "source": [
    "### Pré-processamento dos Dados"
   ]
  },
  {
   "cell_type": "code",
   "execution_count": 9,
   "metadata": {
    "colab": {
     "base_uri": "https://localhost:8080/",
     "height": 265
    },
    "executionInfo": {
     "elapsed": 861,
     "status": "ok",
     "timestamp": 1611693948970,
     "user": {
      "displayName": "Edson Venâncio",
      "photoUrl": "",
      "userId": "03024126298677047667"
     },
     "user_tz": 180
    },
    "id": "C1oc-a3Tfflm",
    "outputId": "312883a7-0171-4c71-c37f-929f01be510b"
   },
   "outputs": [
    {
     "data": {
      "image/png": "[encoded data removed]",
      "text/plain": [
       "<Figure size 432x288 with 2 Axes>"
      ]
     },
     "metadata": {
      "needs_background": "light"
     },
     "output_type": "display_data"
    }
   ],
   "source": [
    "# plot da primeira peça da base de treino\n",
    "plt.figure()\n",
    "plt.imshow(train_images[0])\n",
    "plt.colorbar()\n",
    "plt.grid(False)\n",
    "plt.show()"
   ]
  },
  {
   "cell_type": "code",
   "execution_count": 10,
   "metadata": {
    "executionInfo": {
     "elapsed": 759,
     "status": "ok",
     "timestamp": 1611693955262,
     "user": {
      "displayName": "Edson Venâncio",
      "photoUrl": "",
      "userId": "03024126298677047667"
     },
     "user_tz": 180
    },
    "id": "3YLhq0dEffrS"
   },
   "outputs": [],
   "source": [
    "train_images = train_images / 255.0\n",
    "\n",
    "test_images = test_images / 255.0"
   ]
  },
  {
   "cell_type": "code",
   "execution_count": 11,
   "metadata": {
    "colab": {
     "base_uri": "https://localhost:8080/",
     "height": 589
    },
    "executionInfo": {
     "elapsed": 1841,
     "status": "ok",
     "timestamp": 1611693961118,
     "user": {
      "displayName": "Edson Venâncio",
      "photoUrl": "",
      "userId": "03024126298677047667"
     },
     "user_tz": 180
    },
    "id": "MCaY5k-ffft_",
    "outputId": "873862cb-c1ab-4526-c735-6e70652cc774"
   },
   "outputs": [
    {
     "data": {
      "image/png": "[encoded data removed]",
      "text/plain": [
       "<Figure size 720x720 with 25 Axes>"
      ]
     },
     "metadata": {},
     "output_type": "display_data"
    }
   ],
   "source": [
    "# visualizando as primeiras 25 imagens do conjunto de treino\n",
    "plt.figure(figsize=(10,10))\n",
    "for i in range(25):\n",
    "    plt.subplot(5,5,i+1)\n",
    "    plt.xticks([])\n",
    "    plt.yticks([])\n",
    "    plt.grid(False)\n",
    "    plt.imshow(train_images[i], cmap=plt.cm.binary)\n",
    "    plt.xlabel(class_names[train_labels[i]])\n",
    "plt.show()"
   ]
  },
  {
   "cell_type": "markdown",
   "metadata": {
    "id": "8koGk1Snp_Qc"
   },
   "source": [
    "### Construindo o Modelo"
   ]
  },
  {
   "cell_type": "code",
   "execution_count": 12,
   "metadata": {
    "executionInfo": {
     "elapsed": 1000,
     "status": "ok",
     "timestamp": 1611693969446,
     "user": {
      "displayName": "Edson Venâncio",
      "photoUrl": "",
      "userId": "03024126298677047667"
     },
     "user_tz": 180
    },
    "id": "zYCcp6NBffwP"
   },
   "outputs": [],
   "source": [
    "# montando as camadas\n",
    "model = keras.Sequential([keras.layers.Flatten(input_shape=(28, 28)),\n",
    "                          keras.layers.Dense(128, activation='relu'),\n",
    "                          keras.layers.Dense(10, activation='softmax')])"
   ]
  },
  {
   "cell_type": "code",
   "execution_count": 13,
   "metadata": {
    "colab": {
     "base_uri": "https://localhost:8080/"
    },
    "executionInfo": {
     "elapsed": 753,
     "status": "ok",
     "timestamp": 1611693971073,
     "user": {
      "displayName": "Edson Venâncio",
      "photoUrl": "",
      "userId": "03024126298677047667"
     },
     "user_tz": 180
    },
    "id": "n_yd40GaqaCT",
    "outputId": "b8a702bf-19f7-47e8-ae54-6fadaaed4598"
   },
   "outputs": [
    {
     "name": "stdout",
     "output_type": "stream",
     "text": [
      "Model: \"sequential\"\n",
      "_________________________________________________________________\n",
      "Layer (type)                 Output Shape              Param #   \n",
      "=================================================================\n",
      "flatten (Flatten)            (None, 784)               0         \n",
      "_________________________________________________________________\n",
      "dense (Dense)                (None, 128)               100480    \n",
      "_________________________________________________________________\n",
      "dense_1 (Dense)              (None, 10)                1290      \n",
      "=================================================================\n",
      "Total params: 101,770\n",
      "Trainable params: 101,770\n",
      "Non-trainable params: 0\n",
      "_________________________________________________________________\n"
     ]
    }
   ],
   "source": [
    "model.summary()"
   ]
  },
  {
   "cell_type": "code",
   "execution_count": 14,
   "metadata": {
    "executionInfo": {
     "elapsed": 758,
     "status": "ok",
     "timestamp": 1611693974563,
     "user": {
      "displayName": "Edson Venâncio",
      "photoUrl": "",
      "userId": "03024126298677047667"
     },
     "user_tz": 180
    },
    "id": "JKmpBnD-ffyc"
   },
   "outputs": [],
   "source": [
    "# compilando o modelo\n",
    "model.compile(optimizer='adam', loss='sparse_categorical_crossentropy', metrics=['accuracy'])"
   ]
  },
  {
   "cell_type": "code",
   "execution_count": 15,
   "metadata": {
    "colab": {
     "base_uri": "https://localhost:8080/"
    },
    "executionInfo": {
     "elapsed": 35306,
     "status": "ok",
     "timestamp": 1611694013841,
     "user": {
      "displayName": "Edson Venâncio",
      "photoUrl": "",
      "userId": "03024126298677047667"
     },
     "user_tz": 180
    },
    "id": "PiHkE4Tnff0W",
    "outputId": "9f105e6f-6579-4f91-e90b-034bc1e5383e"
   },
   "outputs": [
    {
     "name": "stdout",
     "output_type": "stream",
     "text": [
      "Epoch 1/10\n",
      "1875/1875 [==============================] - 6s 2ms/step - loss: 0.6119 - accuracy: 0.7872\n",
      "Epoch 2/10\n",
      "1875/1875 [==============================] - 4s 2ms/step - loss: 0.3821 - accuracy: 0.8608\n",
      "Epoch 3/10\n",
      "1875/1875 [==============================] - 4s 2ms/step - loss: 0.3357 - accuracy: 0.8766\n",
      "Epoch 4/10\n",
      "1875/1875 [==============================] - 3s 2ms/step - loss: 0.3103 - accuracy: 0.8883\n",
      "Epoch 5/10\n",
      "1875/1875 [==============================] - 4s 2ms/step - loss: 0.2940 - accuracy: 0.8898\n",
      "Epoch 6/10\n",
      "1875/1875 [==============================] - 4s 2ms/step - loss: 0.2719 - accuracy: 0.8990\n",
      "Epoch 7/10\n",
      "1875/1875 [==============================] - 3s 2ms/step - loss: 0.2708 - accuracy: 0.8985\n",
      "Epoch 8/10\n",
      "1875/1875 [==============================] - 4s 2ms/step - loss: 0.2551 - accuracy: 0.9043\n",
      "Epoch 9/10\n",
      "1875/1875 [==============================] - 4s 2ms/step - loss: 0.2447 - accuracy: 0.9077\n",
      "Epoch 10/10\n",
      "1875/1875 [==============================] - 3s 2ms/step - loss: 0.2362 - accuracy: 0.9102\n"
     ]
    },
    {
     "data": {
      "text/plain": [
       "<tensorflow.python.keras.callbacks.History at 0x22746dfe190>"
      ]
     },
     "execution_count": 15,
     "metadata": {},
     "output_type": "execute_result"
    }
   ],
   "source": [
    "# treinando o modelo\n",
    "model.fit(train_images, train_labels, epochs=10)"
   ]
  },
  {
   "cell_type": "code",
   "execution_count": 16,
   "metadata": {
    "colab": {
     "base_uri": "https://localhost:8080/"
    },
    "executionInfo": {
     "elapsed": 1117,
     "status": "ok",
     "timestamp": 1611694018927,
     "user": {
      "displayName": "Edson Venâncio",
      "photoUrl": "",
      "userId": "03024126298677047667"
     },
     "user_tz": 180
    },
    "id": "2CrhLZPyf7r6",
    "outputId": "dd37d2ba-cf8c-4185-bbda-830a8ea785b1"
   },
   "outputs": [
    {
     "name": "stdout",
     "output_type": "stream",
     "text": [
      "313/313 - 1s - loss: 0.3317 - accuracy: 0.8795\n",
      "\n",
      "Test accuracy: 0.8794999718666077\n"
     ]
    }
   ],
   "source": [
    "# avaliando a acurácia\n",
    "test_loss, test_acc = model.evaluate(test_images, test_labels, verbose=2)\n",
    "print('\\nTest accuracy:', test_acc)"
   ]
  },
  {
   "cell_type": "code",
   "execution_count": 17,
   "metadata": {
    "executionInfo": {
     "elapsed": 1065,
     "status": "ok",
     "timestamp": 1611694022107,
     "user": {
      "displayName": "Edson Venâncio",
      "photoUrl": "",
      "userId": "03024126298677047667"
     },
     "user_tz": 180
    },
    "id": "oNLPfJatf7yH"
   },
   "outputs": [],
   "source": [
    "# realizando as predições com o dataset de teste\n",
    "predictions = model.predict(test_images)"
   ]
  },
  {
   "cell_type": "code",
   "execution_count": 18,
   "metadata": {
    "colab": {
     "base_uri": "https://localhost:8080/"
    },
    "executionInfo": {
     "elapsed": 686,
     "status": "ok",
     "timestamp": 1611694025149,
     "user": {
      "displayName": "Edson Venâncio",
      "photoUrl": "",
      "userId": "03024126298677047667"
     },
     "user_tz": 180
    },
    "id": "ikzW_OBVsNF7",
    "outputId": "3b8d9a23-db72-4a38-d081-4709dbb2010a"
   },
   "outputs": [
    {
     "data": {
      "text/plain": [
       "array([9.5048181e-06, 2.5885441e-10, 4.7438591e-09, 5.7873162e-10,\n",
       "       1.6435386e-07, 7.4306591e-03, 5.4315010e-09, 2.8910309e-02,\n",
       "       7.2064104e-08, 9.6364921e-01], dtype=float32)"
      ]
     },
     "execution_count": 18,
     "metadata": {},
     "output_type": "execute_result"
    }
   ],
   "source": [
    "# selecionando a primeira imagem do teste\n",
    "predictions[0]"
   ]
  },
  {
   "cell_type": "code",
   "execution_count": 19,
   "metadata": {
    "colab": {
     "base_uri": "https://localhost:8080/"
    },
    "executionInfo": {
     "elapsed": 733,
     "status": "ok",
     "timestamp": 1611694027788,
     "user": {
      "displayName": "Edson Venâncio",
      "photoUrl": "",
      "userId": "03024126298677047667"
     },
     "user_tz": 180
    },
    "id": "1xDZvxJWf75Y",
    "outputId": "7fcf1d7e-e0e7-42ae-a00f-2a23a0e0abde"
   },
   "outputs": [
    {
     "data": {
      "text/plain": [
       "9"
      ]
     },
     "execution_count": 19,
     "metadata": {},
     "output_type": "execute_result"
    }
   ],
   "source": [
    "# a classe com maior probabilidade da primeira imagem\n",
    "np.argmax(predictions[0])"
   ]
  },
  {
   "cell_type": "code",
   "execution_count": 20,
   "metadata": {
    "executionInfo": {
     "elapsed": 695,
     "status": "ok",
     "timestamp": 1611694030722,
     "user": {
      "displayName": "Edson Venâncio",
      "photoUrl": "",
      "userId": "03024126298677047667"
     },
     "user_tz": 180
    },
    "id": "8wxsGppfgGFk"
   },
   "outputs": [],
   "source": [
    "# função para plot da imagem\n",
    "def plot_image(i, predictions_array, true_label, img):\n",
    "  predictions_array, true_label, img = predictions_array[i], true_label[i], img[i]\n",
    "  plt.grid(False)\n",
    "  plt.xticks([])\n",
    "  plt.yticks([])\n",
    "\n",
    "  plt.imshow(img, cmap=plt.cm.binary)\n",
    "\n",
    "  predicted_label = np.argmax(predictions_array)\n",
    "  if predicted_label == true_label:\n",
    "    color = 'blue'\n",
    "  else:\n",
    "    color = 'red'\n",
    "\n",
    "  plt.xlabel(\"{} {:2.0f}% ({})\".format(class_names[predicted_label],\n",
    "                                100*np.max(predictions_array),\n",
    "                                class_names[true_label]),\n",
    "                                color=color)\n",
    "\n",
    "# função para plot com as probabilidades\n",
    "def plot_value_array(i, predictions_array, true_label):\n",
    "  predictions_array, true_label = predictions_array[i], true_label[i]\n",
    "  plt.grid(False)\n",
    "  plt.xticks([])\n",
    "  plt.yticks([])\n",
    "  thisplot = plt.bar(range(10), predictions_array, color=\"#777777\")\n",
    "  plt.ylim([0, 1])\n",
    "  predicted_label = np.argmax(predictions_array)\n",
    "\n",
    "  thisplot[predicted_label].set_color('red')\n",
    "  thisplot[true_label].set_color('blue')"
   ]
  },
  {
   "cell_type": "code",
   "execution_count": 21,
   "metadata": {
    "colab": {
     "base_uri": "https://localhost:8080/",
     "height": 203
    },
    "executionInfo": {
     "elapsed": 722,
     "status": "ok",
     "timestamp": 1611694034678,
     "user": {
      "displayName": "Edson Venâncio",
      "photoUrl": "",
      "userId": "03024126298677047667"
     },
     "user_tz": 180
    },
    "id": "6enj_sBggGL0",
    "outputId": "86d60db6-766e-4011-826c-e0bda7555793"
   },
   "outputs": [
    {
     "data": {
      "image/png": "[encoded data removed]",
      "text/plain": [
       "<Figure size 432x216 with 2 Axes>"
      ]
     },
     "metadata": {},
     "output_type": "display_data"
    }
   ],
   "source": [
    "# predição correta\n",
    "i = 0\n",
    "plt.figure(figsize=(6,3))\n",
    "plt.subplot(1,2,1)\n",
    "plot_image(i, predictions, test_labels, test_images)\n",
    "plt.subplot(1,2,2)\n",
    "plot_value_array(i, predictions, test_labels)\n",
    "plt.show()"
   ]
  },
  {
   "cell_type": "code",
   "execution_count": 22,
   "metadata": {
    "colab": {
     "base_uri": "https://localhost:8080/",
     "height": 203
    },
    "executionInfo": {
     "elapsed": 940,
     "status": "ok",
     "timestamp": 1611694038162,
     "user": {
      "displayName": "Edson Venâncio",
      "photoUrl": "",
      "userId": "03024126298677047667"
     },
     "user_tz": 180
    },
    "id": "up-yClWXgGQd",
    "outputId": "11514317-08ab-4dca-82ad-a429b4009361"
   },
   "outputs": [
    {
     "data": {
      "image/png": "[encoded data removed]",
      "text/plain": [
       "<Figure size 432x216 with 2 Axes>"
      ]
     },
     "metadata": {},
     "output_type": "display_data"
    }
   ],
   "source": [
    "# predição incorreta\n",
    "i = 12\n",
    "plt.figure(figsize=(6,3))\n",
    "plt.subplot(1,2,1)\n",
    "plot_image(i, predictions, test_labels, test_images)\n",
    "plt.subplot(1,2,2)\n",
    "plot_value_array(i, predictions, test_labels)\n",
    "plt.show()"
   ]
  },
  {
   "cell_type": "code",
   "execution_count": 23,
   "metadata": {
    "colab": {
     "base_uri": "https://localhost:8080/",
     "height": 589
    },
    "executionInfo": {
     "elapsed": 2179,
     "status": "ok",
     "timestamp": 1611694042903,
     "user": {
      "displayName": "Edson Venâncio",
      "photoUrl": "",
      "userId": "03024126298677047667"
     },
     "user_tz": 180
    },
    "id": "Edq0Vgk9gGYS",
    "outputId": "90a19da7-5a71-4100-d20c-8b364db8f083"
   },
   "outputs": [
    {
     "data": {
      "image/png": "[encoded data removed]",
      "text/plain": [
       "<Figure size 864x720 with 30 Axes>"
      ]
     },
     "metadata": {},
     "output_type": "display_data"
    }
   ],
   "source": [
    "# labels preditas corretamente são azuis e as predições erradas são vermelhas\n",
    "num_rows = 5\n",
    "num_cols = 3\n",
    "num_images = num_rows*num_cols\n",
    "plt.figure(figsize=(2*2*num_cols, 2*num_rows))\n",
    "for i in range(num_images):\n",
    "  plt.subplot(num_rows, 2*num_cols, 2*i+1)\n",
    "  plot_image(i, predictions, test_labels, test_images)\n",
    "  plt.subplot(num_rows, 2*num_cols, 2*i+2)\n",
    "  plot_value_array(i, predictions, test_labels)\n",
    "plt.show()"
   ]
  },
  {
   "cell_type": "code",
   "execution_count": 24,
   "metadata": {
    "colab": {
     "base_uri": "https://localhost:8080/"
    },
    "executionInfo": {
     "elapsed": 694,
     "status": "ok",
     "timestamp": 1611694047553,
     "user": {
      "displayName": "Edson Venâncio",
      "photoUrl": "",
      "userId": "03024126298677047667"
     },
     "user_tz": 180
    },
    "id": "H1BzakJBf8Bu",
    "outputId": "2eaee12e-17e0-4695-8f2b-d2d412bebbc8"
   },
   "outputs": [
    {
     "name": "stdout",
     "output_type": "stream",
     "text": [
      "Shape da imagem de exemplo: (28, 28)\n",
      "Imagem no formato de entrada para a Rede Neural: (1, 28, 28)\n",
      "Array com as probabilidades de cada classe:\n",
      " [[9.5047826e-06 2.5885544e-10 4.7438595e-09 5.7872951e-10 1.6435405e-07\n",
      "  7.4306563e-03 5.4314917e-09 2.8910300e-02 7.2063976e-08 9.6364933e-01]]\n"
     ]
    }
   ],
   "source": [
    "# selecionando apenas uma imagem teste\n",
    "img = test_images[0]\n",
    "print('Shape da imagem de exemplo:', img.shape)\n",
    "\n",
    "# adiciona a imagem em um batch que possui um só membro\n",
    "img = (np.expand_dims(img,0))\n",
    "print('Imagem no formato de entrada para a Rede Neural:', img.shape)\n",
    "predictions_single = model.predict(img)\n",
    "print('Array com as probabilidades de cada classe:\\n', predictions_single)"
   ]
  },
  {
   "cell_type": "code",
   "execution_count": 25,
   "metadata": {
    "colab": {
     "base_uri": "https://localhost:8080/",
     "height": 317
    },
    "executionInfo": {
     "elapsed": 698,
     "status": "ok",
     "timestamp": 1611694053999,
     "user": {
      "displayName": "Edson Venâncio",
      "photoUrl": "",
      "userId": "03024126298677047667"
     },
     "user_tz": 180
    },
    "id": "-tTDpZdlgdch",
    "outputId": "d3ff4619-f752-4878-e3ac-61747e2a9017"
   },
   "outputs": [
    {
     "name": "stdout",
     "output_type": "stream",
     "text": [
      "A classe prevista é: 9\n"
     ]
    },
    {
     "data": {
      "image/png": "[encoded data removed]",
      "text/plain": [
       "<Figure size 432x288 with 1 Axes>"
      ]
     },
     "metadata": {
      "needs_background": "light"
     },
     "output_type": "display_data"
    }
   ],
   "source": [
    "print('A classe prevista é:', np.argmax(predictions_single[0]))\n",
    "\n",
    "# plot com as probabilidades de cada classe\n",
    "plot_value_array(0, predictions_single, test_labels)\n",
    "_ = plt.xticks(range(10), class_names, rotation=45)"
   ]
  }
 ],
 "metadata": {
  "colab": {
   "authorship_tag": "ABX9TyOzWpJZU+am6HhNNeQPmO/h",
   "collapsed_sections": [],
   "name": "trabalho_pratico_4.ipynb",
   "provenance": []
  },
  "kernelspec": {
   "display_name": "Python 3",
   "language": "python",
   "name": "python3"
  },
  "language_info": {
   "codemirror_mode": {
    "name": "ipython",
    "version": 3
   },
   "file_extension": ".py",
   "mimetype": "text/x-python",
   "name": "python",
   "nbconvert_exporter": "python",
   "pygments_lexer": "ipython3",
   "version": "3.8.3"
  }
 },
 "nbformat": 4,
 "nbformat_minor": 1
}
