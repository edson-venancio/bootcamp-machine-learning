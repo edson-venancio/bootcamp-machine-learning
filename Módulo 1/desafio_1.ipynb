{
 "cells": [
  {
   "cell_type": "markdown",
   "metadata": {
    "id": "kDSl8_Dyl0fm"
   },
   "source": [
    "## Desafio - Módulo 1"
   ]
  },
  {
   "cell_type": "code",
   "execution_count": 1,
   "metadata": {
    "executionInfo": {
     "elapsed": 1335,
     "status": "ok",
     "timestamp": 1606849746830,
     "user": {
      "displayName": "Edson Venâncio",
      "photoUrl": "",
      "userId": "03024126298677047667"
     },
     "user_tz": 180
    },
    "id": "IpewcDY5xs_I"
   },
   "outputs": [],
   "source": [
    "# importando as bibliotecas\n",
    "import pandas as pd\n",
    "import numpy as np\n",
    "import seaborn as sns\n",
    "import matplotlib.pyplot as plt"
   ]
  },
  {
   "cell_type": "code",
   "execution_count": 2,
   "metadata": {
    "executionInfo": {
     "elapsed": 823,
     "status": "ok",
     "timestamp": 1606849749355,
     "user": {
      "displayName": "Edson Venâncio",
      "photoUrl": "",
      "userId": "03024126298677047667"
     },
     "user_tz": 180
    },
    "id": "M7Zwi5HAGrhG"
   },
   "outputs": [],
   "source": [
    "# realizando a leitura do arquivo (dataset)\n",
    "df_bike = pd.read_csv('comp-bikes-mod.csv')"
   ]
  },
  {
   "cell_type": "code",
   "execution_count": 3,
   "metadata": {
    "colab": {
     "base_uri": "https://localhost:8080/",
     "height": 204
    },
    "executionInfo": {
     "elapsed": 920,
     "status": "ok",
     "timestamp": 1606849752806,
     "user": {
      "displayName": "Edson Venâncio",
      "photoUrl": "",
      "userId": "03024126298677047667"
     },
     "user_tz": 180
    },
    "id": "2F2DmuTijtN8",
    "outputId": "f8a98808-1531-4e74-ced3-750a4e6ff1c4"
   },
   "outputs": [
    {
     "data": {
      "text/html": [
       "<div>\n",
       "<style scoped>\n",
       "    .dataframe tbody tr th:only-of-type {\n",
       "        vertical-align: middle;\n",
       "    }\n",
       "\n",
       "    .dataframe tbody tr th {\n",
       "        vertical-align: top;\n",
       "    }\n",
       "\n",
       "    .dataframe thead th {\n",
       "        text-align: right;\n",
       "    }\n",
       "</style>\n",
       "<table border=\"1\" class=\"dataframe\">\n",
       "  <thead>\n",
       "    <tr style=\"text-align: right;\">\n",
       "      <th></th>\n",
       "      <th>instant</th>\n",
       "      <th>dteday</th>\n",
       "      <th>season</th>\n",
       "      <th>yr</th>\n",
       "      <th>mnth</th>\n",
       "      <th>hr</th>\n",
       "      <th>holiday</th>\n",
       "      <th>weekday</th>\n",
       "      <th>workingday</th>\n",
       "      <th>weathersit</th>\n",
       "      <th>temp</th>\n",
       "      <th>atemp</th>\n",
       "      <th>hum</th>\n",
       "      <th>windspeed</th>\n",
       "      <th>casual</th>\n",
       "      <th>registered</th>\n",
       "      <th>cnt</th>\n",
       "    </tr>\n",
       "  </thead>\n",
       "  <tbody>\n",
       "    <tr>\n",
       "      <th>0</th>\n",
       "      <td>1.0</td>\n",
       "      <td>NaN</td>\n",
       "      <td>1.0</td>\n",
       "      <td>0.0</td>\n",
       "      <td>1.0</td>\n",
       "      <td>0.0</td>\n",
       "      <td>0.0</td>\n",
       "      <td>6.0</td>\n",
       "      <td>0.0</td>\n",
       "      <td>1.0</td>\n",
       "      <td>NaN</td>\n",
       "      <td>0.2879</td>\n",
       "      <td>0.81</td>\n",
       "      <td>0.0</td>\n",
       "      <td>3.0</td>\n",
       "      <td>13.0</td>\n",
       "      <td>16.0</td>\n",
       "    </tr>\n",
       "    <tr>\n",
       "      <th>1</th>\n",
       "      <td>2.0</td>\n",
       "      <td>2011-01-01</td>\n",
       "      <td>1.0</td>\n",
       "      <td>0.0</td>\n",
       "      <td>1.0</td>\n",
       "      <td>1.0</td>\n",
       "      <td>0.0</td>\n",
       "      <td>6.0</td>\n",
       "      <td>0.0</td>\n",
       "      <td>NaN</td>\n",
       "      <td>0.22</td>\n",
       "      <td>0.2727</td>\n",
       "      <td>0.80</td>\n",
       "      <td>0.0</td>\n",
       "      <td>8.0</td>\n",
       "      <td>32.0</td>\n",
       "      <td>40.0</td>\n",
       "    </tr>\n",
       "    <tr>\n",
       "      <th>2</th>\n",
       "      <td>3.0</td>\n",
       "      <td>2011-01-01</td>\n",
       "      <td>1.0</td>\n",
       "      <td>0.0</td>\n",
       "      <td>1.0</td>\n",
       "      <td>2.0</td>\n",
       "      <td>0.0</td>\n",
       "      <td>6.0</td>\n",
       "      <td>0.0</td>\n",
       "      <td>1.0</td>\n",
       "      <td>0.22</td>\n",
       "      <td>0.2727</td>\n",
       "      <td>0.80</td>\n",
       "      <td>0.0</td>\n",
       "      <td>5.0</td>\n",
       "      <td>27.0</td>\n",
       "      <td>32.0</td>\n",
       "    </tr>\n",
       "    <tr>\n",
       "      <th>3</th>\n",
       "      <td>4.0</td>\n",
       "      <td>2011-01-01</td>\n",
       "      <td>1.0</td>\n",
       "      <td>0.0</td>\n",
       "      <td>1.0</td>\n",
       "      <td>3.0</td>\n",
       "      <td>0.0</td>\n",
       "      <td>6.0</td>\n",
       "      <td>0.0</td>\n",
       "      <td>1.0</td>\n",
       "      <td>0.24</td>\n",
       "      <td>0.2879</td>\n",
       "      <td>0.75</td>\n",
       "      <td>0.0</td>\n",
       "      <td>3.0</td>\n",
       "      <td>10.0</td>\n",
       "      <td>13.0</td>\n",
       "    </tr>\n",
       "    <tr>\n",
       "      <th>4</th>\n",
       "      <td>5.0</td>\n",
       "      <td>2011-01-01</td>\n",
       "      <td>1.0</td>\n",
       "      <td>0.0</td>\n",
       "      <td>1.0</td>\n",
       "      <td>4.0</td>\n",
       "      <td>0.0</td>\n",
       "      <td>6.0</td>\n",
       "      <td>NaN</td>\n",
       "      <td>1.0</td>\n",
       "      <td>0.24</td>\n",
       "      <td>0.2879</td>\n",
       "      <td>0.75</td>\n",
       "      <td>0.0</td>\n",
       "      <td>0.0</td>\n",
       "      <td>1.0</td>\n",
       "      <td>1.0</td>\n",
       "    </tr>\n",
       "  </tbody>\n",
       "</table>\n",
       "</div>"
      ],
      "text/plain": [
       "   instant      dteday  season   yr  mnth   hr  holiday  weekday  workingday  \\\n",
       "0      1.0         NaN     1.0  0.0   1.0  0.0      0.0      6.0         0.0   \n",
       "1      2.0  2011-01-01     1.0  0.0   1.0  1.0      0.0      6.0         0.0   \n",
       "2      3.0  2011-01-01     1.0  0.0   1.0  2.0      0.0      6.0         0.0   \n",
       "3      4.0  2011-01-01     1.0  0.0   1.0  3.0      0.0      6.0         0.0   \n",
       "4      5.0  2011-01-01     1.0  0.0   1.0  4.0      0.0      6.0         NaN   \n",
       "\n",
       "   weathersit  temp   atemp   hum  windspeed  casual  registered   cnt  \n",
       "0         1.0   NaN  0.2879  0.81        0.0     3.0        13.0  16.0  \n",
       "1         NaN  0.22  0.2727  0.80        0.0     8.0        32.0  40.0  \n",
       "2         1.0  0.22  0.2727  0.80        0.0     5.0        27.0  32.0  \n",
       "3         1.0  0.24  0.2879  0.75        0.0     3.0        10.0  13.0  \n",
       "4         1.0  0.24  0.2879  0.75        0.0     0.0         1.0   1.0  "
      ]
     },
     "execution_count": 3,
     "metadata": {},
     "output_type": "execute_result"
    }
   ],
   "source": [
    "# apresentando as 5 primeiras linhas do dataset (default)\n",
    "df_bike.head()"
   ]
  },
  {
   "cell_type": "markdown",
   "metadata": {
    "id": "aKo1mw42jtN9"
   },
   "source": [
    "#### Quantas instâncias e atributos existem no dataset?"
   ]
  },
  {
   "cell_type": "code",
   "execution_count": 4,
   "metadata": {
    "colab": {
     "base_uri": "https://localhost:8080/"
    },
    "executionInfo": {
     "elapsed": 723,
     "status": "ok",
     "timestamp": 1606849757535,
     "user": {
      "displayName": "Edson Venâncio",
      "photoUrl": "",
      "userId": "03024126298677047667"
     },
     "user_tz": 180
    },
    "id": "BJw43U644ODC",
    "outputId": "1ad98f86-8f67-4005-9977-49dbfc930352"
   },
   "outputs": [
    {
     "data": {
      "text/plain": [
       "(17379, 17)"
      ]
     },
     "execution_count": 4,
     "metadata": {},
     "output_type": "execute_result"
    }
   ],
   "source": [
    "df_bike.shape # verificando as dimensões do dataset"
   ]
  },
  {
   "cell_type": "markdown",
   "metadata": {
    "id": "rVBBb3FajtN9"
   },
   "source": [
    "#### Quantos tipos diferentes de dados existem no dataset?"
   ]
  },
  {
   "cell_type": "code",
   "execution_count": 5,
   "metadata": {
    "colab": {
     "base_uri": "https://localhost:8080/"
    },
    "executionInfo": {
     "elapsed": 1147,
     "status": "ok",
     "timestamp": 1606849760901,
     "user": {
      "displayName": "Edson Venâncio",
      "photoUrl": "",
      "userId": "03024126298677047667"
     },
     "user_tz": 180
    },
    "id": "-CBa-ynrjtN9",
    "outputId": "baffe775-13f5-4dd9-ead8-001dda52e67b"
   },
   "outputs": [
    {
     "name": "stdout",
     "output_type": "stream",
     "text": [
      "<class 'pandas.core.frame.DataFrame'>\n",
      "RangeIndex: 17379 entries, 0 to 17378\n",
      "Data columns (total 17 columns):\n",
      " #   Column      Non-Null Count  Dtype  \n",
      "---  ------      --------------  -----  \n",
      " 0   instant     15641 non-null  float64\n",
      " 1   dteday      15641 non-null  object \n",
      " 2   season      15641 non-null  float64\n",
      " 3   yr          15641 non-null  float64\n",
      " 4   mnth        15641 non-null  float64\n",
      " 5   hr          15641 non-null  float64\n",
      " 6   holiday     15641 non-null  float64\n",
      " 7   weekday     15641 non-null  float64\n",
      " 8   workingday  15641 non-null  float64\n",
      " 9   weathersit  15641 non-null  float64\n",
      " 10  temp        15641 non-null  float64\n",
      " 11  atemp       15641 non-null  float64\n",
      " 12  hum         15641 non-null  float64\n",
      " 13  windspeed   15641 non-null  float64\n",
      " 14  casual      15641 non-null  float64\n",
      " 15  registered  15641 non-null  float64\n",
      " 16  cnt         15641 non-null  float64\n",
      "dtypes: float64(16), object(1)\n",
      "memory usage: 2.3+ MB\n"
     ]
    }
   ],
   "source": [
    "df_bike.info() # verificando os tipos de variáveis e se existem ou não valores nulos"
   ]
  },
  {
   "cell_type": "code",
   "execution_count": 6,
   "metadata": {
    "colab": {
     "base_uri": "https://localhost:8080/"
    },
    "executionInfo": {
     "elapsed": 861,
     "status": "ok",
     "timestamp": 1606849764097,
     "user": {
      "displayName": "Edson Venâncio",
      "photoUrl": "",
      "userId": "03024126298677047667"
     },
     "user_tz": 180
    },
    "id": "4u0P8L0-jtN-",
    "outputId": "6a15ca11-de14-49cf-d16b-eb4179f05673"
   },
   "outputs": [
    {
     "data": {
      "text/plain": [
       "float64    16\n",
       "object      1\n",
       "dtype: int64"
      ]
     },
     "execution_count": 6,
     "metadata": {},
     "output_type": "execute_result"
    }
   ],
   "source": [
    "df_bike.dtypes.value_counts()"
   ]
  },
  {
   "cell_type": "code",
   "execution_count": 7,
   "metadata": {
    "colab": {
     "base_uri": "https://localhost:8080/"
    },
    "executionInfo": {
     "elapsed": 836,
     "status": "ok",
     "timestamp": 1606849766020,
     "user": {
      "displayName": "Edson Venâncio",
      "photoUrl": "",
      "userId": "03024126298677047667"
     },
     "user_tz": 180
    },
    "id": "S6Y1IqyIjtN-",
    "outputId": "7d3b8d8d-00e2-4661-b179-2fcc130220d9"
   },
   "outputs": [
    {
     "data": {
      "text/plain": [
       "2"
      ]
     },
     "execution_count": 7,
     "metadata": {},
     "output_type": "execute_result"
    }
   ],
   "source": [
    "df_bike.dtypes.nunique()"
   ]
  },
  {
   "cell_type": "code",
   "execution_count": 8,
   "metadata": {
    "colab": {
     "base_uri": "https://localhost:8080/"
    },
    "executionInfo": {
     "elapsed": 701,
     "status": "ok",
     "timestamp": 1606849768573,
     "user": {
      "displayName": "Edson Venâncio",
      "photoUrl": "",
      "userId": "03024126298677047667"
     },
     "user_tz": 180
    },
    "id": "6HC_NnJPjtN-",
    "outputId": "2df2b1c7-3338-4c3d-8298-5b0b5a22ba5d"
   },
   "outputs": [
    {
     "data": {
      "text/plain": [
       "instant       1738\n",
       "dteday        1738\n",
       "season        1738\n",
       "yr            1738\n",
       "mnth          1738\n",
       "hr            1738\n",
       "holiday       1738\n",
       "weekday       1738\n",
       "workingday    1738\n",
       "weathersit    1738\n",
       "temp          1738\n",
       "atemp         1738\n",
       "hum           1738\n",
       "windspeed     1738\n",
       "casual        1738\n",
       "registered    1738\n",
       "cnt           1738\n",
       "dtype: int64"
      ]
     },
     "execution_count": 8,
     "metadata": {},
     "output_type": "execute_result"
    }
   ],
   "source": [
    "df_bike.isnull().sum()"
   ]
  },
  {
   "cell_type": "markdown",
   "metadata": {
    "id": "TbdXpfDrjtN-"
   },
   "source": [
    "#### Qual é a proporção (em %) de valores nulos existente na coluna \"temp\" (temperatura ambiente normalizada)?"
   ]
  },
  {
   "cell_type": "code",
   "execution_count": 9,
   "metadata": {
    "colab": {
     "base_uri": "https://localhost:8080/"
    },
    "executionInfo": {
     "elapsed": 658,
     "status": "ok",
     "timestamp": 1606849771770,
     "user": {
      "displayName": "Edson Venâncio",
      "photoUrl": "",
      "userId": "03024126298677047667"
     },
     "user_tz": 180
    },
    "id": "nS8TYKYfjtN-",
    "outputId": "eb4b9aa0-cd02-4186-a4f4-79130fe20b67"
   },
   "outputs": [
    {
     "data": {
      "text/plain": [
       "9.999424626006904"
      ]
     },
     "execution_count": 9,
     "metadata": {},
     "output_type": "execute_result"
    }
   ],
   "source": [
    "len(df_bike['temp']) / df_bike.isnull().sum()['temp']"
   ]
  },
  {
   "cell_type": "markdown",
   "metadata": {
    "id": "QBSzgG2vjtN-"
   },
   "source": [
    "#### Após retirar as linhas que contém valores nulos para a coluna \"dteday\", passamos a contar com quantas instâncias e atributos, respectivamente?"
   ]
  },
  {
   "cell_type": "code",
   "execution_count": 10,
   "metadata": {
    "executionInfo": {
     "elapsed": 827,
     "status": "ok",
     "timestamp": 1606849775704,
     "user": {
      "displayName": "Edson Venâncio",
      "photoUrl": "",
      "userId": "03024126298677047667"
     },
     "user_tz": 180
    },
    "id": "L2rFMxLXjtN-"
   },
   "outputs": [],
   "source": [
    "# deletando as linhas que contém valores nulos para a coluna \"dteday\"\n",
    "df_bike.dropna(subset=['dteday'], inplace=True)"
   ]
  },
  {
   "cell_type": "code",
   "execution_count": 11,
   "metadata": {
    "colab": {
     "base_uri": "https://localhost:8080/"
    },
    "executionInfo": {
     "elapsed": 633,
     "status": "ok",
     "timestamp": 1606849778421,
     "user": {
      "displayName": "Edson Venâncio",
      "photoUrl": "",
      "userId": "03024126298677047667"
     },
     "user_tz": 180
    },
    "id": "SRryAXfJjtN-",
    "outputId": "68e6520f-8524-41c1-ed49-8ec41a328c5f"
   },
   "outputs": [
    {
     "name": "stdout",
     "output_type": "stream",
     "text": [
      "<class 'pandas.core.frame.DataFrame'>\n",
      "Int64Index: 15641 entries, 1 to 17378\n",
      "Data columns (total 17 columns):\n",
      " #   Column      Non-Null Count  Dtype  \n",
      "---  ------      --------------  -----  \n",
      " 0   instant     14060 non-null  float64\n",
      " 1   dteday      15641 non-null  object \n",
      " 2   season      14061 non-null  float64\n",
      " 3   yr          14076 non-null  float64\n",
      " 4   mnth        14062 non-null  float64\n",
      " 5   hr          14068 non-null  float64\n",
      " 6   holiday     14076 non-null  float64\n",
      " 7   weekday     14078 non-null  float64\n",
      " 8   workingday  14097 non-null  float64\n",
      " 9   weathersit  14078 non-null  float64\n",
      " 10  temp        14066 non-null  float64\n",
      " 11  atemp       14076 non-null  float64\n",
      " 12  hum         14070 non-null  float64\n",
      " 13  windspeed   14082 non-null  float64\n",
      " 14  casual      14071 non-null  float64\n",
      " 15  registered  14090 non-null  float64\n",
      " 16  cnt         14079 non-null  float64\n",
      "dtypes: float64(16), object(1)\n",
      "memory usage: 2.1+ MB\n"
     ]
    }
   ],
   "source": [
    "df_bike.info()"
   ]
  },
  {
   "cell_type": "code",
   "execution_count": 12,
   "metadata": {
    "colab": {
     "base_uri": "https://localhost:8080/"
    },
    "executionInfo": {
     "elapsed": 693,
     "status": "ok",
     "timestamp": 1606849782627,
     "user": {
      "displayName": "Edson Venâncio",
      "photoUrl": "",
      "userId": "03024126298677047667"
     },
     "user_tz": 180
    },
    "id": "hEuya2FbjtN-",
    "outputId": "22ab5764-22f4-4976-c7b1-8e0c3803d547"
   },
   "outputs": [
    {
     "data": {
      "text/plain": [
       "instant       1581\n",
       "dteday           0\n",
       "season        1580\n",
       "yr            1565\n",
       "mnth          1579\n",
       "hr            1573\n",
       "holiday       1565\n",
       "weekday       1563\n",
       "workingday    1544\n",
       "weathersit    1563\n",
       "temp          1575\n",
       "atemp         1565\n",
       "hum           1571\n",
       "windspeed     1559\n",
       "casual        1570\n",
       "registered    1551\n",
       "cnt           1562\n",
       "dtype: int64"
      ]
     },
     "execution_count": 12,
     "metadata": {},
     "output_type": "execute_result"
    }
   ],
   "source": [
    "df_bike.isnull().sum()"
   ]
  },
  {
   "cell_type": "code",
   "execution_count": 13,
   "metadata": {
    "colab": {
     "base_uri": "https://localhost:8080/"
    },
    "executionInfo": {
     "elapsed": 868,
     "status": "ok",
     "timestamp": 1606849785711,
     "user": {
      "displayName": "Edson Venâncio",
      "photoUrl": "",
      "userId": "03024126298677047667"
     },
     "user_tz": 180
    },
    "id": "MKHFv22fjtN_",
    "outputId": "eb1f2c06-13e4-4c3e-9a8e-ad13beea2823"
   },
   "outputs": [
    {
     "data": {
      "text/plain": [
       "(15641, 17)"
      ]
     },
     "execution_count": 13,
     "metadata": {},
     "output_type": "execute_result"
    }
   ],
   "source": [
    "df_bike.shape"
   ]
  },
  {
   "cell_type": "markdown",
   "metadata": {
    "id": "Qk1eEbsljtN_"
   },
   "source": [
    "Considere o dataset após a retirada das linhas que continham valores nulos para a coluna \"dteday\".\n",
    "\n",
    "#### Qual é o valor médio para os dados da coluna \"temp\" (temperatura ambiente normalizada)?\n",
    "\n",
    "#### Qual é o desvio padrão para os dados da coluna \"windspeed\" (velocidade do vento normalizada)?"
   ]
  },
  {
   "cell_type": "code",
   "execution_count": 14,
   "metadata": {
    "colab": {
     "base_uri": "https://localhost:8080/",
     "height": 317
    },
    "executionInfo": {
     "elapsed": 951,
     "status": "ok",
     "timestamp": 1606849789056,
     "user": {
      "displayName": "Edson Venâncio",
      "photoUrl": "",
      "userId": "03024126298677047667"
     },
     "user_tz": 180
    },
    "id": "w-MowEl1jtN_",
    "outputId": "dd1d56ed-a9b1-4206-bda3-8484a90cb898"
   },
   "outputs": [
    {
     "data": {
      "text/html": [
       "<div>\n",
       "<style scoped>\n",
       "    .dataframe tbody tr th:only-of-type {\n",
       "        vertical-align: middle;\n",
       "    }\n",
       "\n",
       "    .dataframe tbody tr th {\n",
       "        vertical-align: top;\n",
       "    }\n",
       "\n",
       "    .dataframe thead th {\n",
       "        text-align: right;\n",
       "    }\n",
       "</style>\n",
       "<table border=\"1\" class=\"dataframe\">\n",
       "  <thead>\n",
       "    <tr style=\"text-align: right;\">\n",
       "      <th></th>\n",
       "      <th>instant</th>\n",
       "      <th>season</th>\n",
       "      <th>yr</th>\n",
       "      <th>mnth</th>\n",
       "      <th>hr</th>\n",
       "      <th>holiday</th>\n",
       "      <th>weekday</th>\n",
       "      <th>workingday</th>\n",
       "      <th>weathersit</th>\n",
       "      <th>temp</th>\n",
       "      <th>atemp</th>\n",
       "      <th>hum</th>\n",
       "      <th>windspeed</th>\n",
       "      <th>casual</th>\n",
       "      <th>registered</th>\n",
       "      <th>cnt</th>\n",
       "    </tr>\n",
       "  </thead>\n",
       "  <tbody>\n",
       "    <tr>\n",
       "      <th>count</th>\n",
       "      <td>14060.000000</td>\n",
       "      <td>14061.000000</td>\n",
       "      <td>14076.000000</td>\n",
       "      <td>14062.000000</td>\n",
       "      <td>14068.000000</td>\n",
       "      <td>14076.000000</td>\n",
       "      <td>14078.000000</td>\n",
       "      <td>14097.000000</td>\n",
       "      <td>14078.000000</td>\n",
       "      <td>14066.000000</td>\n",
       "      <td>14076.000000</td>\n",
       "      <td>14070.000000</td>\n",
       "      <td>14082.000000</td>\n",
       "      <td>14071.000000</td>\n",
       "      <td>14090.000000</td>\n",
       "      <td>14079.000000</td>\n",
       "    </tr>\n",
       "    <tr>\n",
       "      <th>mean</th>\n",
       "      <td>8679.717496</td>\n",
       "      <td>2.507930</td>\n",
       "      <td>0.501563</td>\n",
       "      <td>6.542810</td>\n",
       "      <td>11.486779</td>\n",
       "      <td>0.027707</td>\n",
       "      <td>3.006535</td>\n",
       "      <td>0.683053</td>\n",
       "      <td>1.422432</td>\n",
       "      <td>0.496926</td>\n",
       "      <td>0.476055</td>\n",
       "      <td>0.627357</td>\n",
       "      <td>0.189552</td>\n",
       "      <td>35.416317</td>\n",
       "      <td>153.280625</td>\n",
       "      <td>189.165850</td>\n",
       "    </tr>\n",
       "    <tr>\n",
       "      <th>std</th>\n",
       "      <td>5015.960092</td>\n",
       "      <td>1.110674</td>\n",
       "      <td>0.500015</td>\n",
       "      <td>3.443693</td>\n",
       "      <td>6.915101</td>\n",
       "      <td>0.164137</td>\n",
       "      <td>2.002829</td>\n",
       "      <td>0.465303</td>\n",
       "      <td>0.638937</td>\n",
       "      <td>0.192971</td>\n",
       "      <td>0.172827</td>\n",
       "      <td>0.192863</td>\n",
       "      <td>0.122309</td>\n",
       "      <td>48.770799</td>\n",
       "      <td>151.317869</td>\n",
       "      <td>181.223589</td>\n",
       "    </tr>\n",
       "    <tr>\n",
       "      <th>min</th>\n",
       "      <td>2.000000</td>\n",
       "      <td>1.000000</td>\n",
       "      <td>0.000000</td>\n",
       "      <td>1.000000</td>\n",
       "      <td>0.000000</td>\n",
       "      <td>0.000000</td>\n",
       "      <td>0.000000</td>\n",
       "      <td>0.000000</td>\n",
       "      <td>1.000000</td>\n",
       "      <td>0.020000</td>\n",
       "      <td>0.000000</td>\n",
       "      <td>0.000000</td>\n",
       "      <td>0.000000</td>\n",
       "      <td>0.000000</td>\n",
       "      <td>0.000000</td>\n",
       "      <td>1.000000</td>\n",
       "    </tr>\n",
       "    <tr>\n",
       "      <th>25%</th>\n",
       "      <td>4336.250000</td>\n",
       "      <td>2.000000</td>\n",
       "      <td>0.000000</td>\n",
       "      <td>4.000000</td>\n",
       "      <td>6.000000</td>\n",
       "      <td>0.000000</td>\n",
       "      <td>1.000000</td>\n",
       "      <td>0.000000</td>\n",
       "      <td>1.000000</td>\n",
       "      <td>0.340000</td>\n",
       "      <td>0.333300</td>\n",
       "      <td>0.480000</td>\n",
       "      <td>0.104500</td>\n",
       "      <td>4.000000</td>\n",
       "      <td>34.000000</td>\n",
       "      <td>40.000000</td>\n",
       "    </tr>\n",
       "    <tr>\n",
       "      <th>50%</th>\n",
       "      <td>8677.500000</td>\n",
       "      <td>3.000000</td>\n",
       "      <td>1.000000</td>\n",
       "      <td>7.000000</td>\n",
       "      <td>11.000000</td>\n",
       "      <td>0.000000</td>\n",
       "      <td>3.000000</td>\n",
       "      <td>1.000000</td>\n",
       "      <td>1.000000</td>\n",
       "      <td>0.500000</td>\n",
       "      <td>0.484800</td>\n",
       "      <td>0.630000</td>\n",
       "      <td>0.164200</td>\n",
       "      <td>17.000000</td>\n",
       "      <td>115.000000</td>\n",
       "      <td>142.000000</td>\n",
       "    </tr>\n",
       "    <tr>\n",
       "      <th>75%</th>\n",
       "      <td>13024.250000</td>\n",
       "      <td>3.000000</td>\n",
       "      <td>1.000000</td>\n",
       "      <td>10.000000</td>\n",
       "      <td>17.000000</td>\n",
       "      <td>0.000000</td>\n",
       "      <td>5.000000</td>\n",
       "      <td>1.000000</td>\n",
       "      <td>2.000000</td>\n",
       "      <td>0.660000</td>\n",
       "      <td>0.621200</td>\n",
       "      <td>0.780000</td>\n",
       "      <td>0.253700</td>\n",
       "      <td>48.000000</td>\n",
       "      <td>219.000000</td>\n",
       "      <td>280.000000</td>\n",
       "    </tr>\n",
       "    <tr>\n",
       "      <th>max</th>\n",
       "      <td>17376.000000</td>\n",
       "      <td>4.000000</td>\n",
       "      <td>1.000000</td>\n",
       "      <td>12.000000</td>\n",
       "      <td>23.000000</td>\n",
       "      <td>1.000000</td>\n",
       "      <td>6.000000</td>\n",
       "      <td>1.000000</td>\n",
       "      <td>4.000000</td>\n",
       "      <td>1.000000</td>\n",
       "      <td>1.000000</td>\n",
       "      <td>1.000000</td>\n",
       "      <td>0.850700</td>\n",
       "      <td>367.000000</td>\n",
       "      <td>886.000000</td>\n",
       "      <td>977.000000</td>\n",
       "    </tr>\n",
       "  </tbody>\n",
       "</table>\n",
       "</div>"
      ],
      "text/plain": [
       "            instant        season            yr          mnth            hr  \\\n",
       "count  14060.000000  14061.000000  14076.000000  14062.000000  14068.000000   \n",
       "mean    8679.717496      2.507930      0.501563      6.542810     11.486779   \n",
       "std     5015.960092      1.110674      0.500015      3.443693      6.915101   \n",
       "min        2.000000      1.000000      0.000000      1.000000      0.000000   \n",
       "25%     4336.250000      2.000000      0.000000      4.000000      6.000000   \n",
       "50%     8677.500000      3.000000      1.000000      7.000000     11.000000   \n",
       "75%    13024.250000      3.000000      1.000000     10.000000     17.000000   \n",
       "max    17376.000000      4.000000      1.000000     12.000000     23.000000   \n",
       "\n",
       "            holiday       weekday    workingday    weathersit          temp  \\\n",
       "count  14076.000000  14078.000000  14097.000000  14078.000000  14066.000000   \n",
       "mean       0.027707      3.006535      0.683053      1.422432      0.496926   \n",
       "std        0.164137      2.002829      0.465303      0.638937      0.192971   \n",
       "min        0.000000      0.000000      0.000000      1.000000      0.020000   \n",
       "25%        0.000000      1.000000      0.000000      1.000000      0.340000   \n",
       "50%        0.000000      3.000000      1.000000      1.000000      0.500000   \n",
       "75%        0.000000      5.000000      1.000000      2.000000      0.660000   \n",
       "max        1.000000      6.000000      1.000000      4.000000      1.000000   \n",
       "\n",
       "              atemp           hum     windspeed        casual    registered  \\\n",
       "count  14076.000000  14070.000000  14082.000000  14071.000000  14090.000000   \n",
       "mean       0.476055      0.627357      0.189552     35.416317    153.280625   \n",
       "std        0.172827      0.192863      0.122309     48.770799    151.317869   \n",
       "min        0.000000      0.000000      0.000000      0.000000      0.000000   \n",
       "25%        0.333300      0.480000      0.104500      4.000000     34.000000   \n",
       "50%        0.484800      0.630000      0.164200     17.000000    115.000000   \n",
       "75%        0.621200      0.780000      0.253700     48.000000    219.000000   \n",
       "max        1.000000      1.000000      0.850700    367.000000    886.000000   \n",
       "\n",
       "                cnt  \n",
       "count  14079.000000  \n",
       "mean     189.165850  \n",
       "std      181.223589  \n",
       "min        1.000000  \n",
       "25%       40.000000  \n",
       "50%      142.000000  \n",
       "75%      280.000000  \n",
       "max      977.000000  "
      ]
     },
     "execution_count": 14,
     "metadata": {},
     "output_type": "execute_result"
    }
   ],
   "source": [
    "# analisando a \"estatística\" do dataset\n",
    "df_bike.describe()"
   ]
  },
  {
   "cell_type": "code",
   "execution_count": 15,
   "metadata": {
    "colab": {
     "base_uri": "https://localhost:8080/"
    },
    "executionInfo": {
     "elapsed": 900,
     "status": "ok",
     "timestamp": 1606849792571,
     "user": {
      "displayName": "Edson Venâncio",
      "photoUrl": "",
      "userId": "03024126298677047667"
     },
     "user_tz": 180
    },
    "id": "kq-FKYrRlgfc",
    "outputId": "6e5bb51b-7e5f-4109-ef4a-fc4c6872e49e"
   },
   "outputs": [
    {
     "data": {
      "text/plain": [
       "0.4969259206597582"
      ]
     },
     "execution_count": 15,
     "metadata": {},
     "output_type": "execute_result"
    }
   ],
   "source": [
    "df_bike['temp'].mean()"
   ]
  },
  {
   "cell_type": "code",
   "execution_count": 16,
   "metadata": {
    "colab": {
     "base_uri": "https://localhost:8080/"
    },
    "executionInfo": {
     "elapsed": 696,
     "status": "ok",
     "timestamp": 1606849794645,
     "user": {
      "displayName": "Edson Venâncio",
      "photoUrl": "",
      "userId": "03024126298677047667"
     },
     "user_tz": 180
    },
    "id": "JOkLpd5mlxps",
    "outputId": "e0587773-0f51-49e3-c0d7-dc161cfebcc9"
   },
   "outputs": [
    {
     "data": {
      "text/plain": [
       "0.12230930508286268"
      ]
     },
     "execution_count": 16,
     "metadata": {},
     "output_type": "execute_result"
    }
   ],
   "source": [
    "df_bike['windspeed'].std()"
   ]
  },
  {
   "cell_type": "markdown",
   "metadata": {
    "id": "a4R3_aKHjtN_"
   },
   "source": [
    "#### Transforme a coluna \"season\" em valores categóricos. Quantas categorias diferentes existem?"
   ]
  },
  {
   "cell_type": "code",
   "execution_count": 17,
   "metadata": {
    "executionInfo": {
     "elapsed": 736,
     "status": "ok",
     "timestamp": 1606849798333,
     "user": {
      "displayName": "Edson Venâncio",
      "photoUrl": "",
      "userId": "03024126298677047667"
     },
     "user_tz": 180
    },
    "id": "fvdW7c3HjtN_"
   },
   "outputs": [],
   "source": [
    "df_bike['season'] = df_bike['season'].astype('category')"
   ]
  },
  {
   "cell_type": "code",
   "execution_count": 18,
   "metadata": {
    "colab": {
     "base_uri": "https://localhost:8080/"
    },
    "executionInfo": {
     "elapsed": 781,
     "status": "ok",
     "timestamp": 1606849800573,
     "user": {
      "displayName": "Edson Venâncio",
      "photoUrl": "",
      "userId": "03024126298677047667"
     },
     "user_tz": 180
    },
    "id": "GsbfZs3MjtN_",
    "outputId": "c0b7d5f8-03cf-46fc-8792-37157bab62b1"
   },
   "outputs": [
    {
     "name": "stdout",
     "output_type": "stream",
     "text": [
      "<class 'pandas.core.frame.DataFrame'>\n",
      "Int64Index: 15641 entries, 1 to 17378\n",
      "Data columns (total 17 columns):\n",
      " #   Column      Non-Null Count  Dtype   \n",
      "---  ------      --------------  -----   \n",
      " 0   instant     14060 non-null  float64 \n",
      " 1   dteday      15641 non-null  object  \n",
      " 2   season      14061 non-null  category\n",
      " 3   yr          14076 non-null  float64 \n",
      " 4   mnth        14062 non-null  float64 \n",
      " 5   hr          14068 non-null  float64 \n",
      " 6   holiday     14076 non-null  float64 \n",
      " 7   weekday     14078 non-null  float64 \n",
      " 8   workingday  14097 non-null  float64 \n",
      " 9   weathersit  14078 non-null  float64 \n",
      " 10  temp        14066 non-null  float64 \n",
      " 11  atemp       14076 non-null  float64 \n",
      " 12  hum         14070 non-null  float64 \n",
      " 13  windspeed   14082 non-null  float64 \n",
      " 14  casual      14071 non-null  float64 \n",
      " 15  registered  14090 non-null  float64 \n",
      " 16  cnt         14079 non-null  float64 \n",
      "dtypes: category(1), float64(15), object(1)\n",
      "memory usage: 2.0+ MB\n"
     ]
    }
   ],
   "source": [
    "df_bike.info()"
   ]
  },
  {
   "cell_type": "code",
   "execution_count": 19,
   "metadata": {
    "colab": {
     "base_uri": "https://localhost:8080/"
    },
    "executionInfo": {
     "elapsed": 897,
     "status": "ok",
     "timestamp": 1606849804410,
     "user": {
      "displayName": "Edson Venâncio",
      "photoUrl": "",
      "userId": "03024126298677047667"
     },
     "user_tz": 180
    },
    "id": "x5IwODU0jtN_",
    "outputId": "aa664949-38ce-4976-a05e-2f8498925d4b"
   },
   "outputs": [
    {
     "name": "stdout",
     "output_type": "stream",
     "text": [
      "Existem 4 categorias diferentes no dataset\n"
     ]
    }
   ],
   "source": [
    "print('Existem {} categorias diferentes no dataset'.format(df_bike['season'].nunique()))"
   ]
  },
  {
   "cell_type": "markdown",
   "metadata": {
    "id": "paL23AaDjtN_"
   },
   "source": [
    "#### Transforme a coluna \"dteday\" no tipo \"datetime\". Qual é a última data presente no dataset (YYYY-MM-DD)?"
   ]
  },
  {
   "cell_type": "code",
   "execution_count": 20,
   "metadata": {
    "colab": {
     "base_uri": "https://localhost:8080/"
    },
    "executionInfo": {
     "elapsed": 689,
     "status": "ok",
     "timestamp": 1606849808678,
     "user": {
      "displayName": "Edson Venâncio",
      "photoUrl": "",
      "userId": "03024126298677047667"
     },
     "user_tz": 180
    },
    "id": "ogplAtg4He2Z",
    "outputId": "99bdf0e8-e3d3-4834-ee56-c01277b1c97e"
   },
   "outputs": [
    {
     "name": "stdout",
     "output_type": "stream",
     "text": [
      "<class 'pandas.core.frame.DataFrame'>\n",
      "Int64Index: 15641 entries, 1 to 17378\n",
      "Data columns (total 17 columns):\n",
      " #   Column      Non-Null Count  Dtype         \n",
      "---  ------      --------------  -----         \n",
      " 0   instant     14060 non-null  float64       \n",
      " 1   dteday      15641 non-null  datetime64[ns]\n",
      " 2   season      14061 non-null  category      \n",
      " 3   yr          14076 non-null  float64       \n",
      " 4   mnth        14062 non-null  float64       \n",
      " 5   hr          14068 non-null  float64       \n",
      " 6   holiday     14076 non-null  float64       \n",
      " 7   weekday     14078 non-null  float64       \n",
      " 8   workingday  14097 non-null  float64       \n",
      " 9   weathersit  14078 non-null  float64       \n",
      " 10  temp        14066 non-null  float64       \n",
      " 11  atemp       14076 non-null  float64       \n",
      " 12  hum         14070 non-null  float64       \n",
      " 13  windspeed   14082 non-null  float64       \n",
      " 14  casual      14071 non-null  float64       \n",
      " 15  registered  14090 non-null  float64       \n",
      " 16  cnt         14079 non-null  float64       \n",
      "dtypes: category(1), datetime64[ns](1), float64(15)\n",
      "memory usage: 2.0 MB\n"
     ]
    }
   ],
   "source": [
    "# convertendo a coluna \"dteday\" (string) para o tipo datetime\n",
    "df_bike.dteday = pd.to_datetime(df_bike.dteday)\n",
    "df_bike.info()"
   ]
  },
  {
   "cell_type": "code",
   "execution_count": 21,
   "metadata": {
    "colab": {
     "base_uri": "https://localhost:8080/"
    },
    "executionInfo": {
     "elapsed": 1049,
     "status": "ok",
     "timestamp": 1606849812736,
     "user": {
      "displayName": "Edson Venâncio",
      "photoUrl": "",
      "userId": "03024126298677047667"
     },
     "user_tz": 180
    },
    "id": "Nwjj1E27jtN_",
    "outputId": "c01593e5-0118-4d2d-b3cf-82bd81729dd6"
   },
   "outputs": [
    {
     "name": "stdout",
     "output_type": "stream",
     "text": [
      "A última data presente no dataset é 2012-12-31 00:00:00\n"
     ]
    }
   ],
   "source": [
    "print('A última data presente no dataset é {}'.format(df_bike['dteday'].max()))"
   ]
  },
  {
   "cell_type": "markdown",
   "metadata": {
    "id": "B6fw-T91jtN_"
   },
   "source": [
    "#### Existem possíveis outliers?"
   ]
  },
  {
   "cell_type": "code",
   "execution_count": 22,
   "metadata": {
    "colab": {
     "base_uri": "https://localhost:8080/",
     "height": 282
    },
    "executionInfo": {
     "elapsed": 984,
     "status": "ok",
     "timestamp": 1606849818179,
     "user": {
      "displayName": "Edson Venâncio",
      "photoUrl": "",
      "userId": "03024126298677047667"
     },
     "user_tz": 180
    },
    "id": "jzy2Rk5yjtN_",
    "outputId": "1fe1951d-4984-4147-88a9-e5e5121709c4",
    "scrolled": true
   },
   "outputs": [
    {
     "data": {
      "text/plain": [
       "<matplotlib.axes._subplots.AxesSubplot at 0x25a95d4aeb0>"
      ]
     },
     "execution_count": 22,
     "metadata": {},
     "output_type": "execute_result"
    },
    {
     "data": {
      "image/png": "[encoded data removed]",
      "text/plain": [
       "<Figure size 432x288 with 1 Axes>"
      ]
     },
     "metadata": {
      "needs_background": "light"
     },
     "output_type": "display_data"
    }
   ],
   "source": [
    "# identificando possíveis outliers\n",
    "df_bike.boxplot(['windspeed'])\n",
    "# df_bike[['windspeed']].boxplot()"
   ]
  },
  {
   "cell_type": "code",
   "execution_count": 23,
   "metadata": {
    "colab": {
     "base_uri": "https://localhost:8080/",
     "height": 83
    },
    "executionInfo": {
     "elapsed": 726,
     "status": "ok",
     "timestamp": 1606849821715,
     "user": {
      "displayName": "Edson Venâncio",
      "photoUrl": "",
      "userId": "03024126298677047667"
     },
     "user_tz": 180
    },
    "id": "yCFklj4vjtOA",
    "outputId": "8a8b9a10-e0b6-4547-c3fc-a7424be6930d"
   },
   "outputs": [
    {
     "name": "stderr",
     "output_type": "stream",
     "text": [
      "<ipython-input-23-22dda3b4778b>:5: RuntimeWarning: invalid value encountered in greater\n",
      "  result = np.where(z > threshold)\n"
     ]
    },
    {
     "data": {
      "text/html": [
       "<div>\n",
       "<style scoped>\n",
       "    .dataframe tbody tr th:only-of-type {\n",
       "        vertical-align: middle;\n",
       "    }\n",
       "\n",
       "    .dataframe tbody tr th {\n",
       "        vertical-align: top;\n",
       "    }\n",
       "\n",
       "    .dataframe thead th {\n",
       "        text-align: right;\n",
       "    }\n",
       "</style>\n",
       "<table border=\"1\" class=\"dataframe\">\n",
       "  <thead>\n",
       "    <tr style=\"text-align: right;\">\n",
       "      <th></th>\n",
       "      <th>instant</th>\n",
       "      <th>dteday</th>\n",
       "      <th>season</th>\n",
       "      <th>yr</th>\n",
       "      <th>mnth</th>\n",
       "      <th>hr</th>\n",
       "      <th>holiday</th>\n",
       "      <th>weekday</th>\n",
       "      <th>workingday</th>\n",
       "      <th>weathersit</th>\n",
       "      <th>temp</th>\n",
       "      <th>atemp</th>\n",
       "      <th>hum</th>\n",
       "      <th>windspeed</th>\n",
       "      <th>casual</th>\n",
       "      <th>registered</th>\n",
       "      <th>cnt</th>\n",
       "    </tr>\n",
       "  </thead>\n",
       "  <tbody>\n",
       "  </tbody>\n",
       "</table>\n",
       "</div>"
      ],
      "text/plain": [
       "Empty DataFrame\n",
       "Columns: [instant, dteday, season, yr, mnth, hr, holiday, weekday, workingday, weathersit, temp, atemp, hum, windspeed, casual, registered, cnt]\n",
       "Index: []"
      ]
     },
     "execution_count": 23,
     "metadata": {},
     "output_type": "execute_result"
    }
   ],
   "source": [
    "# z-score\n",
    "from scipy import stats\n",
    "z = np.abs(stats.zscore(df_bike['windspeed'].values))\n",
    "threshold = 3\n",
    "result = np.where(z > threshold)\n",
    "\n",
    "df_velocidade_vento_outlier = df_bike.iloc[result[0]]\n",
    "df_velocidade_vento_outlier"
   ]
  },
  {
   "cell_type": "markdown",
   "metadata": {
    "id": "zd84pyyTjtOA"
   },
   "source": [
    "#### Realize o plot da matriz de correlação, utilizando as colunas \"season\", \"temp\", \"atemp\", \"hum\", \"windspeed\" e \"cnt\".\n",
    "#### O que podemos afirmar sobre as variáveis \"hum\" e \"cnt\"?"
   ]
  },
  {
   "cell_type": "code",
   "execution_count": 24,
   "metadata": {
    "colab": {
     "base_uri": "https://localhost:8080/",
     "height": 204
    },
    "executionInfo": {
     "elapsed": 738,
     "status": "ok",
     "timestamp": 1606849831481,
     "user": {
      "displayName": "Edson Venâncio",
      "photoUrl": "",
      "userId": "03024126298677047667"
     },
     "user_tz": 180
    },
    "id": "YPbQJt3kjtOA",
    "outputId": "aa87ba8f-8d3c-43f6-c368-e60becde6fe1"
   },
   "outputs": [
    {
     "data": {
      "text/html": [
       "<div>\n",
       "<style scoped>\n",
       "    .dataframe tbody tr th:only-of-type {\n",
       "        vertical-align: middle;\n",
       "    }\n",
       "\n",
       "    .dataframe tbody tr th {\n",
       "        vertical-align: top;\n",
       "    }\n",
       "\n",
       "    .dataframe thead th {\n",
       "        text-align: right;\n",
       "    }\n",
       "</style>\n",
       "<table border=\"1\" class=\"dataframe\">\n",
       "  <thead>\n",
       "    <tr style=\"text-align: right;\">\n",
       "      <th></th>\n",
       "      <th>season</th>\n",
       "      <th>temp</th>\n",
       "      <th>atemp</th>\n",
       "      <th>hum</th>\n",
       "      <th>windspeed</th>\n",
       "      <th>cnt</th>\n",
       "    </tr>\n",
       "  </thead>\n",
       "  <tbody>\n",
       "    <tr>\n",
       "      <th>1</th>\n",
       "      <td>1.0</td>\n",
       "      <td>0.22</td>\n",
       "      <td>0.2727</td>\n",
       "      <td>0.80</td>\n",
       "      <td>0.0000</td>\n",
       "      <td>40.0</td>\n",
       "    </tr>\n",
       "    <tr>\n",
       "      <th>2</th>\n",
       "      <td>1.0</td>\n",
       "      <td>0.22</td>\n",
       "      <td>0.2727</td>\n",
       "      <td>0.80</td>\n",
       "      <td>0.0000</td>\n",
       "      <td>32.0</td>\n",
       "    </tr>\n",
       "    <tr>\n",
       "      <th>3</th>\n",
       "      <td>1.0</td>\n",
       "      <td>0.24</td>\n",
       "      <td>0.2879</td>\n",
       "      <td>0.75</td>\n",
       "      <td>0.0000</td>\n",
       "      <td>13.0</td>\n",
       "    </tr>\n",
       "    <tr>\n",
       "      <th>4</th>\n",
       "      <td>1.0</td>\n",
       "      <td>0.24</td>\n",
       "      <td>0.2879</td>\n",
       "      <td>0.75</td>\n",
       "      <td>0.0000</td>\n",
       "      <td>1.0</td>\n",
       "    </tr>\n",
       "    <tr>\n",
       "      <th>5</th>\n",
       "      <td>1.0</td>\n",
       "      <td>0.24</td>\n",
       "      <td>0.2576</td>\n",
       "      <td>0.75</td>\n",
       "      <td>0.0896</td>\n",
       "      <td>1.0</td>\n",
       "    </tr>\n",
       "  </tbody>\n",
       "</table>\n",
       "</div>"
      ],
      "text/plain": [
       "  season  temp   atemp   hum  windspeed   cnt\n",
       "1    1.0  0.22  0.2727  0.80     0.0000  40.0\n",
       "2    1.0  0.22  0.2727  0.80     0.0000  32.0\n",
       "3    1.0  0.24  0.2879  0.75     0.0000  13.0\n",
       "4    1.0  0.24  0.2879  0.75     0.0000   1.0\n",
       "5    1.0  0.24  0.2576  0.75     0.0896   1.0"
      ]
     },
     "execution_count": 24,
     "metadata": {},
     "output_type": "execute_result"
    }
   ],
   "source": [
    "new_df_bike = df_bike[['season','temp','atemp','hum','windspeed','cnt']]\n",
    "new_df_bike.head()"
   ]
  },
  {
   "cell_type": "code",
   "execution_count": 25,
   "metadata": {
    "colab": {
     "base_uri": "https://localhost:8080/",
     "height": 487
    },
    "executionInfo": {
     "elapsed": 1259,
     "status": "ok",
     "timestamp": 1606849837094,
     "user": {
      "displayName": "Edson Venâncio",
      "photoUrl": "",
      "userId": "03024126298677047667"
     },
     "user_tz": 180
    },
    "id": "QEXCcfnvjtOA",
    "outputId": "fde2ad64-6635-4d73-eeca-0075518676b6"
   },
   "outputs": [
    {
     "data": {
      "image/png": "[encoded data removed]",
      "text/plain": [
       "<Figure size 864x576 with 2 Axes>"
      ]
     },
     "metadata": {
      "needs_background": "light"
     },
     "output_type": "display_data"
    }
   ],
   "source": [
    "# realizando o plot da matriz de correlação\n",
    "plt.figure(figsize=(12, 8))\n",
    "matriz_de_correlação = new_df_bike.corr() # construindo a matriz de correlação\n",
    "sns.heatmap(matriz_de_correlação, annot=True, vmin=-1, vmax=1, center=0) # plotando a matriz de correlação com o seaborn\n",
    "plt.show()"
   ]
  },
  {
   "cell_type": "markdown",
   "metadata": {
    "id": "0P3U1iXRjtOA"
   },
   "source": [
    "#### Aplique uma regressão linear utilizando as variáveis \"hum\" e \"casual\" como independentes e a \"cnt\" como dependente, após preencher os valores nulos das respectivas colunas com os valores médios.\n",
    "#### Qual o valor de R2? Utilize as entradas como teste."
   ]
  },
  {
   "cell_type": "code",
   "execution_count": 26,
   "metadata": {
    "executionInfo": {
     "elapsed": 1076,
     "status": "ok",
     "timestamp": 1606849849217,
     "user": {
      "displayName": "Edson Venâncio",
      "photoUrl": "",
      "userId": "03024126298677047667"
     },
     "user_tz": 180
    },
    "id": "-_V8Hyq8jtOA"
   },
   "outputs": [],
   "source": [
    "df_bike_regressao = df_bike[['hum','cnt','casual']] # filtrando as colunas necessárias"
   ]
  },
  {
   "cell_type": "code",
   "execution_count": 27,
   "metadata": {
    "colab": {
     "base_uri": "https://localhost:8080/"
    },
    "executionInfo": {
     "elapsed": 799,
     "status": "ok",
     "timestamp": 1606849851130,
     "user": {
      "displayName": "Edson Venâncio",
      "photoUrl": "",
      "userId": "03024126298677047667"
     },
     "user_tz": 180
    },
    "id": "IwBcVUhejtOA",
    "outputId": "ced8ad9d-9974-4bb7-aace-3731b9068207"
   },
   "outputs": [
    {
     "name": "stderr",
     "output_type": "stream",
     "text": [
      "C:\\Users\\Edson\\anaconda3\\lib\\site-packages\\pandas\\core\\generic.py:6245: SettingWithCopyWarning: \n",
      "A value is trying to be set on a copy of a slice from a DataFrame\n",
      "\n",
      "See the caveats in the documentation: https://pandas.pydata.org/pandas-docs/stable/user_guide/indexing.html#returning-a-view-versus-a-copy\n",
      "  self._update_inplace(new_data)\n"
     ]
    }
   ],
   "source": [
    "df_bike_regressao.fillna(df_bike_regressao.mean(), inplace=True) # aplicando a modificação para os valores nulos"
   ]
  },
  {
   "cell_type": "code",
   "execution_count": 28,
   "metadata": {
    "colab": {
     "base_uri": "https://localhost:8080/"
    },
    "executionInfo": {
     "elapsed": 633,
     "status": "ok",
     "timestamp": 1606849853518,
     "user": {
      "displayName": "Edson Venâncio",
      "photoUrl": "",
      "userId": "03024126298677047667"
     },
     "user_tz": 180
    },
    "id": "h6O6xsXPjtOA",
    "outputId": "d3293d00-9fe6-4aee-bff9-64280b9de578"
   },
   "outputs": [
    {
     "data": {
      "text/plain": [
       "hum       0\n",
       "cnt       0\n",
       "casual    0\n",
       "dtype: int64"
      ]
     },
     "execution_count": 28,
     "metadata": {},
     "output_type": "execute_result"
    }
   ],
   "source": [
    "df_bike_regressao.isnull().sum() # verificando se os valores foram preenchidos"
   ]
  },
  {
   "cell_type": "code",
   "execution_count": 29,
   "metadata": {
    "executionInfo": {
     "elapsed": 684,
     "status": "ok",
     "timestamp": 1606849856251,
     "user": {
      "displayName": "Edson Venâncio",
      "photoUrl": "",
      "userId": "03024126298677047667"
     },
     "user_tz": 180
    },
    "id": "mmWZ_6iLjtOA"
   },
   "outputs": [],
   "source": [
    "# realizando a análise de regressão\n",
    "entradas_regressao = df_bike_regressao[['hum','casual']] # variáveis independentes, preditoras\n",
    "saida_regressao = df_bike_regressao['cnt'] # variável dependente "
   ]
  },
  {
   "cell_type": "code",
   "execution_count": 30,
   "metadata": {
    "colab": {
     "base_uri": "https://localhost:8080/"
    },
    "executionInfo": {
     "elapsed": 642,
     "status": "ok",
     "timestamp": 1606849858043,
     "user": {
      "displayName": "Edson Venâncio",
      "photoUrl": "",
      "userId": "03024126298677047667"
     },
     "user_tz": 180
    },
    "id": "g5uFWxGcjtOA",
    "outputId": "ac57f4d1-5d27-42cc-dd14-0bd996bea295"
   },
   "outputs": [
    {
     "data": {
      "text/plain": [
       "(15641, 2)"
      ]
     },
     "execution_count": 30,
     "metadata": {},
     "output_type": "execute_result"
    }
   ],
   "source": [
    "entradas_regressao.shape"
   ]
  },
  {
   "cell_type": "code",
   "execution_count": 31,
   "metadata": {
    "executionInfo": {
     "elapsed": 1170,
     "status": "ok",
     "timestamp": 1606849860358,
     "user": {
      "displayName": "Edson Venâncio",
      "photoUrl": "",
      "userId": "03024126298677047667"
     },
     "user_tz": 180
    },
    "id": "XnKsvzAYjtOA"
   },
   "outputs": [],
   "source": [
    "# importa o modelo de regressão linear univariada\n",
    "from sklearn.linear_model import LinearRegression"
   ]
  },
  {
   "cell_type": "code",
   "execution_count": 32,
   "metadata": {
    "executionInfo": {
     "elapsed": 738,
     "status": "ok",
     "timestamp": 1606849863287,
     "user": {
      "displayName": "Edson Venâncio",
      "photoUrl": "",
      "userId": "03024126298677047667"
     },
     "user_tz": 180
    },
    "id": "kz0ObcPzjtOA"
   },
   "outputs": [],
   "source": [
    "# realiza a construção do modelo de regressão\n",
    "reg = LinearRegression()\n",
    "regressao = reg.fit(entradas_regressao, saida_regressao) # encontra os coeficientes (realiza a regressão)"
   ]
  },
  {
   "cell_type": "code",
   "execution_count": 33,
   "metadata": {
    "executionInfo": {
     "elapsed": 846,
     "status": "ok",
     "timestamp": 1606849865533,
     "user": {
      "displayName": "Edson Venâncio",
      "photoUrl": "",
      "userId": "03024126298677047667"
     },
     "user_tz": 180
    },
    "id": "9kJE-qhRjtOA"
   },
   "outputs": [],
   "source": [
    "# realiza a previsão\n",
    "previsao = reg.predict(entradas_regressao)"
   ]
  },
  {
   "cell_type": "code",
   "execution_count": 34,
   "metadata": {
    "executionInfo": {
     "elapsed": 672,
     "status": "ok",
     "timestamp": 1606849868248,
     "user": {
      "displayName": "Edson Venâncio",
      "photoUrl": "",
      "userId": "03024126298677047667"
     },
     "user_tz": 180
    },
    "id": "wnEJh-jIjtOA"
   },
   "outputs": [],
   "source": [
    "# análise do modelo\n",
    "from sklearn.metrics import r2_score # método para o cálculo do R2 (coeficiente de determinação)"
   ]
  },
  {
   "cell_type": "code",
   "execution_count": 35,
   "metadata": {
    "colab": {
     "base_uri": "https://localhost:8080/"
    },
    "executionInfo": {
     "elapsed": 648,
     "status": "ok",
     "timestamp": 1606849871142,
     "user": {
      "displayName": "Edson Venâncio",
      "photoUrl": "",
      "userId": "03024126298677047667"
     },
     "user_tz": 180
    },
    "id": "9BVheyWHjtOA",
    "outputId": "74c088af-8483-4ec0-e145-046585f4e5e1"
   },
   "outputs": [
    {
     "name": "stdout",
     "output_type": "stream",
     "text": [
      "Y = -99.75012327908328 \n",
      "X1 = 2.2151219742546555 \n",
      "X2 = 173.2933750513558\n",
      "\n",
      "Coeficiente de Determinação (R2): 0.4059859251122173\n"
     ]
    }
   ],
   "source": [
    "# parâmetros encontrados\n",
    "print('Y = {} \\nX1 = {} \\nX2 = {}'.format(reg.coef_[0], reg.coef_[1], reg.intercept_))\n",
    "\n",
    "R_2 = r2_score(saida_regressao, previsao)  # realiza o cálculo do R2, métrica para avaliar o modelo de regressão\n",
    "print(\"\\nCoeficiente de Determinação (R2):\", R_2)"
   ]
  },
  {
   "cell_type": "markdown",
   "metadata": {
    "id": "W8uoWA7bjtOB"
   },
   "source": [
    "#### Aplique Árvore de Decisão como regressão, utilizando as variáveis \"hum\" e \"casual\" como independentes e a \"cnt\" como dependente.\n",
    "#### Qual é o valor aproximado de R2? Utilize as entradas como teste e valores \"default\"."
   ]
  },
  {
   "cell_type": "code",
   "execution_count": 36,
   "metadata": {
    "colab": {
     "base_uri": "https://localhost:8080/"
    },
    "executionInfo": {
     "elapsed": 953,
     "status": "ok",
     "timestamp": 1606849884412,
     "user": {
      "displayName": "Edson Venâncio",
      "photoUrl": "",
      "userId": "03024126298677047667"
     },
     "user_tz": 180
    },
    "id": "ekVs-2BHjtOB",
    "outputId": "80cef8ad-d42d-4cc9-c8f4-8aa41e4979b6"
   },
   "outputs": [
    {
     "data": {
      "text/plain": [
       "DecisionTreeRegressor()"
      ]
     },
     "execution_count": 36,
     "metadata": {},
     "output_type": "execute_result"
    }
   ],
   "source": [
    "# aplicando a regressão via árvore de decisão\n",
    "from sklearn.tree import DecisionTreeRegressor\n",
    "reg_arvore = DecisionTreeRegressor() \n",
    "reg_arvore.fit(entradas_regressao, saida_regressao)"
   ]
  },
  {
   "cell_type": "code",
   "execution_count": 37,
   "metadata": {
    "executionInfo": {
     "elapsed": 651,
     "status": "ok",
     "timestamp": 1606849887043,
     "user": {
      "displayName": "Edson Venâncio",
      "photoUrl": "",
      "userId": "03024126298677047667"
     },
     "user_tz": 180
    },
    "id": "OFeIyy1kjtOB"
   },
   "outputs": [],
   "source": [
    "# realiza a previsão com os dados\n",
    "prev_arvore = reg_arvore.predict(entradas_regressao)"
   ]
  },
  {
   "cell_type": "code",
   "execution_count": 38,
   "metadata": {
    "colab": {
     "base_uri": "https://localhost:8080/"
    },
    "executionInfo": {
     "elapsed": 1036,
     "status": "ok",
     "timestamp": 1606849891134,
     "user": {
      "displayName": "Edson Venâncio",
      "photoUrl": "",
      "userId": "03024126298677047667"
     },
     "user_tz": 180
    },
    "id": "5T87fXn-jtOB",
    "outputId": "fc150865-4b5d-4857-d8d3-1ce43e57abba"
   },
   "outputs": [
    {
     "name": "stdout",
     "output_type": "stream",
     "text": [
      "Coeficiente de Determinação (R2) para a Árvore de Decisão: 0.7098339715834964\n"
     ]
    }
   ],
   "source": [
    "# parâmetros encontrados\n",
    "R_2 = r2_score(saida_regressao, prev_arvore) # realiza o cálculo do R2\n",
    "print(\"Coeficiente de Determinação (R2) para a Árvore de Decisão:\", R_2)"
   ]
  },
  {
   "cell_type": "code",
   "execution_count": 39,
   "metadata": {
    "colab": {
     "base_uri": "https://localhost:8080/"
    },
    "executionInfo": {
     "elapsed": 75298,
     "status": "ok",
     "timestamp": 1606849975334,
     "user": {
      "displayName": "Edson Venâncio",
      "photoUrl": "",
      "userId": "03024126298677047667"
     },
     "user_tz": 180
    },
    "id": "l2woRfKAjtOB",
    "outputId": "ea82f53e-98e7-4b2e-ada6-7ea43619da2e"
   },
   "outputs": [],
   "source": [
    "# plotando as decisões tomadas pela Árvore de Decisão\n",
    "from sklearn import tree\n",
    "import pydotplus # biblioteca utilizada como interface para plotar as decisões da árvore\n",
    "dot_data = tree.export_graphviz(reg_arvore, out_file=None)\n",
    "grafico = pydotplus.graph_from_dot_data(dot_data)\n",
    "grafico.write_pdf('bikeshare.pdf')"
   ]
  }
 ],
 "metadata": {
  "colab": {
   "collapsed_sections": [],
   "name": "desafio_1.ipynb",
   "provenance": []
  },
  "kernelspec": {
   "display_name": "Python 3",
   "language": "python",
   "name": "python3"
  },
  "language_info": {
   "codemirror_mode": {
    "name": "ipython",
    "version": 3
   },
   "file_extension": ".py",
   "mimetype": "text/x-python",
   "name": "python",
   "nbconvert_exporter": "python",
   "pygments_lexer": "ipython3",
   "version": "3.8.3"
  }
 },
 "nbformat": 4,
 "nbformat_minor": 1
}
