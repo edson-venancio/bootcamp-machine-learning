{
 "cells": [
  {
   "cell_type": "markdown",
   "metadata": {
    "id": "XiWqjUKlFvo9"
   },
   "source": [
    "## Trabalho Prático - Módulo 1"
   ]
  },
  {
   "cell_type": "code",
   "execution_count": 1,
   "metadata": {
    "executionInfo": {
     "elapsed": 1924,
     "status": "ok",
     "timestamp": 1606849611798,
     "user": {
      "displayName": "Edson Venâncio",
      "photoUrl": "",
      "userId": "03024126298677047667"
     },
     "user_tz": 180
    },
    "id": "XkAa6kElhAz9"
   },
   "outputs": [],
   "source": [
    "# importando as bibliotecas\n",
    "import pandas as pd # biblioteca utilizada para o tratamento de dados via dataframes \n",
    "import numpy as np # biblioteca utilizada para o tratamento de valores numéricos (vetores e matrizes)\n",
    "import matplotlib.pyplot as plt # biblioteca utilizada para construir os gráficos"
   ]
  },
  {
   "cell_type": "code",
   "execution_count": 2,
   "metadata": {
    "executionInfo": {
     "elapsed": 1083,
     "status": "ok",
     "timestamp": 1606849630987,
     "user": {
      "displayName": "Edson Venâncio",
      "photoUrl": "",
      "userId": "03024126298677047667"
     },
     "user_tz": 180
    },
    "id": "c3aot9E-li4L"
   },
   "outputs": [],
   "source": [
    "# realizando a leitura do arquivo (dataset)\n",
    "df_envio_portos = pd.read_csv('data.csv')"
   ]
  },
  {
   "cell_type": "code",
   "execution_count": 3,
   "metadata": {
    "colab": {
     "base_uri": "https://localhost:8080/",
     "height": 224
    },
    "executionInfo": {
     "elapsed": 814,
     "status": "ok",
     "timestamp": 1606849633016,
     "user": {
      "displayName": "Edson Venâncio",
      "photoUrl": "",
      "userId": "03024126298677047667"
     },
     "user_tz": 180
    },
    "id": "bKF37jCWl5SG",
    "outputId": "8b6dfed8-00c5-4f12-da30-853ed2ba7c23"
   },
   "outputs": [
    {
     "data": {
      "text/html": [
       "<div>\n",
       "<style scoped>\n",
       "    .dataframe tbody tr th:only-of-type {\n",
       "        vertical-align: middle;\n",
       "    }\n",
       "\n",
       "    .dataframe tbody tr th {\n",
       "        vertical-align: top;\n",
       "    }\n",
       "\n",
       "    .dataframe thead th {\n",
       "        text-align: right;\n",
       "    }\n",
       "</style>\n",
       "<table border=\"1\" class=\"dataframe\">\n",
       "  <thead>\n",
       "    <tr style=\"text-align: right;\">\n",
       "      <th></th>\n",
       "      <th>valid_import</th>\n",
       "      <th>item</th>\n",
       "      <th>importer_id</th>\n",
       "      <th>exporter_id</th>\n",
       "      <th>country_of_origin</th>\n",
       "      <th>declared_quantity</th>\n",
       "      <th>declared_cost</th>\n",
       "      <th>mode_of_transport</th>\n",
       "      <th>route</th>\n",
       "      <th>date_of_departure</th>\n",
       "      <th>date_of_arrival</th>\n",
       "      <th>declared_weight</th>\n",
       "      <th>actual_weight</th>\n",
       "      <th>days_in_transit</th>\n",
       "    </tr>\n",
       "  </thead>\n",
       "  <tbody>\n",
       "    <tr>\n",
       "      <th>0</th>\n",
       "      <td>True</td>\n",
       "      <td>cigar</td>\n",
       "      <td>111</td>\n",
       "      <td>222</td>\n",
       "      <td>India</td>\n",
       "      <td>129</td>\n",
       "      <td>3784.402551</td>\n",
       "      <td>sea</td>\n",
       "      <td>asia</td>\n",
       "      <td>04/25/2019</td>\n",
       "      <td>05/13/2019</td>\n",
       "      <td>1608.605135</td>\n",
       "      <td>1637.661221</td>\n",
       "      <td>18.232857</td>\n",
       "    </tr>\n",
       "    <tr>\n",
       "      <th>1</th>\n",
       "      <td>True</td>\n",
       "      <td>cigar</td>\n",
       "      <td>111</td>\n",
       "      <td>222</td>\n",
       "      <td>India</td>\n",
       "      <td>104</td>\n",
       "      <td>3081.350806</td>\n",
       "      <td>sea</td>\n",
       "      <td>america</td>\n",
       "      <td>04/22/2019</td>\n",
       "      <td>05/24/2019</td>\n",
       "      <td>831.719301</td>\n",
       "      <td>848.273419</td>\n",
       "      <td>32.436029</td>\n",
       "    </tr>\n",
       "    <tr>\n",
       "      <th>2</th>\n",
       "      <td>True</td>\n",
       "      <td>cigar</td>\n",
       "      <td>111</td>\n",
       "      <td>222</td>\n",
       "      <td>India</td>\n",
       "      <td>130</td>\n",
       "      <td>4414.125741</td>\n",
       "      <td>sea</td>\n",
       "      <td>europe</td>\n",
       "      <td>04/29/2019</td>\n",
       "      <td>05/16/2019</td>\n",
       "      <td>1527.704165</td>\n",
       "      <td>1582.063911</td>\n",
       "      <td>16.996206</td>\n",
       "    </tr>\n",
       "    <tr>\n",
       "      <th>3</th>\n",
       "      <td>True</td>\n",
       "      <td>cigar</td>\n",
       "      <td>111</td>\n",
       "      <td>222</td>\n",
       "      <td>India</td>\n",
       "      <td>143</td>\n",
       "      <td>2533.535991</td>\n",
       "      <td>sea</td>\n",
       "      <td>panama</td>\n",
       "      <td>05/05/2019</td>\n",
       "      <td>05/25/2019</td>\n",
       "      <td>1138.680563</td>\n",
       "      <td>1179.993817</td>\n",
       "      <td>19.965886</td>\n",
       "    </tr>\n",
       "    <tr>\n",
       "      <th>4</th>\n",
       "      <td>True</td>\n",
       "      <td>cigar</td>\n",
       "      <td>111</td>\n",
       "      <td>222</td>\n",
       "      <td>China</td>\n",
       "      <td>141</td>\n",
       "      <td>4396.397887</td>\n",
       "      <td>sea</td>\n",
       "      <td>asia</td>\n",
       "      <td>05/14/2019</td>\n",
       "      <td>06/05/2019</td>\n",
       "      <td>761.744581</td>\n",
       "      <td>781.735080</td>\n",
       "      <td>22.160034</td>\n",
       "    </tr>\n",
       "  </tbody>\n",
       "</table>\n",
       "</div>"
      ],
      "text/plain": [
       "   valid_import   item  importer_id  exporter_id country_of_origin  \\\n",
       "0          True  cigar          111          222             India   \n",
       "1          True  cigar          111          222             India   \n",
       "2          True  cigar          111          222             India   \n",
       "3          True  cigar          111          222             India   \n",
       "4          True  cigar          111          222             China   \n",
       "\n",
       "   declared_quantity  declared_cost mode_of_transport    route  \\\n",
       "0                129    3784.402551               sea     asia   \n",
       "1                104    3081.350806               sea  america   \n",
       "2                130    4414.125741               sea   europe   \n",
       "3                143    2533.535991               sea   panama   \n",
       "4                141    4396.397887               sea     asia   \n",
       "\n",
       "  date_of_departure date_of_arrival  declared_weight  actual_weight  \\\n",
       "0        04/25/2019      05/13/2019      1608.605135    1637.661221   \n",
       "1        04/22/2019      05/24/2019       831.719301     848.273419   \n",
       "2        04/29/2019      05/16/2019      1527.704165    1582.063911   \n",
       "3        05/05/2019      05/25/2019      1138.680563    1179.993817   \n",
       "4        05/14/2019      06/05/2019       761.744581     781.735080   \n",
       "\n",
       "   days_in_transit  \n",
       "0        18.232857  \n",
       "1        32.436029  \n",
       "2        16.996206  \n",
       "3        19.965886  \n",
       "4        22.160034  "
      ]
     },
     "execution_count": 3,
     "metadata": {},
     "output_type": "execute_result"
    }
   ],
   "source": [
    "# apresentando as 5 primeiras linhas do dataset\n",
    "df_envio_portos.head()"
   ]
  },
  {
   "cell_type": "markdown",
   "metadata": {
    "id": "6H6KdP5EomAM"
   },
   "source": [
    "#### Quantas instâncias e atributos existem no dataset?"
   ]
  },
  {
   "cell_type": "code",
   "execution_count": 4,
   "metadata": {
    "colab": {
     "base_uri": "https://localhost:8080/"
    },
    "executionInfo": {
     "elapsed": 766,
     "status": "ok",
     "timestamp": 1606849638251,
     "user": {
      "displayName": "Edson Venâncio",
      "photoUrl": "",
      "userId": "03024126298677047667"
     },
     "user_tz": 180
    },
    "id": "6E-2Hd7tyBXA",
    "outputId": "dc20534e-e60b-419d-efbc-e18033f926b7"
   },
   "outputs": [
    {
     "data": {
      "text/plain": [
       "(120, 14)"
      ]
     },
     "execution_count": 4,
     "metadata": {},
     "output_type": "execute_result"
    }
   ],
   "source": [
    "df_envio_portos.shape # verificando as dimensões do dataset"
   ]
  },
  {
   "cell_type": "markdown",
   "metadata": {
    "id": "Sq03ZbvCiZTe"
   },
   "source": [
    "#### Quantos tipos diferentes de dados existem no dataset?"
   ]
  },
  {
   "cell_type": "code",
   "execution_count": 5,
   "metadata": {
    "colab": {
     "base_uri": "https://localhost:8080/"
    },
    "executionInfo": {
     "elapsed": 807,
     "status": "ok",
     "timestamp": 1606849641513,
     "user": {
      "displayName": "Edson Venâncio",
      "photoUrl": "",
      "userId": "03024126298677047667"
     },
     "user_tz": 180
    },
    "id": "OL2cLcK_mPBO",
    "outputId": "44d92618-fdb7-47a9-edef-45b612a4b339"
   },
   "outputs": [
    {
     "name": "stdout",
     "output_type": "stream",
     "text": [
      "<class 'pandas.core.frame.DataFrame'>\n",
      "RangeIndex: 120 entries, 0 to 119\n",
      "Data columns (total 14 columns):\n",
      " #   Column             Non-Null Count  Dtype  \n",
      "---  ------             --------------  -----  \n",
      " 0   valid_import       120 non-null    bool   \n",
      " 1   item               120 non-null    object \n",
      " 2   importer_id        120 non-null    int64  \n",
      " 3   exporter_id        120 non-null    int64  \n",
      " 4   country_of_origin  120 non-null    object \n",
      " 5   declared_quantity  120 non-null    int64  \n",
      " 6   declared_cost      120 non-null    float64\n",
      " 7   mode_of_transport  120 non-null    object \n",
      " 8   route              120 non-null    object \n",
      " 9   date_of_departure  120 non-null    object \n",
      " 10  date_of_arrival    120 non-null    object \n",
      " 11  declared_weight    120 non-null    float64\n",
      " 12  actual_weight      120 non-null    float64\n",
      " 13  days_in_transit    120 non-null    float64\n",
      "dtypes: bool(1), float64(4), int64(3), object(6)\n",
      "memory usage: 12.4+ KB\n"
     ]
    }
   ],
   "source": [
    "df_envio_portos.info() # verificando os tipos de variáveis e se existem ou não valores nulos"
   ]
  },
  {
   "cell_type": "code",
   "execution_count": 6,
   "metadata": {
    "colab": {
     "base_uri": "https://localhost:8080/"
    },
    "executionInfo": {
     "elapsed": 777,
     "status": "ok",
     "timestamp": 1606849644961,
     "user": {
      "displayName": "Edson Venâncio",
      "photoUrl": "",
      "userId": "03024126298677047667"
     },
     "user_tz": 180
    },
    "id": "EwR691RdiZTe",
    "outputId": "22d8c5bd-3887-4788-d956-82bc29163a93"
   },
   "outputs": [
    {
     "data": {
      "text/plain": [
       "object     6\n",
       "float64    4\n",
       "int64      3\n",
       "bool       1\n",
       "dtype: int64"
      ]
     },
     "execution_count": 6,
     "metadata": {},
     "output_type": "execute_result"
    }
   ],
   "source": [
    "df_envio_portos.dtypes.value_counts()"
   ]
  },
  {
   "cell_type": "code",
   "execution_count": 7,
   "metadata": {
    "colab": {
     "base_uri": "https://localhost:8080/"
    },
    "executionInfo": {
     "elapsed": 812,
     "status": "ok",
     "timestamp": 1606849647085,
     "user": {
      "displayName": "Edson Venâncio",
      "photoUrl": "",
      "userId": "03024126298677047667"
     },
     "user_tz": 180
    },
    "id": "FPxAtWlkiZTe",
    "outputId": "38846e62-6f39-4e5c-c074-b6970e69ce69"
   },
   "outputs": [
    {
     "data": {
      "text/plain": [
       "4"
      ]
     },
     "execution_count": 7,
     "metadata": {},
     "output_type": "execute_result"
    }
   ],
   "source": [
    "df_envio_portos.dtypes.nunique()"
   ]
  },
  {
   "cell_type": "code",
   "execution_count": 8,
   "metadata": {
    "colab": {
     "base_uri": "https://localhost:8080/"
    },
    "executionInfo": {
     "elapsed": 1031,
     "status": "ok",
     "timestamp": 1606849648892,
     "user": {
      "displayName": "Edson Venâncio",
      "photoUrl": "",
      "userId": "03024126298677047667"
     },
     "user_tz": 180
    },
    "id": "usT0-qzsiZTe",
    "outputId": "ff3c3344-8538-4c3c-af7d-900d86229584"
   },
   "outputs": [
    {
     "data": {
      "text/plain": [
       "valid_import         0\n",
       "item                 0\n",
       "importer_id          0\n",
       "exporter_id          0\n",
       "country_of_origin    0\n",
       "declared_quantity    0\n",
       "declared_cost        0\n",
       "mode_of_transport    0\n",
       "route                0\n",
       "date_of_departure    0\n",
       "date_of_arrival      0\n",
       "declared_weight      0\n",
       "actual_weight        0\n",
       "days_in_transit      0\n",
       "dtype: int64"
      ]
     },
     "execution_count": 8,
     "metadata": {},
     "output_type": "execute_result"
    }
   ],
   "source": [
    "df_envio_portos.isnull().sum()"
   ]
  },
  {
   "cell_type": "markdown",
   "metadata": {
    "id": "rMDw3h6RwmEh"
   },
   "source": [
    "#### Qual é o valor médio para a variável \"declared_quantity\"?\n",
    "#### Qual é o valor do desvio padrão para a variável \"declared_weight\"?"
   ]
  },
  {
   "cell_type": "code",
   "execution_count": 9,
   "metadata": {
    "colab": {
     "base_uri": "https://localhost:8080/",
     "height": 297
    },
    "executionInfo": {
     "elapsed": 718,
     "status": "ok",
     "timestamp": 1606849652389,
     "user": {
      "displayName": "Edson Venâncio",
      "photoUrl": "",
      "userId": "03024126298677047667"
     },
     "user_tz": 180
    },
    "id": "EK9PIlANo1NA",
    "outputId": "fe32e951-6bbb-4638-f4c0-b0b2f8f6a282"
   },
   "outputs": [
    {
     "data": {
      "text/html": [
       "<div>\n",
       "<style scoped>\n",
       "    .dataframe tbody tr th:only-of-type {\n",
       "        vertical-align: middle;\n",
       "    }\n",
       "\n",
       "    .dataframe tbody tr th {\n",
       "        vertical-align: top;\n",
       "    }\n",
       "\n",
       "    .dataframe thead th {\n",
       "        text-align: right;\n",
       "    }\n",
       "</style>\n",
       "<table border=\"1\" class=\"dataframe\">\n",
       "  <thead>\n",
       "    <tr style=\"text-align: right;\">\n",
       "      <th></th>\n",
       "      <th>importer_id</th>\n",
       "      <th>exporter_id</th>\n",
       "      <th>declared_quantity</th>\n",
       "      <th>declared_cost</th>\n",
       "      <th>declared_weight</th>\n",
       "      <th>actual_weight</th>\n",
       "      <th>days_in_transit</th>\n",
       "    </tr>\n",
       "  </thead>\n",
       "  <tbody>\n",
       "    <tr>\n",
       "      <th>count</th>\n",
       "      <td>120.0</td>\n",
       "      <td>120.0</td>\n",
       "      <td>120.000000</td>\n",
       "      <td>120.000000</td>\n",
       "      <td>120.000000</td>\n",
       "      <td>120.000000</td>\n",
       "      <td>120.000000</td>\n",
       "    </tr>\n",
       "    <tr>\n",
       "      <th>mean</th>\n",
       "      <td>111.0</td>\n",
       "      <td>222.0</td>\n",
       "      <td>127.458333</td>\n",
       "      <td>6743.649881</td>\n",
       "      <td>1264.702934</td>\n",
       "      <td>1306.429806</td>\n",
       "      <td>35.424705</td>\n",
       "    </tr>\n",
       "    <tr>\n",
       "      <th>std</th>\n",
       "      <td>0.0</td>\n",
       "      <td>0.0</td>\n",
       "      <td>14.641311</td>\n",
       "      <td>2991.797050</td>\n",
       "      <td>633.149971</td>\n",
       "      <td>656.911704</td>\n",
       "      <td>26.571591</td>\n",
       "    </tr>\n",
       "    <tr>\n",
       "      <th>min</th>\n",
       "      <td>111.0</td>\n",
       "      <td>222.0</td>\n",
       "      <td>100.000000</td>\n",
       "      <td>1441.012419</td>\n",
       "      <td>18.459509</td>\n",
       "      <td>19.275241</td>\n",
       "      <td>12.410325</td>\n",
       "    </tr>\n",
       "    <tr>\n",
       "      <th>25%</th>\n",
       "      <td>111.0</td>\n",
       "      <td>222.0</td>\n",
       "      <td>115.750000</td>\n",
       "      <td>4442.903914</td>\n",
       "      <td>820.314400</td>\n",
       "      <td>841.763738</td>\n",
       "      <td>18.225625</td>\n",
       "    </tr>\n",
       "    <tr>\n",
       "      <th>50%</th>\n",
       "      <td>111.0</td>\n",
       "      <td>222.0</td>\n",
       "      <td>131.500000</td>\n",
       "      <td>6010.218745</td>\n",
       "      <td>1255.597743</td>\n",
       "      <td>1305.716419</td>\n",
       "      <td>27.044293</td>\n",
       "    </tr>\n",
       "    <tr>\n",
       "      <th>75%</th>\n",
       "      <td>111.0</td>\n",
       "      <td>222.0</td>\n",
       "      <td>139.000000</td>\n",
       "      <td>8887.095370</td>\n",
       "      <td>1711.314045</td>\n",
       "      <td>1763.681083</td>\n",
       "      <td>44.356374</td>\n",
       "    </tr>\n",
       "    <tr>\n",
       "      <th>max</th>\n",
       "      <td>111.0</td>\n",
       "      <td>222.0</td>\n",
       "      <td>149.000000</td>\n",
       "      <td>14281.325362</td>\n",
       "      <td>2806.338955</td>\n",
       "      <td>2918.681683</td>\n",
       "      <td>147.787560</td>\n",
       "    </tr>\n",
       "  </tbody>\n",
       "</table>\n",
       "</div>"
      ],
      "text/plain": [
       "       importer_id  exporter_id  declared_quantity  declared_cost  \\\n",
       "count        120.0        120.0         120.000000     120.000000   \n",
       "mean         111.0        222.0         127.458333    6743.649881   \n",
       "std            0.0          0.0          14.641311    2991.797050   \n",
       "min          111.0        222.0         100.000000    1441.012419   \n",
       "25%          111.0        222.0         115.750000    4442.903914   \n",
       "50%          111.0        222.0         131.500000    6010.218745   \n",
       "75%          111.0        222.0         139.000000    8887.095370   \n",
       "max          111.0        222.0         149.000000   14281.325362   \n",
       "\n",
       "       declared_weight  actual_weight  days_in_transit  \n",
       "count       120.000000     120.000000       120.000000  \n",
       "mean       1264.702934    1306.429806        35.424705  \n",
       "std         633.149971     656.911704        26.571591  \n",
       "min          18.459509      19.275241        12.410325  \n",
       "25%         820.314400     841.763738        18.225625  \n",
       "50%        1255.597743    1305.716419        27.044293  \n",
       "75%        1711.314045    1763.681083        44.356374  \n",
       "max        2806.338955    2918.681683       147.787560  "
      ]
     },
     "execution_count": 9,
     "metadata": {},
     "output_type": "execute_result"
    }
   ],
   "source": [
    "# analisando a \"estatística\" do dataset\n",
    "df_envio_portos.describe()"
   ]
  },
  {
   "cell_type": "code",
   "execution_count": 10,
   "metadata": {
    "colab": {
     "base_uri": "https://localhost:8080/"
    },
    "executionInfo": {
     "elapsed": 912,
     "status": "ok",
     "timestamp": 1606849656254,
     "user": {
      "displayName": "Edson Venâncio",
      "photoUrl": "",
      "userId": "03024126298677047667"
     },
     "user_tz": 180
    },
    "id": "j2cxkrOpiZTf",
    "outputId": "cb764080-34cb-49e4-a171-b9c25b8359b3"
   },
   "outputs": [
    {
     "data": {
      "text/plain": [
       "127.45833333333333"
      ]
     },
     "execution_count": 10,
     "metadata": {},
     "output_type": "execute_result"
    }
   ],
   "source": [
    "df_envio_portos['declared_quantity'].mean()"
   ]
  },
  {
   "cell_type": "code",
   "execution_count": 11,
   "metadata": {
    "colab": {
     "base_uri": "https://localhost:8080/"
    },
    "executionInfo": {
     "elapsed": 850,
     "status": "ok",
     "timestamp": 1606849657857,
     "user": {
      "displayName": "Edson Venâncio",
      "photoUrl": "",
      "userId": "03024126298677047667"
     },
     "user_tz": 180
    },
    "id": "crGygskMiZTf",
    "outputId": "64873d33-dfc8-4596-c188-43c8943e3b6e"
   },
   "outputs": [
    {
     "data": {
      "text/plain": [
       "633.149970913157"
      ]
     },
     "execution_count": 11,
     "metadata": {},
     "output_type": "execute_result"
    }
   ],
   "source": [
    "df_envio_portos['declared_weight'].std()"
   ]
  },
  {
   "cell_type": "markdown",
   "metadata": {
    "id": "ZqxbwHTtxM6A"
   },
   "source": [
    "#### Existem possíveis outliers?"
   ]
  },
  {
   "cell_type": "code",
   "execution_count": 12,
   "metadata": {
    "colab": {
     "base_uri": "https://localhost:8080/",
     "height": 283
    },
    "executionInfo": {
     "elapsed": 1052,
     "status": "ok",
     "timestamp": 1606849661378,
     "user": {
      "displayName": "Edson Venâncio",
      "photoUrl": "",
      "userId": "03024126298677047667"
     },
     "user_tz": 180
    },
    "id": "dcWZdA5EwlCu",
    "outputId": "68bb27cb-8ab3-4985-b9f5-7c2a19186b67"
   },
   "outputs": [
    {
     "data": {
      "text/plain": [
       "<matplotlib.axes._subplots.AxesSubplot at 0x1a0b51522e0>"
      ]
     },
     "execution_count": 12,
     "metadata": {},
     "output_type": "execute_result"
    },
    {
     "data": {
      "image/png": "[encoded data removed]",
      "text/plain": [
       "<Figure size 432x288 with 1 Axes>"
      ]
     },
     "metadata": {
      "needs_background": "light"
     },
     "output_type": "display_data"
    }
   ],
   "source": [
    "# identificando possíveis outliers\n",
    "df_envio_portos[['declared_quantity','days_in_transit']].boxplot()"
   ]
  },
  {
   "cell_type": "code",
   "execution_count": 13,
   "metadata": {
    "colab": {
     "base_uri": "https://localhost:8080/",
     "height": 255
    },
    "executionInfo": {
     "elapsed": 1103,
     "status": "ok",
     "timestamp": 1606849665178,
     "user": {
      "displayName": "Edson Venâncio",
      "photoUrl": "",
      "userId": "03024126298677047667"
     },
     "user_tz": 180
    },
    "id": "wyv-lNfriZTf",
    "outputId": "6ed4d94d-b5a9-4b7e-c6e9-5a4ee500124e"
   },
   "outputs": [
    {
     "data": {
      "text/html": [
       "<div>\n",
       "<style scoped>\n",
       "    .dataframe tbody tr th:only-of-type {\n",
       "        vertical-align: middle;\n",
       "    }\n",
       "\n",
       "    .dataframe tbody tr th {\n",
       "        vertical-align: top;\n",
       "    }\n",
       "\n",
       "    .dataframe thead th {\n",
       "        text-align: right;\n",
       "    }\n",
       "</style>\n",
       "<table border=\"1\" class=\"dataframe\">\n",
       "  <thead>\n",
       "    <tr style=\"text-align: right;\">\n",
       "      <th></th>\n",
       "      <th>valid_import</th>\n",
       "      <th>item</th>\n",
       "      <th>importer_id</th>\n",
       "      <th>exporter_id</th>\n",
       "      <th>country_of_origin</th>\n",
       "      <th>declared_quantity</th>\n",
       "      <th>declared_cost</th>\n",
       "      <th>mode_of_transport</th>\n",
       "      <th>route</th>\n",
       "      <th>date_of_departure</th>\n",
       "      <th>date_of_arrival</th>\n",
       "      <th>declared_weight</th>\n",
       "      <th>actual_weight</th>\n",
       "      <th>days_in_transit</th>\n",
       "    </tr>\n",
       "  </thead>\n",
       "  <tbody>\n",
       "    <tr>\n",
       "      <th>61</th>\n",
       "      <td>False</td>\n",
       "      <td>cigar</td>\n",
       "      <td>111</td>\n",
       "      <td>222</td>\n",
       "      <td>India</td>\n",
       "      <td>131</td>\n",
       "      <td>1594.074225</td>\n",
       "      <td>sea</td>\n",
       "      <td>america</td>\n",
       "      <td>05/08/2019</td>\n",
       "      <td>09/01/2019</td>\n",
       "      <td>1489.554025</td>\n",
       "      <td>1551.161701</td>\n",
       "      <td>116.140911</td>\n",
       "    </tr>\n",
       "    <tr>\n",
       "      <th>73</th>\n",
       "      <td>False</td>\n",
       "      <td>cigar</td>\n",
       "      <td>111</td>\n",
       "      <td>222</td>\n",
       "      <td>France</td>\n",
       "      <td>110</td>\n",
       "      <td>8953.524711</td>\n",
       "      <td>sea</td>\n",
       "      <td>america</td>\n",
       "      <td>05/16/2019</td>\n",
       "      <td>09/13/2019</td>\n",
       "      <td>193.130429</td>\n",
       "      <td>200.966710</td>\n",
       "      <td>120.406246</td>\n",
       "    </tr>\n",
       "    <tr>\n",
       "      <th>81</th>\n",
       "      <td>False</td>\n",
       "      <td>cigar</td>\n",
       "      <td>111</td>\n",
       "      <td>222</td>\n",
       "      <td>India</td>\n",
       "      <td>134</td>\n",
       "      <td>3326.973672</td>\n",
       "      <td>sea</td>\n",
       "      <td>america</td>\n",
       "      <td>05/12/2019</td>\n",
       "      <td>10/07/2019</td>\n",
       "      <td>280.984620</td>\n",
       "      <td>289.694339</td>\n",
       "      <td>147.787560</td>\n",
       "    </tr>\n",
       "    <tr>\n",
       "      <th>85</th>\n",
       "      <td>False</td>\n",
       "      <td>cigar</td>\n",
       "      <td>111</td>\n",
       "      <td>222</td>\n",
       "      <td>China</td>\n",
       "      <td>113</td>\n",
       "      <td>5745.640896</td>\n",
       "      <td>sea</td>\n",
       "      <td>america</td>\n",
       "      <td>04/22/2019</td>\n",
       "      <td>08/28/2019</td>\n",
       "      <td>627.941986</td>\n",
       "      <td>655.845304</td>\n",
       "      <td>128.416712</td>\n",
       "    </tr>\n",
       "    <tr>\n",
       "      <th>97</th>\n",
       "      <td>False</td>\n",
       "      <td>cigar</td>\n",
       "      <td>111</td>\n",
       "      <td>222</td>\n",
       "      <td>Italy</td>\n",
       "      <td>144</td>\n",
       "      <td>10849.145863</td>\n",
       "      <td>sea</td>\n",
       "      <td>america</td>\n",
       "      <td>05/09/2019</td>\n",
       "      <td>09/09/2019</td>\n",
       "      <td>291.849891</td>\n",
       "      <td>303.328673</td>\n",
       "      <td>123.277846</td>\n",
       "    </tr>\n",
       "    <tr>\n",
       "      <th>105</th>\n",
       "      <td>False</td>\n",
       "      <td>cigar</td>\n",
       "      <td>111</td>\n",
       "      <td>222</td>\n",
       "      <td>China</td>\n",
       "      <td>139</td>\n",
       "      <td>4174.018265</td>\n",
       "      <td>sea</td>\n",
       "      <td>america</td>\n",
       "      <td>05/12/2019</td>\n",
       "      <td>09/25/2019</td>\n",
       "      <td>231.583758</td>\n",
       "      <td>243.047276</td>\n",
       "      <td>135.627561</td>\n",
       "    </tr>\n",
       "  </tbody>\n",
       "</table>\n",
       "</div>"
      ],
      "text/plain": [
       "     valid_import   item  importer_id  exporter_id country_of_origin  \\\n",
       "61          False  cigar          111          222             India   \n",
       "73          False  cigar          111          222            France   \n",
       "81          False  cigar          111          222             India   \n",
       "85          False  cigar          111          222             China   \n",
       "97          False  cigar          111          222             Italy   \n",
       "105         False  cigar          111          222             China   \n",
       "\n",
       "     declared_quantity  declared_cost mode_of_transport    route  \\\n",
       "61                 131    1594.074225               sea  america   \n",
       "73                 110    8953.524711               sea  america   \n",
       "81                 134    3326.973672               sea  america   \n",
       "85                 113    5745.640896               sea  america   \n",
       "97                 144   10849.145863               sea  america   \n",
       "105                139    4174.018265               sea  america   \n",
       "\n",
       "    date_of_departure date_of_arrival  declared_weight  actual_weight  \\\n",
       "61         05/08/2019      09/01/2019      1489.554025    1551.161701   \n",
       "73         05/16/2019      09/13/2019       193.130429     200.966710   \n",
       "81         05/12/2019      10/07/2019       280.984620     289.694339   \n",
       "85         04/22/2019      08/28/2019       627.941986     655.845304   \n",
       "97         05/09/2019      09/09/2019       291.849891     303.328673   \n",
       "105        05/12/2019      09/25/2019       231.583758     243.047276   \n",
       "\n",
       "     days_in_transit  \n",
       "61        116.140911  \n",
       "73        120.406246  \n",
       "81        147.787560  \n",
       "85        128.416712  \n",
       "97        123.277846  \n",
       "105       135.627561  "
      ]
     },
     "execution_count": 13,
     "metadata": {},
     "output_type": "execute_result"
    }
   ],
   "source": [
    "# z-score\n",
    "from scipy import stats\n",
    "z = np.abs(stats.zscore(df_envio_portos['days_in_transit'].values))\n",
    "threshold = 3\n",
    "result = np.where(z > threshold)\n",
    "\n",
    "df_envio_portos_outlier = df_envio_portos.iloc[result[0]]\n",
    "df_envio_portos_outlier"
   ]
  },
  {
   "cell_type": "markdown",
   "metadata": {
    "id": "wfWUUyKXiZTf"
   },
   "source": [
    "#### Realizando a análise de regressão"
   ]
  },
  {
   "cell_type": "code",
   "execution_count": 14,
   "metadata": {
    "executionInfo": {
     "elapsed": 496,
     "status": "ok",
     "timestamp": 1606849669654,
     "user": {
      "displayName": "Edson Venâncio",
      "photoUrl": "",
      "userId": "03024126298677047667"
     },
     "user_tz": 180
    },
    "id": "IECULZZuxMC_"
   },
   "outputs": [],
   "source": [
    "x = df_envio_portos['declared_weight'].values  # variável independente, preditora\n",
    "Y = df_envio_portos['actual_weight'].values # variável dependente"
   ]
  },
  {
   "cell_type": "code",
   "execution_count": 15,
   "metadata": {
    "executionInfo": {
     "elapsed": 999,
     "status": "ok",
     "timestamp": 1606849675360,
     "user": {
      "displayName": "Edson Venâncio",
      "photoUrl": "",
      "userId": "03024126298677047667"
     },
     "user_tz": 180
    },
    "id": "pSoJQBOMy7F8"
   },
   "outputs": [],
   "source": [
    "# importa o modelo de regressão linear univariada\n",
    "from sklearn.linear_model import LinearRegression"
   ]
  },
  {
   "cell_type": "code",
   "execution_count": 16,
   "metadata": {
    "executionInfo": {
     "elapsed": 875,
     "status": "ok",
     "timestamp": 1606849677373,
     "user": {
      "displayName": "Edson Venâncio",
      "photoUrl": "",
      "userId": "03024126298677047667"
     },
     "user_tz": 180
    },
    "id": "AWHHadB4x9_k"
   },
   "outputs": [],
   "source": [
    "# realiza a construção do modelo de regressão\n",
    "reg = LinearRegression()\n",
    "x_Reshaped = x.reshape((-1, 1)) # coloca os dados no formato 2D\n",
    "regressao = reg.fit(x_Reshaped, Y) # encontra os coeficientes (realiza a regressão)"
   ]
  },
  {
   "cell_type": "code",
   "execution_count": 17,
   "metadata": {
    "executionInfo": {
     "elapsed": 876,
     "status": "ok",
     "timestamp": 1606849679537,
     "user": {
      "displayName": "Edson Venâncio",
      "photoUrl": "",
      "userId": "03024126298677047667"
     },
     "user_tz": 180
    },
    "id": "nvBdinlry6VR"
   },
   "outputs": [],
   "source": [
    "# realiza a previsão\n",
    "previsao = reg.predict(x_Reshaped)"
   ]
  },
  {
   "cell_type": "code",
   "execution_count": 18,
   "metadata": {
    "executionInfo": {
     "elapsed": 786,
     "status": "ok",
     "timestamp": 1606849682437,
     "user": {
      "displayName": "Edson Venâncio",
      "photoUrl": "",
      "userId": "03024126298677047667"
     },
     "user_tz": 180
    },
    "id": "kYdLgLmOzhBr"
   },
   "outputs": [],
   "source": [
    "# análise do modelo\n",
    "from sklearn.metrics import r2_score # método para o cálculo do R2 (coeficiente de determinação)"
   ]
  },
  {
   "cell_type": "code",
   "execution_count": 19,
   "metadata": {
    "colab": {
     "base_uri": "https://localhost:8080/"
    },
    "executionInfo": {
     "elapsed": 745,
     "status": "ok",
     "timestamp": 1606849684222,
     "user": {
      "displayName": "Edson Venâncio",
      "photoUrl": "",
      "userId": "03024126298677047667"
     },
     "user_tz": 180
    },
    "id": "2JBYpbs5za47",
    "outputId": "f3dde57f-8027-4e34-91a5-92ea469713a6"
   },
   "outputs": [
    {
     "name": "stdout",
     "output_type": "stream",
     "text": [
      "Y = [1.03718115] \n",
      "X = -5.296233030439225\n",
      "\n",
      "Coeficiente de Determinação (R2): 0.9993288165644932\n"
     ]
    }
   ],
   "source": [
    "# parâmetros encontrados\n",
    "print('Y = {} \\nX = {}'.format(reg.coef_, reg.intercept_)) # coeficiente angular da reta, coeficiente linear da reta\n",
    "\n",
    "R_2 = r2_score(Y, previsao)  # realiza o cálculo do R2, métrica para avaliar o modelo de regressão\n",
    "print(\"\\nCoeficiente de Determinação (R2):\", R_2)"
   ]
  },
  {
   "cell_type": "markdown",
   "metadata": {
    "id": "BlguRh0t0oU6"
   },
   "source": [
    "#### Pelo Coefiente de Determinação, o que é possível afirmar sobre a relação entre as variáveis Peso Real x Peso Declarado?"
   ]
  },
  {
   "cell_type": "code",
   "execution_count": 20,
   "metadata": {
    "colab": {
     "base_uri": "https://localhost:8080/",
     "height": 382
    },
    "executionInfo": {
     "elapsed": 782,
     "status": "ok",
     "timestamp": 1606849688773,
     "user": {
      "displayName": "Edson Venâncio",
      "photoUrl": "",
      "userId": "03024126298677047667"
     },
     "user_tz": 180
    },
    "id": "Dl1idrd7zuJM",
    "outputId": "e34c3681-3c3e-4950-ce00-b6850eaadde1"
   },
   "outputs": [
    {
     "data": {
      "image/png": "[encoded data removed]",
      "text/plain": [
       "<Figure size 400x400 with 1 Axes>"
      ]
     },
     "metadata": {
      "needs_background": "light"
     },
     "output_type": "display_data"
    }
   ],
   "source": [
    "# realiza o plot dos dados\n",
    "plt.figure(figsize=(4, 4), dpi=100)\n",
    "plt.scatter(x, Y, color = 'gray') # realiza o plot do gráfico de dispersão\n",
    "plt.plot(x, previsao, color = 'blue', linewidth = 2) # realiza o plot da \"linha\"\n",
    "plt.xlabel(\"Peso Declarado\")\n",
    "plt.ylabel(\"Peso Real\")\n",
    "plt.show()"
   ]
  }
 ],
 "metadata": {
  "colab": {
   "collapsed_sections": [],
   "name": "trabalho_pratico_1.ipynb",
   "provenance": []
  },
  "kernelspec": {
   "display_name": "Python 3",
   "language": "python",
   "name": "python3"
  },
  "language_info": {
   "codemirror_mode": {
    "name": "ipython",
    "version": 3
   },
   "file_extension": ".py",
   "mimetype": "text/x-python",
   "name": "python",
   "nbconvert_exporter": "python",
   "pygments_lexer": "ipython3",
   "version": "3.8.3"
  }
 },
 "nbformat": 4,
 "nbformat_minor": 1
}
