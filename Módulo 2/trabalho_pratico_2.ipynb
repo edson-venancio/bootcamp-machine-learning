{
 "cells": [
  {
   "cell_type": "markdown",
   "metadata": {},
   "source": [
    "## Trabalho Prático - Módulo 2"
   ]
  },
  {
   "cell_type": "markdown",
   "metadata": {
    "id": "kDSl8_Dyl0fm"
   },
   "source": [
    "### Análise de tendências de locações de bicicletas"
   ]
  },
  {
   "cell_type": "markdown",
   "metadata": {
    "id": "Bsu8jGdYmiIt"
   },
   "source": [
    "#### Descritivo dos dados coletados\n",
    "\n",
    "---\n",
    "\n",
    "- **rec_id:** índice do registro de locação; \n",
    "- **datetime:** data; \n",
    "- **season:** estação do ano (1: inverno, 2: primavera, 3: verão, 4: outono). Relativo ao hemisfério norte; \n",
    "- **year:** ano (0: 2011, 1: 2012);\n",
    "- **month:** mês (1 a 12); \n",
    "- **hour:** hora do dia (0 a 23); \n",
    "- **is_holiday:** booleano indicando feriado; \n",
    "- **weekday:** dia da semana (0: domingo, 1: segunda-feira, 2: terça-feira, 3: quarta-feira, 4: quinta-feira, 5: sexta-feira, 6: sábado); \n",
    "- **is_workingday:** booleano indicando dia útil; \n",
    "- **weather_condition:** (1: limpo, 2: nublado, 3: chuva leve, 4: chuva forte); \n",
    "- **temp:** Temperatura escalada entre 0 e 1. Valor original em graus Celsius: -8 a 39; \n",
    "- **atemp:** Sensação térmica escalada entre 0 e 1. Valor original em graus Celsius: -16 a 50; \n",
    "- **humidity:** Humidade relativa (0 a 1); \n",
    "- **windspeed:** Velocidade do vento escalada entre 0 e 1 (máximo original: 67); \n",
    "- **casual:** número de locações para usuários casuais; \n",
    "- **registered:** número de locações para usuários registrados; \n",
    "- **total_count:** contador total de aluguéis (casual + registered)."
   ]
  },
  {
   "cell_type": "code",
   "execution_count": 1,
   "metadata": {
    "executionInfo": {
     "elapsed": 1104,
     "status": "ok",
     "timestamp": 1602854822854,
     "user": {
      "displayName": "Edson Venâncio",
      "photoUrl": "",
      "userId": "03024126298677047667"
     },
     "user_tz": 180
    },
    "id": "IpewcDY5xs_I"
   },
   "outputs": [],
   "source": [
    "# importando as bibliotecas\n",
    "import numpy as np\n",
    "import pandas as pd\n",
    "import seaborn as sns\n",
    "import matplotlib.pyplot as plt\n",
    "from matplotlib import rcParams\n",
    "rcParams['figure.figsize'] = (16, 5)"
   ]
  },
  {
   "cell_type": "code",
   "execution_count": 2,
   "metadata": {
    "colab": {
     "base_uri": "https://localhost:8080/",
     "height": 309
    },
    "executionInfo": {
     "elapsed": 2384,
     "status": "ok",
     "timestamp": 1602854235971,
     "user": {
      "displayName": "Edson Venâncio",
      "photoUrl": "",
      "userId": "03024126298677047667"
     },
     "user_tz": 180
    },
    "id": "M7Zwi5HAGrhG",
    "outputId": "e8e5bbe3-53c4-4429-a4ee-75f8b81a187a"
   },
   "outputs": [],
   "source": [
    "# leitura do dataset\n",
    "df_bike = pd.read_csv('bike-sharing.csv')"
   ]
  },
  {
   "cell_type": "code",
   "execution_count": 3,
   "metadata": {},
   "outputs": [
    {
     "data": {
      "text/html": [
       "<div>\n",
       "<style scoped>\n",
       "    .dataframe tbody tr th:only-of-type {\n",
       "        vertical-align: middle;\n",
       "    }\n",
       "\n",
       "    .dataframe tbody tr th {\n",
       "        vertical-align: top;\n",
       "    }\n",
       "\n",
       "    .dataframe thead th {\n",
       "        text-align: right;\n",
       "    }\n",
       "</style>\n",
       "<table border=\"1\" class=\"dataframe\">\n",
       "  <thead>\n",
       "    <tr style=\"text-align: right;\">\n",
       "      <th></th>\n",
       "      <th>datetime</th>\n",
       "      <th>rec_id</th>\n",
       "      <th>season</th>\n",
       "      <th>year</th>\n",
       "      <th>month</th>\n",
       "      <th>hour</th>\n",
       "      <th>is_holiday</th>\n",
       "      <th>weekday</th>\n",
       "      <th>is_workingday</th>\n",
       "      <th>weather_condition</th>\n",
       "      <th>temp</th>\n",
       "      <th>atemp</th>\n",
       "      <th>humidity</th>\n",
       "      <th>windspeed</th>\n",
       "      <th>casual</th>\n",
       "      <th>registered</th>\n",
       "      <th>total_count</th>\n",
       "    </tr>\n",
       "  </thead>\n",
       "  <tbody>\n",
       "    <tr>\n",
       "      <th>0</th>\n",
       "      <td>2011-01-01</td>\n",
       "      <td>1</td>\n",
       "      <td>1</td>\n",
       "      <td>0</td>\n",
       "      <td>1</td>\n",
       "      <td>0</td>\n",
       "      <td>0</td>\n",
       "      <td>6</td>\n",
       "      <td>0</td>\n",
       "      <td>1</td>\n",
       "      <td>0.24</td>\n",
       "      <td>0.2879</td>\n",
       "      <td>0.81</td>\n",
       "      <td>0.0</td>\n",
       "      <td>3</td>\n",
       "      <td>13</td>\n",
       "      <td>16</td>\n",
       "    </tr>\n",
       "    <tr>\n",
       "      <th>1</th>\n",
       "      <td>2011-01-01</td>\n",
       "      <td>2</td>\n",
       "      <td>1</td>\n",
       "      <td>0</td>\n",
       "      <td>1</td>\n",
       "      <td>1</td>\n",
       "      <td>0</td>\n",
       "      <td>6</td>\n",
       "      <td>0</td>\n",
       "      <td>1</td>\n",
       "      <td>0.22</td>\n",
       "      <td>0.2727</td>\n",
       "      <td>0.80</td>\n",
       "      <td>0.0</td>\n",
       "      <td>8</td>\n",
       "      <td>32</td>\n",
       "      <td>40</td>\n",
       "    </tr>\n",
       "    <tr>\n",
       "      <th>2</th>\n",
       "      <td>2011-01-01</td>\n",
       "      <td>3</td>\n",
       "      <td>1</td>\n",
       "      <td>0</td>\n",
       "      <td>1</td>\n",
       "      <td>2</td>\n",
       "      <td>0</td>\n",
       "      <td>6</td>\n",
       "      <td>0</td>\n",
       "      <td>1</td>\n",
       "      <td>0.22</td>\n",
       "      <td>0.2727</td>\n",
       "      <td>0.80</td>\n",
       "      <td>0.0</td>\n",
       "      <td>5</td>\n",
       "      <td>27</td>\n",
       "      <td>32</td>\n",
       "    </tr>\n",
       "    <tr>\n",
       "      <th>3</th>\n",
       "      <td>2011-01-01</td>\n",
       "      <td>4</td>\n",
       "      <td>1</td>\n",
       "      <td>0</td>\n",
       "      <td>1</td>\n",
       "      <td>3</td>\n",
       "      <td>0</td>\n",
       "      <td>6</td>\n",
       "      <td>0</td>\n",
       "      <td>1</td>\n",
       "      <td>0.24</td>\n",
       "      <td>0.2879</td>\n",
       "      <td>0.75</td>\n",
       "      <td>0.0</td>\n",
       "      <td>3</td>\n",
       "      <td>10</td>\n",
       "      <td>13</td>\n",
       "    </tr>\n",
       "    <tr>\n",
       "      <th>4</th>\n",
       "      <td>2011-01-01</td>\n",
       "      <td>5</td>\n",
       "      <td>1</td>\n",
       "      <td>0</td>\n",
       "      <td>1</td>\n",
       "      <td>4</td>\n",
       "      <td>0</td>\n",
       "      <td>6</td>\n",
       "      <td>0</td>\n",
       "      <td>1</td>\n",
       "      <td>0.24</td>\n",
       "      <td>0.2879</td>\n",
       "      <td>0.75</td>\n",
       "      <td>0.0</td>\n",
       "      <td>0</td>\n",
       "      <td>1</td>\n",
       "      <td>1</td>\n",
       "    </tr>\n",
       "  </tbody>\n",
       "</table>\n",
       "</div>"
      ],
      "text/plain": [
       "     datetime  rec_id  season  year  month  hour  is_holiday  weekday  \\\n",
       "0  2011-01-01       1       1     0      1     0           0        6   \n",
       "1  2011-01-01       2       1     0      1     1           0        6   \n",
       "2  2011-01-01       3       1     0      1     2           0        6   \n",
       "3  2011-01-01       4       1     0      1     3           0        6   \n",
       "4  2011-01-01       5       1     0      1     4           0        6   \n",
       "\n",
       "   is_workingday  weather_condition  temp   atemp  humidity  windspeed  \\\n",
       "0              0                  1  0.24  0.2879      0.81        0.0   \n",
       "1              0                  1  0.22  0.2727      0.80        0.0   \n",
       "2              0                  1  0.22  0.2727      0.80        0.0   \n",
       "3              0                  1  0.24  0.2879      0.75        0.0   \n",
       "4              0                  1  0.24  0.2879      0.75        0.0   \n",
       "\n",
       "   casual  registered  total_count  \n",
       "0       3          13           16  \n",
       "1       8          32           40  \n",
       "2       5          27           32  \n",
       "3       3          10           13  \n",
       "4       0           1            1  "
      ]
     },
     "execution_count": 3,
     "metadata": {},
     "output_type": "execute_result"
    }
   ],
   "source": [
    "# apresentando as 5 primeiras linhas do dataset\n",
    "df_bike.head()"
   ]
  },
  {
   "cell_type": "code",
   "execution_count": 4,
   "metadata": {},
   "outputs": [
    {
     "name": "stdout",
     "output_type": "stream",
     "text": [
      "<class 'pandas.core.frame.DataFrame'>\n",
      "RangeIndex: 17379 entries, 0 to 17378\n",
      "Data columns (total 17 columns):\n",
      " #   Column             Non-Null Count  Dtype  \n",
      "---  ------             --------------  -----  \n",
      " 0   datetime           17379 non-null  object \n",
      " 1   rec_id             17379 non-null  int64  \n",
      " 2   season             17379 non-null  int64  \n",
      " 3   year               17379 non-null  int64  \n",
      " 4   month              17379 non-null  int64  \n",
      " 5   hour               17379 non-null  int64  \n",
      " 6   is_holiday         17379 non-null  int64  \n",
      " 7   weekday            17379 non-null  int64  \n",
      " 8   is_workingday      17379 non-null  int64  \n",
      " 9   weather_condition  17379 non-null  int64  \n",
      " 10  temp               17379 non-null  float64\n",
      " 11  atemp              17379 non-null  float64\n",
      " 12  humidity           17379 non-null  float64\n",
      " 13  windspeed          17379 non-null  float64\n",
      " 14  casual             17379 non-null  int64  \n",
      " 15  registered         17379 non-null  int64  \n",
      " 16  total_count        17379 non-null  int64  \n",
      "dtypes: float64(4), int64(12), object(1)\n",
      "memory usage: 2.3+ MB\n"
     ]
    }
   ],
   "source": [
    "df_bike.info()"
   ]
  },
  {
   "cell_type": "code",
   "execution_count": 5,
   "metadata": {
    "colab": {
     "base_uri": "https://localhost:8080/",
     "height": 425
    },
    "executionInfo": {
     "elapsed": 1216,
     "status": "ok",
     "timestamp": 1602854240780,
     "user": {
      "displayName": "Edson Venâncio",
      "photoUrl": "",
      "userId": "03024126298677047667"
     },
     "user_tz": 180
    },
    "id": "ogplAtg4He2Z",
    "outputId": "6c10c896-23e4-4e37-deb6-9951acc57ce5"
   },
   "outputs": [],
   "source": [
    "# convertendo a coluna datetime (string) para o tipo datetime\n",
    "df_bike.datetime = pd.to_datetime(df_bike.datetime)"
   ]
  },
  {
   "cell_type": "code",
   "execution_count": 6,
   "metadata": {},
   "outputs": [
    {
     "name": "stdout",
     "output_type": "stream",
     "text": [
      "<class 'pandas.core.frame.DataFrame'>\n",
      "RangeIndex: 17379 entries, 0 to 17378\n",
      "Data columns (total 17 columns):\n",
      " #   Column             Non-Null Count  Dtype         \n",
      "---  ------             --------------  -----         \n",
      " 0   datetime           17379 non-null  datetime64[ns]\n",
      " 1   rec_id             17379 non-null  int64         \n",
      " 2   season             17379 non-null  int64         \n",
      " 3   year               17379 non-null  int64         \n",
      " 4   month              17379 non-null  int64         \n",
      " 5   hour               17379 non-null  int64         \n",
      " 6   is_holiday         17379 non-null  int64         \n",
      " 7   weekday            17379 non-null  int64         \n",
      " 8   is_workingday      17379 non-null  int64         \n",
      " 9   weather_condition  17379 non-null  int64         \n",
      " 10  temp               17379 non-null  float64       \n",
      " 11  atemp              17379 non-null  float64       \n",
      " 12  humidity           17379 non-null  float64       \n",
      " 13  windspeed          17379 non-null  float64       \n",
      " 14  casual             17379 non-null  int64         \n",
      " 15  registered         17379 non-null  int64         \n",
      " 16  total_count        17379 non-null  int64         \n",
      "dtypes: datetime64[ns](1), float64(4), int64(12)\n",
      "memory usage: 2.3 MB\n"
     ]
    }
   ],
   "source": [
    "# verificando os tipos de variáveis e se existem ou não valores nulos\n",
    "df_bike.info()"
   ]
  },
  {
   "cell_type": "code",
   "execution_count": 7,
   "metadata": {},
   "outputs": [
    {
     "data": {
      "text/plain": [
       "int64             12\n",
       "float64            4\n",
       "datetime64[ns]     1\n",
       "dtype: int64"
      ]
     },
     "execution_count": 7,
     "metadata": {},
     "output_type": "execute_result"
    }
   ],
   "source": [
    "df_bike.dtypes.value_counts()"
   ]
  },
  {
   "cell_type": "code",
   "execution_count": 8,
   "metadata": {},
   "outputs": [
    {
     "data": {
      "text/plain": [
       "datetime             0\n",
       "rec_id               0\n",
       "season               0\n",
       "year                 0\n",
       "month                0\n",
       "hour                 0\n",
       "is_holiday           0\n",
       "weekday              0\n",
       "is_workingday        0\n",
       "weather_condition    0\n",
       "temp                 0\n",
       "atemp                0\n",
       "humidity             0\n",
       "windspeed            0\n",
       "casual               0\n",
       "registered           0\n",
       "total_count          0\n",
       "dtype: int64"
      ]
     },
     "execution_count": 8,
     "metadata": {},
     "output_type": "execute_result"
    }
   ],
   "source": [
    "df_bike.isnull().sum()"
   ]
  },
  {
   "cell_type": "code",
   "execution_count": 9,
   "metadata": {},
   "outputs": [
    {
     "data": {
      "text/html": [
       "<div>\n",
       "<style scoped>\n",
       "    .dataframe tbody tr th:only-of-type {\n",
       "        vertical-align: middle;\n",
       "    }\n",
       "\n",
       "    .dataframe tbody tr th {\n",
       "        vertical-align: top;\n",
       "    }\n",
       "\n",
       "    .dataframe thead th {\n",
       "        text-align: right;\n",
       "    }\n",
       "</style>\n",
       "<table border=\"1\" class=\"dataframe\">\n",
       "  <thead>\n",
       "    <tr style=\"text-align: right;\">\n",
       "      <th></th>\n",
       "      <th>rec_id</th>\n",
       "      <th>season</th>\n",
       "      <th>year</th>\n",
       "      <th>month</th>\n",
       "      <th>hour</th>\n",
       "      <th>is_holiday</th>\n",
       "      <th>weekday</th>\n",
       "      <th>is_workingday</th>\n",
       "      <th>weather_condition</th>\n",
       "      <th>temp</th>\n",
       "      <th>atemp</th>\n",
       "      <th>humidity</th>\n",
       "      <th>windspeed</th>\n",
       "      <th>casual</th>\n",
       "      <th>registered</th>\n",
       "      <th>total_count</th>\n",
       "    </tr>\n",
       "  </thead>\n",
       "  <tbody>\n",
       "    <tr>\n",
       "      <th>count</th>\n",
       "      <td>17379.0000</td>\n",
       "      <td>17379.000000</td>\n",
       "      <td>17379.000000</td>\n",
       "      <td>17379.000000</td>\n",
       "      <td>17379.000000</td>\n",
       "      <td>17379.000000</td>\n",
       "      <td>17379.000000</td>\n",
       "      <td>17379.000000</td>\n",
       "      <td>17379.000000</td>\n",
       "      <td>17379.000000</td>\n",
       "      <td>17379.000000</td>\n",
       "      <td>17379.000000</td>\n",
       "      <td>17379.000000</td>\n",
       "      <td>17379.000000</td>\n",
       "      <td>17379.000000</td>\n",
       "      <td>17379.000000</td>\n",
       "    </tr>\n",
       "    <tr>\n",
       "      <th>mean</th>\n",
       "      <td>8690.0000</td>\n",
       "      <td>2.501640</td>\n",
       "      <td>0.502561</td>\n",
       "      <td>6.537775</td>\n",
       "      <td>11.546752</td>\n",
       "      <td>0.028770</td>\n",
       "      <td>3.003683</td>\n",
       "      <td>0.682721</td>\n",
       "      <td>1.425283</td>\n",
       "      <td>0.496987</td>\n",
       "      <td>0.475775</td>\n",
       "      <td>0.627229</td>\n",
       "      <td>0.190098</td>\n",
       "      <td>35.676218</td>\n",
       "      <td>153.786869</td>\n",
       "      <td>189.463030</td>\n",
       "    </tr>\n",
       "    <tr>\n",
       "      <th>std</th>\n",
       "      <td>5017.0295</td>\n",
       "      <td>1.106918</td>\n",
       "      <td>0.500008</td>\n",
       "      <td>3.438776</td>\n",
       "      <td>6.914405</td>\n",
       "      <td>0.167165</td>\n",
       "      <td>2.005771</td>\n",
       "      <td>0.465431</td>\n",
       "      <td>0.639357</td>\n",
       "      <td>0.192556</td>\n",
       "      <td>0.171850</td>\n",
       "      <td>0.192930</td>\n",
       "      <td>0.122340</td>\n",
       "      <td>49.305030</td>\n",
       "      <td>151.357286</td>\n",
       "      <td>181.387644</td>\n",
       "    </tr>\n",
       "    <tr>\n",
       "      <th>min</th>\n",
       "      <td>1.0000</td>\n",
       "      <td>1.000000</td>\n",
       "      <td>0.000000</td>\n",
       "      <td>1.000000</td>\n",
       "      <td>0.000000</td>\n",
       "      <td>0.000000</td>\n",
       "      <td>0.000000</td>\n",
       "      <td>0.000000</td>\n",
       "      <td>1.000000</td>\n",
       "      <td>0.020000</td>\n",
       "      <td>0.000000</td>\n",
       "      <td>0.000000</td>\n",
       "      <td>0.000000</td>\n",
       "      <td>0.000000</td>\n",
       "      <td>0.000000</td>\n",
       "      <td>1.000000</td>\n",
       "    </tr>\n",
       "    <tr>\n",
       "      <th>25%</th>\n",
       "      <td>4345.5000</td>\n",
       "      <td>2.000000</td>\n",
       "      <td>0.000000</td>\n",
       "      <td>4.000000</td>\n",
       "      <td>6.000000</td>\n",
       "      <td>0.000000</td>\n",
       "      <td>1.000000</td>\n",
       "      <td>0.000000</td>\n",
       "      <td>1.000000</td>\n",
       "      <td>0.340000</td>\n",
       "      <td>0.333300</td>\n",
       "      <td>0.480000</td>\n",
       "      <td>0.104500</td>\n",
       "      <td>4.000000</td>\n",
       "      <td>34.000000</td>\n",
       "      <td>40.000000</td>\n",
       "    </tr>\n",
       "    <tr>\n",
       "      <th>50%</th>\n",
       "      <td>8690.0000</td>\n",
       "      <td>3.000000</td>\n",
       "      <td>1.000000</td>\n",
       "      <td>7.000000</td>\n",
       "      <td>12.000000</td>\n",
       "      <td>0.000000</td>\n",
       "      <td>3.000000</td>\n",
       "      <td>1.000000</td>\n",
       "      <td>1.000000</td>\n",
       "      <td>0.500000</td>\n",
       "      <td>0.484800</td>\n",
       "      <td>0.630000</td>\n",
       "      <td>0.194000</td>\n",
       "      <td>17.000000</td>\n",
       "      <td>115.000000</td>\n",
       "      <td>142.000000</td>\n",
       "    </tr>\n",
       "    <tr>\n",
       "      <th>75%</th>\n",
       "      <td>13034.5000</td>\n",
       "      <td>3.000000</td>\n",
       "      <td>1.000000</td>\n",
       "      <td>10.000000</td>\n",
       "      <td>18.000000</td>\n",
       "      <td>0.000000</td>\n",
       "      <td>5.000000</td>\n",
       "      <td>1.000000</td>\n",
       "      <td>2.000000</td>\n",
       "      <td>0.660000</td>\n",
       "      <td>0.621200</td>\n",
       "      <td>0.780000</td>\n",
       "      <td>0.253700</td>\n",
       "      <td>48.000000</td>\n",
       "      <td>220.000000</td>\n",
       "      <td>281.000000</td>\n",
       "    </tr>\n",
       "    <tr>\n",
       "      <th>max</th>\n",
       "      <td>17379.0000</td>\n",
       "      <td>4.000000</td>\n",
       "      <td>1.000000</td>\n",
       "      <td>12.000000</td>\n",
       "      <td>23.000000</td>\n",
       "      <td>1.000000</td>\n",
       "      <td>6.000000</td>\n",
       "      <td>1.000000</td>\n",
       "      <td>4.000000</td>\n",
       "      <td>1.000000</td>\n",
       "      <td>1.000000</td>\n",
       "      <td>1.000000</td>\n",
       "      <td>0.850700</td>\n",
       "      <td>367.000000</td>\n",
       "      <td>886.000000</td>\n",
       "      <td>977.000000</td>\n",
       "    </tr>\n",
       "  </tbody>\n",
       "</table>\n",
       "</div>"
      ],
      "text/plain": [
       "           rec_id        season          year         month          hour  \\\n",
       "count  17379.0000  17379.000000  17379.000000  17379.000000  17379.000000   \n",
       "mean    8690.0000      2.501640      0.502561      6.537775     11.546752   \n",
       "std     5017.0295      1.106918      0.500008      3.438776      6.914405   \n",
       "min        1.0000      1.000000      0.000000      1.000000      0.000000   \n",
       "25%     4345.5000      2.000000      0.000000      4.000000      6.000000   \n",
       "50%     8690.0000      3.000000      1.000000      7.000000     12.000000   \n",
       "75%    13034.5000      3.000000      1.000000     10.000000     18.000000   \n",
       "max    17379.0000      4.000000      1.000000     12.000000     23.000000   \n",
       "\n",
       "         is_holiday       weekday  is_workingday  weather_condition  \\\n",
       "count  17379.000000  17379.000000   17379.000000       17379.000000   \n",
       "mean       0.028770      3.003683       0.682721           1.425283   \n",
       "std        0.167165      2.005771       0.465431           0.639357   \n",
       "min        0.000000      0.000000       0.000000           1.000000   \n",
       "25%        0.000000      1.000000       0.000000           1.000000   \n",
       "50%        0.000000      3.000000       1.000000           1.000000   \n",
       "75%        0.000000      5.000000       1.000000           2.000000   \n",
       "max        1.000000      6.000000       1.000000           4.000000   \n",
       "\n",
       "               temp         atemp      humidity     windspeed        casual  \\\n",
       "count  17379.000000  17379.000000  17379.000000  17379.000000  17379.000000   \n",
       "mean       0.496987      0.475775      0.627229      0.190098     35.676218   \n",
       "std        0.192556      0.171850      0.192930      0.122340     49.305030   \n",
       "min        0.020000      0.000000      0.000000      0.000000      0.000000   \n",
       "25%        0.340000      0.333300      0.480000      0.104500      4.000000   \n",
       "50%        0.500000      0.484800      0.630000      0.194000     17.000000   \n",
       "75%        0.660000      0.621200      0.780000      0.253700     48.000000   \n",
       "max        1.000000      1.000000      1.000000      0.850700    367.000000   \n",
       "\n",
       "         registered   total_count  \n",
       "count  17379.000000  17379.000000  \n",
       "mean     153.786869    189.463030  \n",
       "std      151.357286    181.387644  \n",
       "min        0.000000      1.000000  \n",
       "25%       34.000000     40.000000  \n",
       "50%      115.000000    142.000000  \n",
       "75%      220.000000    281.000000  \n",
       "max      886.000000    977.000000  "
      ]
     },
     "execution_count": 9,
     "metadata": {},
     "output_type": "execute_result"
    }
   ],
   "source": [
    "# analisando a \"estatística\" do dataset\n",
    "df_bike.describe()"
   ]
  },
  {
   "cell_type": "markdown",
   "metadata": {
    "id": "PIMThGY3y3lh"
   },
   "source": [
    "#### Qual o tamanho desse dataset (número de linhas, número de colunas)?"
   ]
  },
  {
   "cell_type": "code",
   "execution_count": 10,
   "metadata": {
    "colab": {
     "base_uri": "https://localhost:8080/",
     "height": 34
    },
    "executionInfo": {
     "elapsed": 2259,
     "status": "ok",
     "timestamp": 1602854249927,
     "user": {
      "displayName": "Edson Venâncio",
      "photoUrl": "",
      "userId": "03024126298677047667"
     },
     "user_tz": 180
    },
    "id": "BJw43U644ODC",
    "outputId": "dd3b4374-5e3d-4ce4-e191-5d99f1baac5b"
   },
   "outputs": [
    {
     "data": {
      "text/plain": [
       "(17379, 17)"
      ]
     },
     "execution_count": 10,
     "metadata": {},
     "output_type": "execute_result"
    }
   ],
   "source": [
    "df_bike.shape"
   ]
  },
  {
   "cell_type": "markdown",
   "metadata": {
    "id": "u0tdtZPBz1gH"
   },
   "source": [
    "#### Qual a média da coluna windspeed?"
   ]
  },
  {
   "cell_type": "code",
   "execution_count": 11,
   "metadata": {
    "colab": {
     "base_uri": "https://localhost:8080/",
     "height": 51
    },
    "executionInfo": {
     "elapsed": 976,
     "status": "ok",
     "timestamp": 1602854294854,
     "user": {
      "displayName": "Edson Venâncio",
      "photoUrl": "",
      "userId": "03024126298677047667"
     },
     "user_tz": 180
    },
    "id": "-PCPsoVl43JY",
    "outputId": "cb6671d5-bf4e-4fe1-b50f-4204b0dc060c"
   },
   "outputs": [
    {
     "data": {
      "text/plain": [
       "windspeed    0.190098\n",
       "dtype: float64"
      ]
     },
     "execution_count": 11,
     "metadata": {},
     "output_type": "execute_result"
    }
   ],
   "source": [
    "df_bike[['windspeed']].mean()"
   ]
  },
  {
   "cell_type": "code",
   "execution_count": 12,
   "metadata": {
    "colab": {
     "base_uri": "https://localhost:8080/",
     "height": 34
    },
    "executionInfo": {
     "elapsed": 1005,
     "status": "ok",
     "timestamp": 1602854296972,
     "user": {
      "displayName": "Edson Venâncio",
      "photoUrl": "",
      "userId": "03024126298677047667"
     },
     "user_tz": 180
    },
    "id": "ar3uUDjaKg5v",
    "outputId": "df43adbb-bbd0-4458-a4da-51a87e72a3e6"
   },
   "outputs": [
    {
     "data": {
      "text/plain": [
       "0.1900976063064631"
      ]
     },
     "execution_count": 12,
     "metadata": {},
     "output_type": "execute_result"
    }
   ],
   "source": [
    "df_bike.windspeed.mean()"
   ]
  },
  {
   "cell_type": "markdown",
   "metadata": {
    "id": "K12YrE7xz89m"
   },
   "source": [
    "#### Qual a média da coluna temp?"
   ]
  },
  {
   "cell_type": "code",
   "execution_count": 13,
   "metadata": {
    "colab": {
     "base_uri": "https://localhost:8080/",
     "height": 51
    },
    "executionInfo": {
     "elapsed": 989,
     "status": "ok",
     "timestamp": 1602854307655,
     "user": {
      "displayName": "Edson Venâncio",
      "photoUrl": "",
      "userId": "03024126298677047667"
     },
     "user_tz": 180
    },
    "id": "nNtRRH2s5GBi",
    "outputId": "e92536cb-f4be-429a-bd9a-03f38119d19e"
   },
   "outputs": [
    {
     "data": {
      "text/plain": [
       "temp    0.496987\n",
       "dtype: float64"
      ]
     },
     "execution_count": 13,
     "metadata": {},
     "output_type": "execute_result"
    }
   ],
   "source": [
    "df_bike[['temp']].mean()"
   ]
  },
  {
   "cell_type": "code",
   "execution_count": 14,
   "metadata": {
    "colab": {
     "base_uri": "https://localhost:8080/",
     "height": 34
    },
    "executionInfo": {
     "elapsed": 1050,
     "status": "ok",
     "timestamp": 1602854310547,
     "user": {
      "displayName": "Edson Venâncio",
      "photoUrl": "",
      "userId": "03024126298677047667"
     },
     "user_tz": 180
    },
    "id": "7JEBz2a7KuuX",
    "outputId": "f352e97d-4e5b-44d5-96db-5229f60c6fd9"
   },
   "outputs": [
    {
     "data": {
      "text/plain": [
       "0.4969871684216586"
      ]
     },
     "execution_count": 14,
     "metadata": {},
     "output_type": "execute_result"
    }
   ],
   "source": [
    "df_bike.temp.mean()"
   ]
  },
  {
   "cell_type": "markdown",
   "metadata": {
    "id": "CvAY4Hex0KdU"
   },
   "source": [
    "#### Quantos registros de locações existem para o ano de 2011 (número de linhas, número de colunas)?"
   ]
  },
  {
   "cell_type": "code",
   "execution_count": 15,
   "metadata": {
    "colab": {
     "base_uri": "https://localhost:8080/",
     "height": 34
    },
    "executionInfo": {
     "elapsed": 844,
     "status": "ok",
     "timestamp": 1602854324570,
     "user": {
      "displayName": "Edson Venâncio",
      "photoUrl": "",
      "userId": "03024126298677047667"
     },
     "user_tz": 180
    },
    "id": "FaHKs9wg-riy",
    "outputId": "143c7ac0-abf1-4da2-ffe3-e6aab4798684"
   },
   "outputs": [
    {
     "data": {
      "text/plain": [
       "(8645, 17)"
      ]
     },
     "execution_count": 15,
     "metadata": {},
     "output_type": "execute_result"
    }
   ],
   "source": [
    "df_bike[df_bike.year == 0].shape"
   ]
  },
  {
   "cell_type": "code",
   "execution_count": 16,
   "metadata": {
    "colab": {
     "base_uri": "https://localhost:8080/",
     "height": 34
    },
    "executionInfo": {
     "elapsed": 1022,
     "status": "ok",
     "timestamp": 1602854326411,
     "user": {
      "displayName": "Edson Venâncio",
      "photoUrl": "",
      "userId": "03024126298677047667"
     },
     "user_tz": 180
    },
    "id": "2nVPrXeuK56u",
    "outputId": "c548cd10-ca15-4590-834f-cd6f045fc405"
   },
   "outputs": [
    {
     "data": {
      "text/plain": [
       "(8645, 17)"
      ]
     },
     "execution_count": 16,
     "metadata": {},
     "output_type": "execute_result"
    }
   ],
   "source": [
    "df_bike[df_bike.datetime.dt.year == 2011].shape"
   ]
  },
  {
   "cell_type": "markdown",
   "metadata": {
    "id": "MYBRQMMn0QzL"
   },
   "source": [
    "#### Quantos registros de locações existem para o ano de 2012 (número de linhas, número de colunas)?"
   ]
  },
  {
   "cell_type": "code",
   "execution_count": 17,
   "metadata": {
    "colab": {
     "base_uri": "https://localhost:8080/",
     "height": 34
    },
    "executionInfo": {
     "elapsed": 1073,
     "status": "ok",
     "timestamp": 1602854340931,
     "user": {
      "displayName": "Edson Venâncio",
      "photoUrl": "",
      "userId": "03024126298677047667"
     },
     "user_tz": 180
    },
    "id": "EP6Xi4CVBJCw",
    "outputId": "733358ad-7873-4463-a40e-d47cb86d3b40"
   },
   "outputs": [
    {
     "data": {
      "text/plain": [
       "(8734, 17)"
      ]
     },
     "execution_count": 17,
     "metadata": {},
     "output_type": "execute_result"
    }
   ],
   "source": [
    "df_bike[df_bike.year == 1].shape"
   ]
  },
  {
   "cell_type": "code",
   "execution_count": 18,
   "metadata": {
    "colab": {
     "base_uri": "https://localhost:8080/",
     "height": 34
    },
    "executionInfo": {
     "elapsed": 847,
     "status": "ok",
     "timestamp": 1602854345419,
     "user": {
      "displayName": "Edson Venâncio",
      "photoUrl": "",
      "userId": "03024126298677047667"
     },
     "user_tz": 180
    },
    "id": "_MezoXBzLFV8",
    "outputId": "9f898010-18cc-4a48-b42d-b3bddfdac077"
   },
   "outputs": [
    {
     "data": {
      "text/plain": [
       "(8734, 17)"
      ]
     },
     "execution_count": 18,
     "metadata": {},
     "output_type": "execute_result"
    }
   ],
   "source": [
    "df_bike[df_bike.datetime.dt.year == 2012].shape"
   ]
  },
  {
   "cell_type": "markdown",
   "metadata": {
    "id": "hS-d8sgb0eGx"
   },
   "source": [
    "#### Quantas locações de bicicletas foram efetuadas em 2011?\n",
    "#### Quantas locações de bicicletas foram efetuadas em 2012?"
   ]
  },
  {
   "cell_type": "code",
   "execution_count": 19,
   "metadata": {
    "colab": {
     "base_uri": "https://localhost:8080/",
     "height": 34
    },
    "executionInfo": {
     "elapsed": 948,
     "status": "ok",
     "timestamp": 1602854373902,
     "user": {
      "displayName": "Edson Venâncio",
      "photoUrl": "",
      "userId": "03024126298677047667"
     },
     "user_tz": 180
    },
    "id": "BMNrwyasBiJr",
    "outputId": "d61a6a10-6fce-438e-a521-f8517c7e79e2"
   },
   "outputs": [
    {
     "data": {
      "text/plain": [
       "1243103"
      ]
     },
     "execution_count": 19,
     "metadata": {},
     "output_type": "execute_result"
    }
   ],
   "source": [
    "df_bike[df_bike.year == 0].total_count.sum()"
   ]
  },
  {
   "cell_type": "code",
   "execution_count": 20,
   "metadata": {
    "colab": {
     "base_uri": "https://localhost:8080/",
     "height": 34
    },
    "executionInfo": {
     "elapsed": 1198,
     "status": "ok",
     "timestamp": 1602854376114,
     "user": {
      "displayName": "Edson Venâncio",
      "photoUrl": "",
      "userId": "03024126298677047667"
     },
     "user_tz": 180
    },
    "id": "aT3L_92LOy53",
    "outputId": "01ae6538-b3a9-4618-b821-8f0dc7cbf32b"
   },
   "outputs": [
    {
     "data": {
      "text/plain": [
       "2049575"
      ]
     },
     "execution_count": 20,
     "metadata": {},
     "output_type": "execute_result"
    }
   ],
   "source": [
    "df_bike[df_bike.year == 1].total_count.sum()"
   ]
  },
  {
   "cell_type": "code",
   "execution_count": 21,
   "metadata": {
    "colab": {
     "base_uri": "https://localhost:8080/",
     "height": 34
    },
    "executionInfo": {
     "elapsed": 904,
     "status": "ok",
     "timestamp": 1602854379334,
     "user": {
      "displayName": "Edson Venâncio",
      "photoUrl": "",
      "userId": "03024126298677047667"
     },
     "user_tz": 180
    },
    "id": "WP5iaCHTOsJk",
    "outputId": "a6159f93-2878-4703-af0e-9d0654269102"
   },
   "outputs": [
    {
     "data": {
      "text/plain": [
       "1243103"
      ]
     },
     "execution_count": 21,
     "metadata": {},
     "output_type": "execute_result"
    }
   ],
   "source": [
    "df_bike[df_bike.datetime.dt.year == 2011].total_count.sum()"
   ]
  },
  {
   "cell_type": "code",
   "execution_count": 22,
   "metadata": {
    "colab": {
     "base_uri": "https://localhost:8080/",
     "height": 34
    },
    "executionInfo": {
     "elapsed": 873,
     "status": "ok",
     "timestamp": 1602854380940,
     "user": {
      "displayName": "Edson Venâncio",
      "photoUrl": "",
      "userId": "03024126298677047667"
     },
     "user_tz": 180
    },
    "id": "WMrC01sNO5F0",
    "outputId": "67a3b4ad-fb49-4eef-88c1-020c93b1a01c"
   },
   "outputs": [
    {
     "data": {
      "text/plain": [
       "2049575"
      ]
     },
     "execution_count": 22,
     "metadata": {},
     "output_type": "execute_result"
    }
   ],
   "source": [
    "df_bike[df_bike.datetime.dt.year == 2012].total_count.sum()"
   ]
  },
  {
   "cell_type": "code",
   "execution_count": 23,
   "metadata": {
    "colab": {
     "base_uri": "https://localhost:8080/",
     "height": 51
    },
    "executionInfo": {
     "elapsed": 872,
     "status": "ok",
     "timestamp": 1602854384297,
     "user": {
      "displayName": "Edson Venâncio",
      "photoUrl": "",
      "userId": "03024126298677047667"
     },
     "user_tz": 180
    },
    "id": "FcIfA4zWNnVN",
    "outputId": "2499ad47-e720-4d6c-df3f-0246e1ea0193"
   },
   "outputs": [
    {
     "name": "stdout",
     "output_type": "stream",
     "text": [
      "A quantidade de locações em 2011 foi de 1243103\n",
      "A quantidade de locações em 2012 foi de 2049575\n"
     ]
    }
   ],
   "source": [
    "df_bike_onze = df_bike[df_bike.datetime.dt.year == 2011].total_count.sum()\n",
    "df_bike_doze = df_bike[df_bike.datetime.dt.year == 2012].total_count.sum()\n",
    "print(f'A quantidade de locações em 2011 foi de {df_bike_onze}')\n",
    "print(f'A quantidade de locações em 2012 foi de {df_bike_doze}')"
   ]
  },
  {
   "cell_type": "code",
   "execution_count": 24,
   "metadata": {},
   "outputs": [
    {
     "data": {
      "image/png": "[encoded data removed]",
      "text/plain": [
       "<Figure size 1152x360 with 1 Axes>"
      ]
     },
     "metadata": {
      "needs_background": "light"
     },
     "output_type": "display_data"
    }
   ],
   "source": [
    "fig, ax = plt.subplots()\n",
    "sns.barplot(data = df_bike, x=\"year\", y=\"total_count\", estimator = sum)\n",
    "ax.set_title(\"Quantidade de locações por ano\")\n",
    "plt.grid()"
   ]
  },
  {
   "cell_type": "markdown",
   "metadata": {
    "id": "p6KfJe7H0oj9"
   },
   "source": [
    "#### Qual estação do ano contém a maior média de locações de bicicletas?\n",
    "#### Qual estação do ano contém a menor média de locações de bicicletas?"
   ]
  },
  {
   "cell_type": "code",
   "execution_count": 25,
   "metadata": {
    "colab": {
     "base_uri": "https://localhost:8080/",
     "height": 119
    },
    "executionInfo": {
     "elapsed": 1286,
     "status": "ok",
     "timestamp": 1602854782812,
     "user": {
      "displayName": "Edson Venâncio",
      "photoUrl": "",
      "userId": "03024126298677047667"
     },
     "user_tz": 180
    },
    "id": "zx4IUZrPP2PZ",
    "outputId": "ddd43608-2e4c-4877-de4f-06efc5bc0706"
   },
   "outputs": [
    {
     "data": {
      "text/plain": [
       "season\n",
       "3    236.016237\n",
       "2    208.344069\n",
       "4    198.868856\n",
       "1    111.114333\n",
       "Name: total_count, dtype: float64"
      ]
     },
     "execution_count": 25,
     "metadata": {},
     "output_type": "execute_result"
    }
   ],
   "source": [
    "# a estação do ano com a maior média ficará ordenado em 1º\n",
    "df_bike.groupby(['season']).total_count.mean().sort_values(ascending = False)"
   ]
  },
  {
   "cell_type": "code",
   "execution_count": 26,
   "metadata": {
    "colab": {
     "base_uri": "https://localhost:8080/",
     "height": 119
    },
    "executionInfo": {
     "elapsed": 924,
     "status": "ok",
     "timestamp": 1602854787011,
     "user": {
      "displayName": "Edson Venâncio",
      "photoUrl": "",
      "userId": "03024126298677047667"
     },
     "user_tz": 180
    },
    "id": "HN6fNUnOP6H9",
    "outputId": "1d848213-c545-4f07-bc40-fe402aba6b1a"
   },
   "outputs": [
    {
     "data": {
      "text/plain": [
       "season\n",
       "1    111.114333\n",
       "4    198.868856\n",
       "2    208.344069\n",
       "3    236.016237\n",
       "Name: total_count, dtype: float64"
      ]
     },
     "execution_count": 26,
     "metadata": {},
     "output_type": "execute_result"
    }
   ],
   "source": [
    "# a estação do ano com a menor média ficará ordenado em 1º\n",
    "df_bike.groupby(['season']).total_count.mean().sort_values(ascending = True)"
   ]
  },
  {
   "cell_type": "code",
   "execution_count": 27,
   "metadata": {
    "colab": {
     "base_uri": "https://localhost:8080/",
     "height": 207
    },
    "executionInfo": {
     "elapsed": 1174,
     "status": "ok",
     "timestamp": 1602854793424,
     "user": {
      "displayName": "Edson Venâncio",
      "photoUrl": "",
      "userId": "03024126298677047667"
     },
     "user_tz": 180
    },
    "id": "KtaG4wbqCIsa",
    "outputId": "615617e0-05b7-4f0c-eb11-76eb02605ec1"
   },
   "outputs": [
    {
     "name": "stdout",
     "output_type": "stream",
     "text": [
      "A maior média é a season 3\n",
      "A menor média é a season 1\n"
     ]
    },
    {
     "data": {
      "text/html": [
       "<div>\n",
       "<style scoped>\n",
       "    .dataframe tbody tr th:only-of-type {\n",
       "        vertical-align: middle;\n",
       "    }\n",
       "\n",
       "    .dataframe tbody tr th {\n",
       "        vertical-align: top;\n",
       "    }\n",
       "\n",
       "    .dataframe thead th {\n",
       "        text-align: right;\n",
       "    }\n",
       "</style>\n",
       "<table border=\"1\" class=\"dataframe\">\n",
       "  <thead>\n",
       "    <tr style=\"text-align: right;\">\n",
       "      <th></th>\n",
       "      <th>season</th>\n",
       "      <th>Media</th>\n",
       "    </tr>\n",
       "  </thead>\n",
       "  <tbody>\n",
       "    <tr>\n",
       "      <th>0</th>\n",
       "      <td>1</td>\n",
       "      <td>111.114333</td>\n",
       "    </tr>\n",
       "    <tr>\n",
       "      <th>1</th>\n",
       "      <td>2</td>\n",
       "      <td>208.344069</td>\n",
       "    </tr>\n",
       "    <tr>\n",
       "      <th>2</th>\n",
       "      <td>3</td>\n",
       "      <td>236.016237</td>\n",
       "    </tr>\n",
       "    <tr>\n",
       "      <th>3</th>\n",
       "      <td>4</td>\n",
       "      <td>198.868856</td>\n",
       "    </tr>\n",
       "  </tbody>\n",
       "</table>\n",
       "</div>"
      ],
      "text/plain": [
       "   season       Media\n",
       "0       1  111.114333\n",
       "1       2  208.344069\n",
       "2       3  236.016237\n",
       "3       4  198.868856"
      ]
     },
     "metadata": {},
     "output_type": "display_data"
    }
   ],
   "source": [
    "df_media_season = df_bike.groupby(['season']).total_count.mean().reset_index(name = 'Media')\n",
    "print(f'A maior média é a season {df_media_season[df_media_season.Media == df_media_season.Media.max()].season.iloc[0]}')\n",
    "print(f'A menor média é a season {df_media_season[df_media_season.Media == df_media_season.Media.min()].season.iloc[0]}')\n",
    "display(df_media_season)"
   ]
  },
  {
   "cell_type": "code",
   "execution_count": 28,
   "metadata": {},
   "outputs": [
    {
     "data": {
      "image/png": "[encoded data removed]",
      "text/plain": [
       "<Figure size 1152x360 with 1 Axes>"
      ]
     },
     "metadata": {
      "needs_background": "light"
     },
     "output_type": "display_data"
    }
   ],
   "source": [
    "fig, ax = plt.subplots()\n",
    "sns.barplot(data = df_bike, x=\"season\", y=\"total_count\")\n",
    "ax.set_title(\"Média de locações por estação\")\n",
    "plt.grid()"
   ]
  },
  {
   "cell_type": "code",
   "execution_count": 29,
   "metadata": {},
   "outputs": [
    {
     "data": {
      "image/png": "[encoded data removed]",
      "text/plain": [
       "<Figure size 1152x360 with 1 Axes>"
      ]
     },
     "metadata": {
      "needs_background": "light"
     },
     "output_type": "display_data"
    }
   ],
   "source": [
    "fig, ax = plt.subplots()\n",
    "sns.barplot(data = df_bike, x=\"season\", y=\"total_count\", hue = 'year')\n",
    "ax.set_title(\"Quantidade de locações por estação / ano\")\n",
    "plt.grid()"
   ]
  },
  {
   "cell_type": "markdown",
   "metadata": {
    "id": "HBVY-QFV0xWS"
   },
   "source": [
    "#### Qual horário do dia contém a maior média de locações de bicicletas?\n",
    "#### Qual horário do dia contém a menor média de locações de bicicletas?"
   ]
  },
  {
   "cell_type": "code",
   "execution_count": 30,
   "metadata": {
    "colab": {
     "base_uri": "https://localhost:8080/",
     "height": 459
    },
    "executionInfo": {
     "elapsed": 1091,
     "status": "ok",
     "timestamp": 1602854889688,
     "user": {
      "displayName": "Edson Venâncio",
      "photoUrl": "",
      "userId": "03024126298677047667"
     },
     "user_tz": 180
    },
    "id": "CfnLfOHZQJal",
    "outputId": "386bd0d9-d000-450b-e6e0-067be8a378c8"
   },
   "outputs": [
    {
     "data": {
      "text/plain": [
       "hour\n",
       "17    461.452055\n",
       "18    425.510989\n",
       "8     359.011004\n",
       "16    311.983562\n",
       "19    311.523352\n",
       "13    253.661180\n",
       "12    253.315934\n",
       "15    251.233196\n",
       "14    240.949246\n",
       "20    226.030220\n",
       "9     219.309491\n",
       "7     212.064649\n",
       "11    208.143054\n",
       "10    173.668501\n",
       "21    172.314560\n",
       "22    131.335165\n",
       "23     87.829670\n",
       "6      76.044138\n",
       "0      53.898072\n",
       "1      33.375691\n",
       "2      22.869930\n",
       "5      19.889819\n",
       "3      11.727403\n",
       "4       6.352941\n",
       "Name: total_count, dtype: float64"
      ]
     },
     "execution_count": 30,
     "metadata": {},
     "output_type": "execute_result"
    }
   ],
   "source": [
    "# o horário do dia com a maior média ficará ordenado em 1º\n",
    "df_bike.groupby(['hour']).total_count.mean().sort_values(ascending = False)"
   ]
  },
  {
   "cell_type": "code",
   "execution_count": 31,
   "metadata": {
    "colab": {
     "base_uri": "https://localhost:8080/",
     "height": 459
    },
    "executionInfo": {
     "elapsed": 652,
     "status": "ok",
     "timestamp": 1602854925954,
     "user": {
      "displayName": "Edson Venâncio",
      "photoUrl": "",
      "userId": "03024126298677047667"
     },
     "user_tz": 180
    },
    "id": "MuWnkN2YQOel",
    "outputId": "a8a75b82-075a-4662-cdf0-dd010ef335c9"
   },
   "outputs": [
    {
     "data": {
      "text/plain": [
       "hour\n",
       "4       6.352941\n",
       "3      11.727403\n",
       "5      19.889819\n",
       "2      22.869930\n",
       "1      33.375691\n",
       "0      53.898072\n",
       "6      76.044138\n",
       "23     87.829670\n",
       "22    131.335165\n",
       "21    172.314560\n",
       "10    173.668501\n",
       "11    208.143054\n",
       "7     212.064649\n",
       "9     219.309491\n",
       "20    226.030220\n",
       "14    240.949246\n",
       "15    251.233196\n",
       "12    253.315934\n",
       "13    253.661180\n",
       "19    311.523352\n",
       "16    311.983562\n",
       "8     359.011004\n",
       "18    425.510989\n",
       "17    461.452055\n",
       "Name: total_count, dtype: float64"
      ]
     },
     "execution_count": 31,
     "metadata": {},
     "output_type": "execute_result"
    }
   ],
   "source": [
    "# o horário do dia com a menor média ficará ordenado em 1º\n",
    "df_bike.groupby(['hour']).total_count.mean().sort_values(ascending = True)"
   ]
  },
  {
   "cell_type": "code",
   "execution_count": 32,
   "metadata": {
    "colab": {
     "base_uri": "https://localhost:8080/",
     "height": 827
    },
    "executionInfo": {
     "elapsed": 1150,
     "status": "ok",
     "timestamp": 1602854931276,
     "user": {
      "displayName": "Edson Venâncio",
      "photoUrl": "",
      "userId": "03024126298677047667"
     },
     "user_tz": 180
    },
    "id": "ZEzon7G2Cq4E",
    "outputId": "b24a04bf-7dfe-46c6-d948-fc7c3753fc05"
   },
   "outputs": [
    {
     "name": "stdout",
     "output_type": "stream",
     "text": [
      "A maior média é as 17 horas\n",
      "A menor média é as 4 horas\n"
     ]
    },
    {
     "data": {
      "text/html": [
       "<div>\n",
       "<style scoped>\n",
       "    .dataframe tbody tr th:only-of-type {\n",
       "        vertical-align: middle;\n",
       "    }\n",
       "\n",
       "    .dataframe tbody tr th {\n",
       "        vertical-align: top;\n",
       "    }\n",
       "\n",
       "    .dataframe thead th {\n",
       "        text-align: right;\n",
       "    }\n",
       "</style>\n",
       "<table border=\"1\" class=\"dataframe\">\n",
       "  <thead>\n",
       "    <tr style=\"text-align: right;\">\n",
       "      <th></th>\n",
       "      <th>hour</th>\n",
       "      <th>Media</th>\n",
       "    </tr>\n",
       "  </thead>\n",
       "  <tbody>\n",
       "    <tr>\n",
       "      <th>0</th>\n",
       "      <td>0</td>\n",
       "      <td>53.898072</td>\n",
       "    </tr>\n",
       "    <tr>\n",
       "      <th>1</th>\n",
       "      <td>1</td>\n",
       "      <td>33.375691</td>\n",
       "    </tr>\n",
       "    <tr>\n",
       "      <th>2</th>\n",
       "      <td>2</td>\n",
       "      <td>22.869930</td>\n",
       "    </tr>\n",
       "    <tr>\n",
       "      <th>3</th>\n",
       "      <td>3</td>\n",
       "      <td>11.727403</td>\n",
       "    </tr>\n",
       "    <tr>\n",
       "      <th>4</th>\n",
       "      <td>4</td>\n",
       "      <td>6.352941</td>\n",
       "    </tr>\n",
       "    <tr>\n",
       "      <th>5</th>\n",
       "      <td>5</td>\n",
       "      <td>19.889819</td>\n",
       "    </tr>\n",
       "    <tr>\n",
       "      <th>6</th>\n",
       "      <td>6</td>\n",
       "      <td>76.044138</td>\n",
       "    </tr>\n",
       "    <tr>\n",
       "      <th>7</th>\n",
       "      <td>7</td>\n",
       "      <td>212.064649</td>\n",
       "    </tr>\n",
       "    <tr>\n",
       "      <th>8</th>\n",
       "      <td>8</td>\n",
       "      <td>359.011004</td>\n",
       "    </tr>\n",
       "    <tr>\n",
       "      <th>9</th>\n",
       "      <td>9</td>\n",
       "      <td>219.309491</td>\n",
       "    </tr>\n",
       "    <tr>\n",
       "      <th>10</th>\n",
       "      <td>10</td>\n",
       "      <td>173.668501</td>\n",
       "    </tr>\n",
       "    <tr>\n",
       "      <th>11</th>\n",
       "      <td>11</td>\n",
       "      <td>208.143054</td>\n",
       "    </tr>\n",
       "    <tr>\n",
       "      <th>12</th>\n",
       "      <td>12</td>\n",
       "      <td>253.315934</td>\n",
       "    </tr>\n",
       "    <tr>\n",
       "      <th>13</th>\n",
       "      <td>13</td>\n",
       "      <td>253.661180</td>\n",
       "    </tr>\n",
       "    <tr>\n",
       "      <th>14</th>\n",
       "      <td>14</td>\n",
       "      <td>240.949246</td>\n",
       "    </tr>\n",
       "    <tr>\n",
       "      <th>15</th>\n",
       "      <td>15</td>\n",
       "      <td>251.233196</td>\n",
       "    </tr>\n",
       "    <tr>\n",
       "      <th>16</th>\n",
       "      <td>16</td>\n",
       "      <td>311.983562</td>\n",
       "    </tr>\n",
       "    <tr>\n",
       "      <th>17</th>\n",
       "      <td>17</td>\n",
       "      <td>461.452055</td>\n",
       "    </tr>\n",
       "    <tr>\n",
       "      <th>18</th>\n",
       "      <td>18</td>\n",
       "      <td>425.510989</td>\n",
       "    </tr>\n",
       "    <tr>\n",
       "      <th>19</th>\n",
       "      <td>19</td>\n",
       "      <td>311.523352</td>\n",
       "    </tr>\n",
       "    <tr>\n",
       "      <th>20</th>\n",
       "      <td>20</td>\n",
       "      <td>226.030220</td>\n",
       "    </tr>\n",
       "    <tr>\n",
       "      <th>21</th>\n",
       "      <td>21</td>\n",
       "      <td>172.314560</td>\n",
       "    </tr>\n",
       "    <tr>\n",
       "      <th>22</th>\n",
       "      <td>22</td>\n",
       "      <td>131.335165</td>\n",
       "    </tr>\n",
       "    <tr>\n",
       "      <th>23</th>\n",
       "      <td>23</td>\n",
       "      <td>87.829670</td>\n",
       "    </tr>\n",
       "  </tbody>\n",
       "</table>\n",
       "</div>"
      ],
      "text/plain": [
       "    hour       Media\n",
       "0      0   53.898072\n",
       "1      1   33.375691\n",
       "2      2   22.869930\n",
       "3      3   11.727403\n",
       "4      4    6.352941\n",
       "5      5   19.889819\n",
       "6      6   76.044138\n",
       "7      7  212.064649\n",
       "8      8  359.011004\n",
       "9      9  219.309491\n",
       "10    10  173.668501\n",
       "11    11  208.143054\n",
       "12    12  253.315934\n",
       "13    13  253.661180\n",
       "14    14  240.949246\n",
       "15    15  251.233196\n",
       "16    16  311.983562\n",
       "17    17  461.452055\n",
       "18    18  425.510989\n",
       "19    19  311.523352\n",
       "20    20  226.030220\n",
       "21    21  172.314560\n",
       "22    22  131.335165\n",
       "23    23   87.829670"
      ]
     },
     "metadata": {},
     "output_type": "display_data"
    }
   ],
   "source": [
    "df_media_hora = df_bike.groupby(['hour']).total_count.mean().reset_index(name = 'Media')\n",
    "print(f'A maior média é as {df_media_hora[df_media_hora.Media == df_media_hora.Media.max()].hour.iloc[0]} horas')\n",
    "print(f'A menor média é as {df_media_hora[df_media_hora.Media == df_media_hora.Media.min()].hour.iloc[0]} horas')\n",
    "display(df_media_hora)"
   ]
  },
  {
   "cell_type": "code",
   "execution_count": 33,
   "metadata": {},
   "outputs": [
    {
     "data": {
      "image/png": "[encoded data removed]",
      "text/plain": [
       "<Figure size 1152x360 with 1 Axes>"
      ]
     },
     "metadata": {
      "needs_background": "light"
     },
     "output_type": "display_data"
    }
   ],
   "source": [
    "fig, ax = plt.subplots()\n",
    "sns.barplot(data = df_bike, x=\"hour\", y=\"total_count\")\n",
    "ax.set_title(\"Média de locações por horário\")\n",
    "plt.grid()"
   ]
  },
  {
   "cell_type": "code",
   "execution_count": 34,
   "metadata": {},
   "outputs": [
    {
     "data": {
      "image/png": "[encoded data removed]",
      "text/plain": [
       "<Figure size 1152x360 with 1 Axes>"
      ]
     },
     "metadata": {
      "needs_background": "light"
     },
     "output_type": "display_data"
    }
   ],
   "source": [
    "fig, ax = plt.subplots()\n",
    "sns.barplot(data = df_bike, x=\"hour\", y=\"total_count\", hue = 'year')\n",
    "ax.set_title(\"Quantidade de locações por horário / ano\")\n",
    "plt.grid()"
   ]
  },
  {
   "cell_type": "code",
   "execution_count": 35,
   "metadata": {},
   "outputs": [
    {
     "data": {
      "image/png": "[encoded data removed]",
      "text/plain": [
       "<Figure size 1152x360 with 1 Axes>"
      ]
     },
     "metadata": {
      "needs_background": "light"
     },
     "output_type": "display_data"
    }
   ],
   "source": [
    "fig, ax = plt.subplots()\n",
    "sns.barplot(data = df_bike, x=\"month\", y=\"total_count\", hue = 'year')\n",
    "ax.set_title(\"Quantidade de locações por mês / ano\")\n",
    "plt.grid()"
   ]
  },
  {
   "cell_type": "markdown",
   "metadata": {
    "id": "dGeZjsr31DEA"
   },
   "source": [
    "#### Que dia da semana contém a maior média de locações de bicicletas?\n",
    "#### Que dia da semana contém a menor média de locações de bicicletas?"
   ]
  },
  {
   "cell_type": "code",
   "execution_count": 36,
   "metadata": {
    "colab": {
     "base_uri": "https://localhost:8080/",
     "height": 170
    },
    "executionInfo": {
     "elapsed": 854,
     "status": "ok",
     "timestamp": 1602855266590,
     "user": {
      "displayName": "Edson Venâncio",
      "photoUrl": "",
      "userId": "03024126298677047667"
     },
     "user_tz": 180
    },
    "id": "PypPnwrQQais",
    "outputId": "e121970e-cf9f-48e6-e447-7f6aa80e56f3"
   },
   "outputs": [
    {
     "data": {
      "text/plain": [
       "weekday\n",
       "4    196.436665\n",
       "5    196.135907\n",
       "2    191.238891\n",
       "3    191.130505\n",
       "6    190.209793\n",
       "1    183.744252\n",
       "0    177.468825\n",
       "Name: total_count, dtype: float64"
      ]
     },
     "execution_count": 36,
     "metadata": {},
     "output_type": "execute_result"
    }
   ],
   "source": [
    "# o dia da semana com a maior média ficará ordenado em 1º\n",
    "df_bike.groupby(['weekday']).total_count.mean().sort_values(ascending = False)"
   ]
  },
  {
   "cell_type": "code",
   "execution_count": 37,
   "metadata": {
    "colab": {
     "base_uri": "https://localhost:8080/",
     "height": 170
    },
    "executionInfo": {
     "elapsed": 1232,
     "status": "ok",
     "timestamp": 1602855270954,
     "user": {
      "displayName": "Edson Venâncio",
      "photoUrl": "",
      "userId": "03024126298677047667"
     },
     "user_tz": 180
    },
    "id": "qz-Flhz4QcxD",
    "outputId": "8ba92060-da55-43e4-a0fe-9c8ef9d40b83"
   },
   "outputs": [
    {
     "data": {
      "text/plain": [
       "weekday\n",
       "0    177.468825\n",
       "1    183.744252\n",
       "6    190.209793\n",
       "3    191.130505\n",
       "2    191.238891\n",
       "5    196.135907\n",
       "4    196.436665\n",
       "Name: total_count, dtype: float64"
      ]
     },
     "execution_count": 37,
     "metadata": {},
     "output_type": "execute_result"
    }
   ],
   "source": [
    "# o dia da semana com a menor média ficará ordenado em 1º\n",
    "df_bike.groupby(['weekday']).total_count.mean().sort_values(ascending = True)"
   ]
  },
  {
   "cell_type": "code",
   "execution_count": 38,
   "metadata": {
    "colab": {
     "base_uri": "https://localhost:8080/",
     "height": 300
    },
    "executionInfo": {
     "elapsed": 1519,
     "status": "ok",
     "timestamp": 1602855275542,
     "user": {
      "displayName": "Edson Venâncio",
      "photoUrl": "",
      "userId": "03024126298677047667"
     },
     "user_tz": 180
    },
    "id": "4SC9u4ApDXeD",
    "outputId": "55ec75c4-ae3b-48c4-d536-11004c7e7d8a"
   },
   "outputs": [
    {
     "name": "stdout",
     "output_type": "stream",
     "text": [
      "A maior média é no 4 dia da semana\n",
      "A menor média é no 0 dia da semana\n"
     ]
    },
    {
     "data": {
      "text/html": [
       "<div>\n",
       "<style scoped>\n",
       "    .dataframe tbody tr th:only-of-type {\n",
       "        vertical-align: middle;\n",
       "    }\n",
       "\n",
       "    .dataframe tbody tr th {\n",
       "        vertical-align: top;\n",
       "    }\n",
       "\n",
       "    .dataframe thead th {\n",
       "        text-align: right;\n",
       "    }\n",
       "</style>\n",
       "<table border=\"1\" class=\"dataframe\">\n",
       "  <thead>\n",
       "    <tr style=\"text-align: right;\">\n",
       "      <th></th>\n",
       "      <th>weekday</th>\n",
       "      <th>Media</th>\n",
       "    </tr>\n",
       "  </thead>\n",
       "  <tbody>\n",
       "    <tr>\n",
       "      <th>0</th>\n",
       "      <td>0</td>\n",
       "      <td>177.468825</td>\n",
       "    </tr>\n",
       "    <tr>\n",
       "      <th>1</th>\n",
       "      <td>1</td>\n",
       "      <td>183.744252</td>\n",
       "    </tr>\n",
       "    <tr>\n",
       "      <th>2</th>\n",
       "      <td>2</td>\n",
       "      <td>191.238891</td>\n",
       "    </tr>\n",
       "    <tr>\n",
       "      <th>3</th>\n",
       "      <td>3</td>\n",
       "      <td>191.130505</td>\n",
       "    </tr>\n",
       "    <tr>\n",
       "      <th>4</th>\n",
       "      <td>4</td>\n",
       "      <td>196.436665</td>\n",
       "    </tr>\n",
       "    <tr>\n",
       "      <th>5</th>\n",
       "      <td>5</td>\n",
       "      <td>196.135907</td>\n",
       "    </tr>\n",
       "    <tr>\n",
       "      <th>6</th>\n",
       "      <td>6</td>\n",
       "      <td>190.209793</td>\n",
       "    </tr>\n",
       "  </tbody>\n",
       "</table>\n",
       "</div>"
      ],
      "text/plain": [
       "   weekday       Media\n",
       "0        0  177.468825\n",
       "1        1  183.744252\n",
       "2        2  191.238891\n",
       "3        3  191.130505\n",
       "4        4  196.436665\n",
       "5        5  196.135907\n",
       "6        6  190.209793"
      ]
     },
     "metadata": {},
     "output_type": "display_data"
    }
   ],
   "source": [
    "df_media_dia = df_bike.groupby(['weekday']).total_count.mean().reset_index(name = 'Media')\n",
    "print(f'A maior média é no {df_media_dia[df_media_dia.Media == df_media_dia.Media.max()].weekday.iloc[0]} dia da semana')\n",
    "print(f'A menor média é no {df_media_dia[df_media_dia.Media == df_media_dia.Media.min()].weekday.iloc[0]} dia da semana')\n",
    "display(df_media_dia)"
   ]
  },
  {
   "cell_type": "code",
   "execution_count": 39,
   "metadata": {},
   "outputs": [
    {
     "data": {
      "image/png": "[encoded data removed]",
      "text/plain": [
       "<Figure size 1152x360 with 1 Axes>"
      ]
     },
     "metadata": {
      "needs_background": "light"
     },
     "output_type": "display_data"
    }
   ],
   "source": [
    "fig, ax = plt.subplots()\n",
    "sns.barplot(data = df_bike, x=\"weekday\", y=\"total_count\")\n",
    "ax.set_title(\"Média de locações por dia da semana\")\n",
    "plt.grid()"
   ]
  },
  {
   "cell_type": "code",
   "execution_count": 40,
   "metadata": {},
   "outputs": [
    {
     "data": {
      "image/png": "[encoded data removed]",
      "text/plain": [
       "<Figure size 1152x360 with 1 Axes>"
      ]
     },
     "metadata": {
      "needs_background": "light"
     },
     "output_type": "display_data"
    }
   ],
   "source": [
    "fig, ax = plt.subplots()\n",
    "sns.barplot(data = df_bike, x=\"weekday\", y=\"total_count\", hue = 'year')\n",
    "ax.set_title(\"Média de locações por dia da semana / ano\")\n",
    "plt.grid()"
   ]
  },
  {
   "cell_type": "markdown",
   "metadata": {
    "id": "SmE2FpyU1L2H"
   },
   "source": [
    "#### Às quartas-feiras (weekday = 3), qual o horário do dia contém a maior média de locações de bicicletas?"
   ]
  },
  {
   "cell_type": "code",
   "execution_count": 41,
   "metadata": {
    "colab": {
     "base_uri": "https://localhost:8080/",
     "height": 459
    },
    "executionInfo": {
     "elapsed": 1112,
     "status": "ok",
     "timestamp": 1602855346902,
     "user": {
      "displayName": "Edson Venâncio",
      "photoUrl": "",
      "userId": "03024126298677047667"
     },
     "user_tz": 180
    },
    "id": "Wzah7_FOQlzj",
    "outputId": "99775825-ae42-4b48-86d3-4fbc23e3129d"
   },
   "outputs": [
    {
     "data": {
      "text/plain": [
       "hour\n",
       "17    513.144231\n",
       "18    494.029126\n",
       "8     488.326923\n",
       "19    357.504854\n",
       "7     303.980769\n",
       "16    272.961538\n",
       "20    256.660194\n",
       "9     238.528846\n",
       "21    194.669903\n",
       "12    193.903846\n",
       "13    185.826923\n",
       "15    181.288462\n",
       "14    170.548077\n",
       "11    152.201923\n",
       "22    143.689320\n",
       "10    131.894231\n",
       "6     107.807692\n",
       "23     83.737864\n",
       "0      34.557692\n",
       "5      25.750000\n",
       "1      15.336538\n",
       "2       7.813725\n",
       "4       4.968750\n",
       "3       4.888889\n",
       "Name: total_count, dtype: float64"
      ]
     },
     "execution_count": 41,
     "metadata": {},
     "output_type": "execute_result"
    }
   ],
   "source": [
    "# o horário com a maior média ficará ordenado em 1º\n",
    "df_bike[df_bike.weekday == 3].groupby(['hour']).total_count.mean().sort_values(ascending = False)"
   ]
  },
  {
   "cell_type": "code",
   "execution_count": 42,
   "metadata": {
    "colab": {
     "base_uri": "https://localhost:8080/",
     "height": 827
    },
    "executionInfo": {
     "elapsed": 1373,
     "status": "ok",
     "timestamp": 1602855352983,
     "user": {
      "displayName": "Edson Venâncio",
      "photoUrl": "",
      "userId": "03024126298677047667"
     },
     "user_tz": 180
    },
    "id": "wOoV2wK9EmJh",
    "outputId": "ea989b17-981c-4464-d310-81c1a17ce7c3"
   },
   "outputs": [
    {
     "name": "stdout",
     "output_type": "stream",
     "text": [
      "A maior média é as 17 horas\n",
      "A menor média é as 3 horas\n"
     ]
    },
    {
     "data": {
      "text/html": [
       "<div>\n",
       "<style scoped>\n",
       "    .dataframe tbody tr th:only-of-type {\n",
       "        vertical-align: middle;\n",
       "    }\n",
       "\n",
       "    .dataframe tbody tr th {\n",
       "        vertical-align: top;\n",
       "    }\n",
       "\n",
       "    .dataframe thead th {\n",
       "        text-align: right;\n",
       "    }\n",
       "</style>\n",
       "<table border=\"1\" class=\"dataframe\">\n",
       "  <thead>\n",
       "    <tr style=\"text-align: right;\">\n",
       "      <th></th>\n",
       "      <th>hour</th>\n",
       "      <th>Media</th>\n",
       "    </tr>\n",
       "  </thead>\n",
       "  <tbody>\n",
       "    <tr>\n",
       "      <th>0</th>\n",
       "      <td>0</td>\n",
       "      <td>34.557692</td>\n",
       "    </tr>\n",
       "    <tr>\n",
       "      <th>1</th>\n",
       "      <td>1</td>\n",
       "      <td>15.336538</td>\n",
       "    </tr>\n",
       "    <tr>\n",
       "      <th>2</th>\n",
       "      <td>2</td>\n",
       "      <td>7.813725</td>\n",
       "    </tr>\n",
       "    <tr>\n",
       "      <th>3</th>\n",
       "      <td>3</td>\n",
       "      <td>4.888889</td>\n",
       "    </tr>\n",
       "    <tr>\n",
       "      <th>4</th>\n",
       "      <td>4</td>\n",
       "      <td>4.968750</td>\n",
       "    </tr>\n",
       "    <tr>\n",
       "      <th>5</th>\n",
       "      <td>5</td>\n",
       "      <td>25.750000</td>\n",
       "    </tr>\n",
       "    <tr>\n",
       "      <th>6</th>\n",
       "      <td>6</td>\n",
       "      <td>107.807692</td>\n",
       "    </tr>\n",
       "    <tr>\n",
       "      <th>7</th>\n",
       "      <td>7</td>\n",
       "      <td>303.980769</td>\n",
       "    </tr>\n",
       "    <tr>\n",
       "      <th>8</th>\n",
       "      <td>8</td>\n",
       "      <td>488.326923</td>\n",
       "    </tr>\n",
       "    <tr>\n",
       "      <th>9</th>\n",
       "      <td>9</td>\n",
       "      <td>238.528846</td>\n",
       "    </tr>\n",
       "    <tr>\n",
       "      <th>10</th>\n",
       "      <td>10</td>\n",
       "      <td>131.894231</td>\n",
       "    </tr>\n",
       "    <tr>\n",
       "      <th>11</th>\n",
       "      <td>11</td>\n",
       "      <td>152.201923</td>\n",
       "    </tr>\n",
       "    <tr>\n",
       "      <th>12</th>\n",
       "      <td>12</td>\n",
       "      <td>193.903846</td>\n",
       "    </tr>\n",
       "    <tr>\n",
       "      <th>13</th>\n",
       "      <td>13</td>\n",
       "      <td>185.826923</td>\n",
       "    </tr>\n",
       "    <tr>\n",
       "      <th>14</th>\n",
       "      <td>14</td>\n",
       "      <td>170.548077</td>\n",
       "    </tr>\n",
       "    <tr>\n",
       "      <th>15</th>\n",
       "      <td>15</td>\n",
       "      <td>181.288462</td>\n",
       "    </tr>\n",
       "    <tr>\n",
       "      <th>16</th>\n",
       "      <td>16</td>\n",
       "      <td>272.961538</td>\n",
       "    </tr>\n",
       "    <tr>\n",
       "      <th>17</th>\n",
       "      <td>17</td>\n",
       "      <td>513.144231</td>\n",
       "    </tr>\n",
       "    <tr>\n",
       "      <th>18</th>\n",
       "      <td>18</td>\n",
       "      <td>494.029126</td>\n",
       "    </tr>\n",
       "    <tr>\n",
       "      <th>19</th>\n",
       "      <td>19</td>\n",
       "      <td>357.504854</td>\n",
       "    </tr>\n",
       "    <tr>\n",
       "      <th>20</th>\n",
       "      <td>20</td>\n",
       "      <td>256.660194</td>\n",
       "    </tr>\n",
       "    <tr>\n",
       "      <th>21</th>\n",
       "      <td>21</td>\n",
       "      <td>194.669903</td>\n",
       "    </tr>\n",
       "    <tr>\n",
       "      <th>22</th>\n",
       "      <td>22</td>\n",
       "      <td>143.689320</td>\n",
       "    </tr>\n",
       "    <tr>\n",
       "      <th>23</th>\n",
       "      <td>23</td>\n",
       "      <td>83.737864</td>\n",
       "    </tr>\n",
       "  </tbody>\n",
       "</table>\n",
       "</div>"
      ],
      "text/plain": [
       "    hour       Media\n",
       "0      0   34.557692\n",
       "1      1   15.336538\n",
       "2      2    7.813725\n",
       "3      3    4.888889\n",
       "4      4    4.968750\n",
       "5      5   25.750000\n",
       "6      6  107.807692\n",
       "7      7  303.980769\n",
       "8      8  488.326923\n",
       "9      9  238.528846\n",
       "10    10  131.894231\n",
       "11    11  152.201923\n",
       "12    12  193.903846\n",
       "13    13  185.826923\n",
       "14    14  170.548077\n",
       "15    15  181.288462\n",
       "16    16  272.961538\n",
       "17    17  513.144231\n",
       "18    18  494.029126\n",
       "19    19  357.504854\n",
       "20    20  256.660194\n",
       "21    21  194.669903\n",
       "22    22  143.689320\n",
       "23    23   83.737864"
      ]
     },
     "metadata": {},
     "output_type": "display_data"
    }
   ],
   "source": [
    "df_media_hora = df_bike[df_bike.weekday == 3].groupby(['hour']).total_count.mean().reset_index(name = 'Media')\n",
    "print(f'A maior média é as {df_media_hora[df_media_hora.Media == df_media_hora.Media.max()].hour.iloc[0]} horas')\n",
    "print(f'A menor média é as {df_media_hora[df_media_hora.Media == df_media_hora.Media.min()].hour.iloc[0]} horas')\n",
    "display(df_media_hora)"
   ]
  },
  {
   "cell_type": "code",
   "execution_count": 43,
   "metadata": {},
   "outputs": [
    {
     "data": {
      "image/png": "[encoded data removed]",
      "text/plain": [
       "<Figure size 1152x360 with 1 Axes>"
      ]
     },
     "metadata": {
      "needs_background": "light"
     },
     "output_type": "display_data"
    }
   ],
   "source": [
    "fig, ax = plt.subplots()\n",
    "sns.barplot(data = df_bike[df_bike.weekday == 3], x=\"hour\", y=\"total_count\")\n",
    "ax.set_title(\"Média de locações por hora às quartas-feiras\")\n",
    "plt.grid()"
   ]
  },
  {
   "cell_type": "markdown",
   "metadata": {
    "id": "w5f0XyMW1QCv"
   },
   "source": [
    "#### Aos sábados (weekday = 6), qual o horário do dia contém a maior média de locações de bicicletas?"
   ]
  },
  {
   "cell_type": "code",
   "execution_count": 44,
   "metadata": {
    "colab": {
     "base_uri": "https://localhost:8080/",
     "height": 459
    },
    "executionInfo": {
     "elapsed": 931,
     "status": "ok",
     "timestamp": 1602855399061,
     "user": {
      "displayName": "Edson Venâncio",
      "photoUrl": "",
      "userId": "03024126298677047667"
     },
     "user_tz": 180
    },
    "id": "wSuomj09Quhi",
    "outputId": "8723489f-85b6-4b0d-eca6-b414367ca4d4"
   },
   "outputs": [
    {
     "data": {
      "text/plain": [
       "hour\n",
       "13    385.371429\n",
       "15    382.428571\n",
       "14    381.333333\n",
       "12    375.380952\n",
       "16    366.142857\n",
       "17    334.409524\n",
       "11    328.609524\n",
       "18    292.048077\n",
       "10    263.723810\n",
       "19    239.932692\n",
       "9     186.790476\n",
       "20    180.865385\n",
       "21    156.000000\n",
       "22    139.663462\n",
       "23    115.855769\n",
       "8     114.476190\n",
       "0      94.304762\n",
       "1      67.780952\n",
       "2      50.495238\n",
       "7      45.961905\n",
       "3      22.885714\n",
       "6      21.000000\n",
       "5       8.291262\n",
       "4       7.657143\n",
       "Name: total_count, dtype: float64"
      ]
     },
     "execution_count": 44,
     "metadata": {},
     "output_type": "execute_result"
    }
   ],
   "source": [
    "# o horário com a maior média ficará ordenado em 1º\n",
    "df_bike[df_bike.weekday == 6].groupby(['hour']).total_count.mean().sort_values(ascending = False)"
   ]
  },
  {
   "cell_type": "code",
   "execution_count": 45,
   "metadata": {
    "colab": {
     "base_uri": "https://localhost:8080/",
     "height": 827
    },
    "executionInfo": {
     "elapsed": 1123,
     "status": "ok",
     "timestamp": 1602855403871,
     "user": {
      "displayName": "Edson Venâncio",
      "photoUrl": "",
      "userId": "03024126298677047667"
     },
     "user_tz": 180
    },
    "id": "LvsSqLcSFsQg",
    "outputId": "06dea2a4-b136-426d-9cfe-0025b2d934fc"
   },
   "outputs": [
    {
     "name": "stdout",
     "output_type": "stream",
     "text": [
      "A maior média é as 13 horas\n",
      "A menor média é as 4 horas\n"
     ]
    },
    {
     "data": {
      "text/html": [
       "<div>\n",
       "<style scoped>\n",
       "    .dataframe tbody tr th:only-of-type {\n",
       "        vertical-align: middle;\n",
       "    }\n",
       "\n",
       "    .dataframe tbody tr th {\n",
       "        vertical-align: top;\n",
       "    }\n",
       "\n",
       "    .dataframe thead th {\n",
       "        text-align: right;\n",
       "    }\n",
       "</style>\n",
       "<table border=\"1\" class=\"dataframe\">\n",
       "  <thead>\n",
       "    <tr style=\"text-align: right;\">\n",
       "      <th></th>\n",
       "      <th>hour</th>\n",
       "      <th>Media</th>\n",
       "    </tr>\n",
       "  </thead>\n",
       "  <tbody>\n",
       "    <tr>\n",
       "      <th>0</th>\n",
       "      <td>0</td>\n",
       "      <td>94.304762</td>\n",
       "    </tr>\n",
       "    <tr>\n",
       "      <th>1</th>\n",
       "      <td>1</td>\n",
       "      <td>67.780952</td>\n",
       "    </tr>\n",
       "    <tr>\n",
       "      <th>2</th>\n",
       "      <td>2</td>\n",
       "      <td>50.495238</td>\n",
       "    </tr>\n",
       "    <tr>\n",
       "      <th>3</th>\n",
       "      <td>3</td>\n",
       "      <td>22.885714</td>\n",
       "    </tr>\n",
       "    <tr>\n",
       "      <th>4</th>\n",
       "      <td>4</td>\n",
       "      <td>7.657143</td>\n",
       "    </tr>\n",
       "    <tr>\n",
       "      <th>5</th>\n",
       "      <td>5</td>\n",
       "      <td>8.291262</td>\n",
       "    </tr>\n",
       "    <tr>\n",
       "      <th>6</th>\n",
       "      <td>6</td>\n",
       "      <td>21.000000</td>\n",
       "    </tr>\n",
       "    <tr>\n",
       "      <th>7</th>\n",
       "      <td>7</td>\n",
       "      <td>45.961905</td>\n",
       "    </tr>\n",
       "    <tr>\n",
       "      <th>8</th>\n",
       "      <td>8</td>\n",
       "      <td>114.476190</td>\n",
       "    </tr>\n",
       "    <tr>\n",
       "      <th>9</th>\n",
       "      <td>9</td>\n",
       "      <td>186.790476</td>\n",
       "    </tr>\n",
       "    <tr>\n",
       "      <th>10</th>\n",
       "      <td>10</td>\n",
       "      <td>263.723810</td>\n",
       "    </tr>\n",
       "    <tr>\n",
       "      <th>11</th>\n",
       "      <td>11</td>\n",
       "      <td>328.609524</td>\n",
       "    </tr>\n",
       "    <tr>\n",
       "      <th>12</th>\n",
       "      <td>12</td>\n",
       "      <td>375.380952</td>\n",
       "    </tr>\n",
       "    <tr>\n",
       "      <th>13</th>\n",
       "      <td>13</td>\n",
       "      <td>385.371429</td>\n",
       "    </tr>\n",
       "    <tr>\n",
       "      <th>14</th>\n",
       "      <td>14</td>\n",
       "      <td>381.333333</td>\n",
       "    </tr>\n",
       "    <tr>\n",
       "      <th>15</th>\n",
       "      <td>15</td>\n",
       "      <td>382.428571</td>\n",
       "    </tr>\n",
       "    <tr>\n",
       "      <th>16</th>\n",
       "      <td>16</td>\n",
       "      <td>366.142857</td>\n",
       "    </tr>\n",
       "    <tr>\n",
       "      <th>17</th>\n",
       "      <td>17</td>\n",
       "      <td>334.409524</td>\n",
       "    </tr>\n",
       "    <tr>\n",
       "      <th>18</th>\n",
       "      <td>18</td>\n",
       "      <td>292.048077</td>\n",
       "    </tr>\n",
       "    <tr>\n",
       "      <th>19</th>\n",
       "      <td>19</td>\n",
       "      <td>239.932692</td>\n",
       "    </tr>\n",
       "    <tr>\n",
       "      <th>20</th>\n",
       "      <td>20</td>\n",
       "      <td>180.865385</td>\n",
       "    </tr>\n",
       "    <tr>\n",
       "      <th>21</th>\n",
       "      <td>21</td>\n",
       "      <td>156.000000</td>\n",
       "    </tr>\n",
       "    <tr>\n",
       "      <th>22</th>\n",
       "      <td>22</td>\n",
       "      <td>139.663462</td>\n",
       "    </tr>\n",
       "    <tr>\n",
       "      <th>23</th>\n",
       "      <td>23</td>\n",
       "      <td>115.855769</td>\n",
       "    </tr>\n",
       "  </tbody>\n",
       "</table>\n",
       "</div>"
      ],
      "text/plain": [
       "    hour       Media\n",
       "0      0   94.304762\n",
       "1      1   67.780952\n",
       "2      2   50.495238\n",
       "3      3   22.885714\n",
       "4      4    7.657143\n",
       "5      5    8.291262\n",
       "6      6   21.000000\n",
       "7      7   45.961905\n",
       "8      8  114.476190\n",
       "9      9  186.790476\n",
       "10    10  263.723810\n",
       "11    11  328.609524\n",
       "12    12  375.380952\n",
       "13    13  385.371429\n",
       "14    14  381.333333\n",
       "15    15  382.428571\n",
       "16    16  366.142857\n",
       "17    17  334.409524\n",
       "18    18  292.048077\n",
       "19    19  239.932692\n",
       "20    20  180.865385\n",
       "21    21  156.000000\n",
       "22    22  139.663462\n",
       "23    23  115.855769"
      ]
     },
     "metadata": {},
     "output_type": "display_data"
    }
   ],
   "source": [
    "df_media_hora = df_bike[df_bike.weekday == 6].groupby(['hour']).total_count.mean().reset_index(name = 'Media')\n",
    "print(f'A maior média é as {df_media_hora[df_media_hora.Media == df_media_hora.Media.max()].hour.iloc[0]} horas')\n",
    "print(f'A menor média é as {df_media_hora[df_media_hora.Media == df_media_hora.Media.min()].hour.iloc[0]} horas')\n",
    "display(df_media_hora)"
   ]
  },
  {
   "cell_type": "code",
   "execution_count": 46,
   "metadata": {},
   "outputs": [
    {
     "data": {
      "image/png": "[encoded data removed]",
      "text/plain": [
       "<Figure size 1152x360 with 1 Axes>"
      ]
     },
     "metadata": {
      "needs_background": "light"
     },
     "output_type": "display_data"
    }
   ],
   "source": [
    "fig, ax = plt.subplots()\n",
    "sns.barplot(data = df_bike[df_bike.weekday == 6], x=\"hour\", y=\"total_count\")\n",
    "ax.set_title(\"Média de locações por hora aos sábados\")\n",
    "plt.grid()"
   ]
  }
 ],
 "metadata": {
  "colab": {
   "authorship_tag": "ABX9TyPn1qR4GvGfGPRQSZX5V/QP",
   "collapsed_sections": [],
   "name": "DevPython_Desafio_2.ipynb",
   "provenance": []
  },
  "kernelspec": {
   "display_name": "Python 3",
   "language": "python",
   "name": "python3"
  },
  "language_info": {
   "codemirror_mode": {
    "name": "ipython",
    "version": 3
   },
   "file_extension": ".py",
   "mimetype": "text/x-python",
   "name": "python",
   "nbconvert_exporter": "python",
   "pygments_lexer": "ipython3",
   "version": "3.8.3"
  }
 },
 "nbformat": 4,
 "nbformat_minor": 1
}
