{
 "cells": [
  {
   "cell_type": "markdown",
   "metadata": {},
   "source": [
    "## Desafio - Módulo 3"
   ]
  },
  {
   "cell_type": "code",
   "execution_count": 1,
   "metadata": {
    "executionInfo": {
     "elapsed": 1104,
     "status": "ok",
     "timestamp": 1602854822854,
     "user": {
      "displayName": "Edson Venâncio",
      "photoUrl": "",
      "userId": "03024126298677047667"
     },
     "user_tz": 180
    },
    "id": "IpewcDY5xs_I"
   },
   "outputs": [],
   "source": [
    "# importando as bibliotecas\n",
    "import pandas as pd # biblioteca para manipulação de dados\n",
    "import numpy as np # biblioteca para utilização de vetores e matrizes\n",
    "import matplotlib.pyplot as plt # biblioteca para plotar gráficos"
   ]
  },
  {
   "cell_type": "code",
   "execution_count": 2,
   "metadata": {
    "colab": {
     "base_uri": "https://localhost:8080/",
     "height": 309
    },
    "executionInfo": {
     "elapsed": 2384,
     "status": "ok",
     "timestamp": 1602854235971,
     "user": {
      "displayName": "Edson Venâncio",
      "photoUrl": "",
      "userId": "03024126298677047667"
     },
     "user_tz": 180
    },
    "id": "M7Zwi5HAGrhG",
    "outputId": "e8e5bbe3-53c4-4429-a4ee-75f8b81a187a"
   },
   "outputs": [],
   "source": [
    "# carregando o dataset\n",
    "df = pd.read_csv('indian-liver-patient.csv')"
   ]
  },
  {
   "cell_type": "code",
   "execution_count": 3,
   "metadata": {},
   "outputs": [
    {
     "name": "stdout",
     "output_type": "stream",
     "text": [
      "(583, 11)\n"
     ]
    },
    {
     "data": {
      "text/plain": [
       "V1       0\n",
       "V2       0\n",
       "V3       0\n",
       "V4       0\n",
       "V5       0\n",
       "V6       0\n",
       "V7       0\n",
       "V8       0\n",
       "V9       0\n",
       "V10      0\n",
       "Class    0\n",
       "dtype: int64"
      ]
     },
     "metadata": {},
     "output_type": "display_data"
    },
    {
     "name": "stdout",
     "output_type": "stream",
     "text": [
      "<class 'pandas.core.frame.DataFrame'>\n",
      "RangeIndex: 583 entries, 0 to 582\n",
      "Data columns (total 11 columns):\n",
      " #   Column  Non-Null Count  Dtype  \n",
      "---  ------  --------------  -----  \n",
      " 0   V1      583 non-null    int64  \n",
      " 1   V2      583 non-null    object \n",
      " 2   V3      583 non-null    float64\n",
      " 3   V4      583 non-null    float64\n",
      " 4   V5      583 non-null    int64  \n",
      " 5   V6      583 non-null    int64  \n",
      " 6   V7      583 non-null    int64  \n",
      " 7   V8      583 non-null    float64\n",
      " 8   V9      583 non-null    float64\n",
      " 9   V10     583 non-null    float64\n",
      " 10  Class   583 non-null    int64  \n",
      "dtypes: float64(5), int64(5), object(1)\n",
      "memory usage: 50.2+ KB\n"
     ]
    },
    {
     "data": {
      "text/plain": [
       "None"
      ]
     },
     "metadata": {},
     "output_type": "display_data"
    }
   ],
   "source": [
    "print(df.shape)\n",
    "display(df.isnull().sum())\n",
    "display(df.info())"
   ]
  },
  {
   "cell_type": "code",
   "execution_count": 4,
   "metadata": {},
   "outputs": [
    {
     "data": {
      "text/html": [
       "<div>\n",
       "<style scoped>\n",
       "    .dataframe tbody tr th:only-of-type {\n",
       "        vertical-align: middle;\n",
       "    }\n",
       "\n",
       "    .dataframe tbody tr th {\n",
       "        vertical-align: top;\n",
       "    }\n",
       "\n",
       "    .dataframe thead th {\n",
       "        text-align: right;\n",
       "    }\n",
       "</style>\n",
       "<table border=\"1\" class=\"dataframe\">\n",
       "  <thead>\n",
       "    <tr style=\"text-align: right;\">\n",
       "      <th></th>\n",
       "      <th>V1</th>\n",
       "      <th>V2</th>\n",
       "      <th>V3</th>\n",
       "      <th>V4</th>\n",
       "      <th>V5</th>\n",
       "      <th>V6</th>\n",
       "      <th>V7</th>\n",
       "      <th>V8</th>\n",
       "      <th>V9</th>\n",
       "      <th>V10</th>\n",
       "      <th>Class</th>\n",
       "    </tr>\n",
       "  </thead>\n",
       "  <tbody>\n",
       "    <tr>\n",
       "      <th>0</th>\n",
       "      <td>65</td>\n",
       "      <td>Female</td>\n",
       "      <td>0.7</td>\n",
       "      <td>0.1</td>\n",
       "      <td>187</td>\n",
       "      <td>16</td>\n",
       "      <td>18</td>\n",
       "      <td>6.8</td>\n",
       "      <td>3.3</td>\n",
       "      <td>0.90</td>\n",
       "      <td>1</td>\n",
       "    </tr>\n",
       "    <tr>\n",
       "      <th>1</th>\n",
       "      <td>62</td>\n",
       "      <td>Male</td>\n",
       "      <td>10.9</td>\n",
       "      <td>5.5</td>\n",
       "      <td>699</td>\n",
       "      <td>64</td>\n",
       "      <td>100</td>\n",
       "      <td>7.5</td>\n",
       "      <td>3.2</td>\n",
       "      <td>0.74</td>\n",
       "      <td>1</td>\n",
       "    </tr>\n",
       "    <tr>\n",
       "      <th>2</th>\n",
       "      <td>62</td>\n",
       "      <td>Male</td>\n",
       "      <td>7.3</td>\n",
       "      <td>4.1</td>\n",
       "      <td>490</td>\n",
       "      <td>60</td>\n",
       "      <td>68</td>\n",
       "      <td>7.0</td>\n",
       "      <td>3.3</td>\n",
       "      <td>0.89</td>\n",
       "      <td>1</td>\n",
       "    </tr>\n",
       "    <tr>\n",
       "      <th>3</th>\n",
       "      <td>58</td>\n",
       "      <td>Male</td>\n",
       "      <td>1.0</td>\n",
       "      <td>0.4</td>\n",
       "      <td>182</td>\n",
       "      <td>14</td>\n",
       "      <td>20</td>\n",
       "      <td>6.8</td>\n",
       "      <td>3.4</td>\n",
       "      <td>1.00</td>\n",
       "      <td>1</td>\n",
       "    </tr>\n",
       "    <tr>\n",
       "      <th>4</th>\n",
       "      <td>72</td>\n",
       "      <td>Male</td>\n",
       "      <td>3.9</td>\n",
       "      <td>2.0</td>\n",
       "      <td>195</td>\n",
       "      <td>27</td>\n",
       "      <td>59</td>\n",
       "      <td>7.3</td>\n",
       "      <td>2.4</td>\n",
       "      <td>0.40</td>\n",
       "      <td>1</td>\n",
       "    </tr>\n",
       "  </tbody>\n",
       "</table>\n",
       "</div>"
      ],
      "text/plain": [
       "   V1      V2    V3   V4   V5  V6   V7   V8   V9   V10  Class\n",
       "0  65  Female   0.7  0.1  187  16   18  6.8  3.3  0.90      1\n",
       "1  62    Male  10.9  5.5  699  64  100  7.5  3.2  0.74      1\n",
       "2  62    Male   7.3  4.1  490  60   68  7.0  3.3  0.89      1\n",
       "3  58    Male   1.0  0.4  182  14   20  6.8  3.4  1.00      1\n",
       "4  72    Male   3.9  2.0  195  27   59  7.3  2.4  0.40      1"
      ]
     },
     "execution_count": 4,
     "metadata": {},
     "output_type": "execute_result"
    }
   ],
   "source": [
    "df.head()"
   ]
  },
  {
   "cell_type": "code",
   "execution_count": 5,
   "metadata": {},
   "outputs": [
    {
     "name": "stdout",
     "output_type": "stream",
     "text": [
      "(583, 11)\n",
      "Quantidade de classes = 2\n"
     ]
    },
    {
     "data": {
      "text/html": [
       "<div>\n",
       "<style scoped>\n",
       "    .dataframe tbody tr th:only-of-type {\n",
       "        vertical-align: middle;\n",
       "    }\n",
       "\n",
       "    .dataframe tbody tr th {\n",
       "        vertical-align: top;\n",
       "    }\n",
       "\n",
       "    .dataframe thead th {\n",
       "        text-align: right;\n",
       "    }\n",
       "</style>\n",
       "<table border=\"1\" class=\"dataframe\">\n",
       "  <thead>\n",
       "    <tr style=\"text-align: right;\">\n",
       "      <th></th>\n",
       "      <th>V1</th>\n",
       "      <th>V2</th>\n",
       "      <th>V3</th>\n",
       "      <th>V4</th>\n",
       "      <th>V5</th>\n",
       "      <th>V6</th>\n",
       "      <th>V7</th>\n",
       "      <th>V8</th>\n",
       "      <th>V9</th>\n",
       "      <th>V10</th>\n",
       "      <th>Class</th>\n",
       "    </tr>\n",
       "  </thead>\n",
       "  <tbody>\n",
       "    <tr>\n",
       "      <th>0</th>\n",
       "      <td>65</td>\n",
       "      <td>Female</td>\n",
       "      <td>0.7</td>\n",
       "      <td>0.1</td>\n",
       "      <td>187</td>\n",
       "      <td>16</td>\n",
       "      <td>18</td>\n",
       "      <td>6.8</td>\n",
       "      <td>3.3</td>\n",
       "      <td>0.90</td>\n",
       "      <td>1</td>\n",
       "    </tr>\n",
       "    <tr>\n",
       "      <th>1</th>\n",
       "      <td>62</td>\n",
       "      <td>Male</td>\n",
       "      <td>10.9</td>\n",
       "      <td>5.5</td>\n",
       "      <td>699</td>\n",
       "      <td>64</td>\n",
       "      <td>100</td>\n",
       "      <td>7.5</td>\n",
       "      <td>3.2</td>\n",
       "      <td>0.74</td>\n",
       "      <td>1</td>\n",
       "    </tr>\n",
       "    <tr>\n",
       "      <th>2</th>\n",
       "      <td>62</td>\n",
       "      <td>Male</td>\n",
       "      <td>7.3</td>\n",
       "      <td>4.1</td>\n",
       "      <td>490</td>\n",
       "      <td>60</td>\n",
       "      <td>68</td>\n",
       "      <td>7.0</td>\n",
       "      <td>3.3</td>\n",
       "      <td>0.89</td>\n",
       "      <td>1</td>\n",
       "    </tr>\n",
       "    <tr>\n",
       "      <th>3</th>\n",
       "      <td>58</td>\n",
       "      <td>Male</td>\n",
       "      <td>1.0</td>\n",
       "      <td>0.4</td>\n",
       "      <td>182</td>\n",
       "      <td>14</td>\n",
       "      <td>20</td>\n",
       "      <td>6.8</td>\n",
       "      <td>3.4</td>\n",
       "      <td>1.00</td>\n",
       "      <td>1</td>\n",
       "    </tr>\n",
       "    <tr>\n",
       "      <th>4</th>\n",
       "      <td>72</td>\n",
       "      <td>Male</td>\n",
       "      <td>3.9</td>\n",
       "      <td>2.0</td>\n",
       "      <td>195</td>\n",
       "      <td>27</td>\n",
       "      <td>59</td>\n",
       "      <td>7.3</td>\n",
       "      <td>2.4</td>\n",
       "      <td>0.40</td>\n",
       "      <td>1</td>\n",
       "    </tr>\n",
       "  </tbody>\n",
       "</table>\n",
       "</div>"
      ],
      "text/plain": [
       "   V1      V2    V3   V4   V5  V6   V7   V8   V9   V10  Class\n",
       "0  65  Female   0.7  0.1  187  16   18  6.8  3.3  0.90      1\n",
       "1  62    Male  10.9  5.5  699  64  100  7.5  3.2  0.74      1\n",
       "2  62    Male   7.3  4.1  490  60   68  7.0  3.3  0.89      1\n",
       "3  58    Male   1.0  0.4  182  14   20  6.8  3.4  1.00      1\n",
       "4  72    Male   3.9  2.0  195  27   59  7.3  2.4  0.40      1"
      ]
     },
     "execution_count": 5,
     "metadata": {},
     "output_type": "execute_result"
    }
   ],
   "source": [
    "print(df.shape)\n",
    "size = len(df['Class'].unique())\n",
    "print(f'Quantidade de classes = {size}')\n",
    "df.head()"
   ]
  },
  {
   "cell_type": "markdown",
   "metadata": {},
   "source": [
    "### Pré-processamento"
   ]
  },
  {
   "cell_type": "code",
   "execution_count": 6,
   "metadata": {},
   "outputs": [
    {
     "data": {
      "text/html": [
       "<div>\n",
       "<style scoped>\n",
       "    .dataframe tbody tr th:only-of-type {\n",
       "        vertical-align: middle;\n",
       "    }\n",
       "\n",
       "    .dataframe tbody tr th {\n",
       "        vertical-align: top;\n",
       "    }\n",
       "\n",
       "    .dataframe thead th {\n",
       "        text-align: right;\n",
       "    }\n",
       "</style>\n",
       "<table border=\"1\" class=\"dataframe\">\n",
       "  <thead>\n",
       "    <tr style=\"text-align: right;\">\n",
       "      <th></th>\n",
       "      <th>V1</th>\n",
       "      <th>V2</th>\n",
       "      <th>V3</th>\n",
       "      <th>V4</th>\n",
       "      <th>V5</th>\n",
       "      <th>V6</th>\n",
       "      <th>V7</th>\n",
       "      <th>V8</th>\n",
       "      <th>V9</th>\n",
       "      <th>V10</th>\n",
       "      <th>Class</th>\n",
       "    </tr>\n",
       "  </thead>\n",
       "  <tbody>\n",
       "    <tr>\n",
       "      <th>0</th>\n",
       "      <td>65</td>\n",
       "      <td>0</td>\n",
       "      <td>0.7</td>\n",
       "      <td>0.1</td>\n",
       "      <td>187</td>\n",
       "      <td>16</td>\n",
       "      <td>18</td>\n",
       "      <td>6.8</td>\n",
       "      <td>3.3</td>\n",
       "      <td>0.90</td>\n",
       "      <td>1</td>\n",
       "    </tr>\n",
       "    <tr>\n",
       "      <th>1</th>\n",
       "      <td>62</td>\n",
       "      <td>1</td>\n",
       "      <td>10.9</td>\n",
       "      <td>5.5</td>\n",
       "      <td>699</td>\n",
       "      <td>64</td>\n",
       "      <td>100</td>\n",
       "      <td>7.5</td>\n",
       "      <td>3.2</td>\n",
       "      <td>0.74</td>\n",
       "      <td>1</td>\n",
       "    </tr>\n",
       "    <tr>\n",
       "      <th>2</th>\n",
       "      <td>62</td>\n",
       "      <td>1</td>\n",
       "      <td>7.3</td>\n",
       "      <td>4.1</td>\n",
       "      <td>490</td>\n",
       "      <td>60</td>\n",
       "      <td>68</td>\n",
       "      <td>7.0</td>\n",
       "      <td>3.3</td>\n",
       "      <td>0.89</td>\n",
       "      <td>1</td>\n",
       "    </tr>\n",
       "    <tr>\n",
       "      <th>3</th>\n",
       "      <td>58</td>\n",
       "      <td>1</td>\n",
       "      <td>1.0</td>\n",
       "      <td>0.4</td>\n",
       "      <td>182</td>\n",
       "      <td>14</td>\n",
       "      <td>20</td>\n",
       "      <td>6.8</td>\n",
       "      <td>3.4</td>\n",
       "      <td>1.00</td>\n",
       "      <td>1</td>\n",
       "    </tr>\n",
       "    <tr>\n",
       "      <th>4</th>\n",
       "      <td>72</td>\n",
       "      <td>1</td>\n",
       "      <td>3.9</td>\n",
       "      <td>2.0</td>\n",
       "      <td>195</td>\n",
       "      <td>27</td>\n",
       "      <td>59</td>\n",
       "      <td>7.3</td>\n",
       "      <td>2.4</td>\n",
       "      <td>0.40</td>\n",
       "      <td>1</td>\n",
       "    </tr>\n",
       "  </tbody>\n",
       "</table>\n",
       "</div>"
      ],
      "text/plain": [
       "   V1  V2    V3   V4   V5  V6   V7   V8   V9   V10  Class\n",
       "0  65   0   0.7  0.1  187  16   18  6.8  3.3  0.90      1\n",
       "1  62   1  10.9  5.5  699  64  100  7.5  3.2  0.74      1\n",
       "2  62   1   7.3  4.1  490  60   68  7.0  3.3  0.89      1\n",
       "3  58   1   1.0  0.4  182  14   20  6.8  3.4  1.00      1\n",
       "4  72   1   3.9  2.0  195  27   59  7.3  2.4  0.40      1"
      ]
     },
     "execution_count": 6,
     "metadata": {},
     "output_type": "execute_result"
    }
   ],
   "source": [
    "# criando um dicionário de dados para o mapeamento\n",
    "name_to_class = {'Female': 0, 'Male': 1}\n",
    "\n",
    "# substituindo os valores categóricos pelo mapeamento\n",
    "df['V2'] = df['V2'].map(name_to_class)\n",
    "\n",
    "# check\n",
    "df.head(5)"
   ]
  },
  {
   "cell_type": "code",
   "execution_count": 7,
   "metadata": {},
   "outputs": [
    {
     "data": {
      "text/html": [
       "<div>\n",
       "<style scoped>\n",
       "    .dataframe tbody tr th:only-of-type {\n",
       "        vertical-align: middle;\n",
       "    }\n",
       "\n",
       "    .dataframe tbody tr th {\n",
       "        vertical-align: top;\n",
       "    }\n",
       "\n",
       "    .dataframe thead th {\n",
       "        text-align: right;\n",
       "    }\n",
       "</style>\n",
       "<table border=\"1\" class=\"dataframe\">\n",
       "  <thead>\n",
       "    <tr style=\"text-align: right;\">\n",
       "      <th></th>\n",
       "      <th>V1</th>\n",
       "      <th>V2</th>\n",
       "      <th>V3</th>\n",
       "      <th>V4</th>\n",
       "      <th>V5</th>\n",
       "      <th>V6</th>\n",
       "      <th>V7</th>\n",
       "      <th>V8</th>\n",
       "      <th>V9</th>\n",
       "      <th>V10</th>\n",
       "      <th>Class</th>\n",
       "    </tr>\n",
       "  </thead>\n",
       "  <tbody>\n",
       "    <tr>\n",
       "      <th>count</th>\n",
       "      <td>583.000000</td>\n",
       "      <td>583.000000</td>\n",
       "      <td>583.000000</td>\n",
       "      <td>583.000000</td>\n",
       "      <td>583.000000</td>\n",
       "      <td>583.000000</td>\n",
       "      <td>583.000000</td>\n",
       "      <td>583.000000</td>\n",
       "      <td>583.000000</td>\n",
       "      <td>583.000000</td>\n",
       "      <td>583.000000</td>\n",
       "    </tr>\n",
       "    <tr>\n",
       "      <th>mean</th>\n",
       "      <td>44.746141</td>\n",
       "      <td>0.756432</td>\n",
       "      <td>3.298799</td>\n",
       "      <td>1.486106</td>\n",
       "      <td>290.576329</td>\n",
       "      <td>80.713551</td>\n",
       "      <td>109.910806</td>\n",
       "      <td>6.483190</td>\n",
       "      <td>3.141852</td>\n",
       "      <td>0.947064</td>\n",
       "      <td>1.286449</td>\n",
       "    </tr>\n",
       "    <tr>\n",
       "      <th>std</th>\n",
       "      <td>16.189833</td>\n",
       "      <td>0.429603</td>\n",
       "      <td>6.209522</td>\n",
       "      <td>2.808498</td>\n",
       "      <td>242.937989</td>\n",
       "      <td>182.620356</td>\n",
       "      <td>288.918529</td>\n",
       "      <td>1.085451</td>\n",
       "      <td>0.795519</td>\n",
       "      <td>0.318492</td>\n",
       "      <td>0.452490</td>\n",
       "    </tr>\n",
       "    <tr>\n",
       "      <th>min</th>\n",
       "      <td>4.000000</td>\n",
       "      <td>0.000000</td>\n",
       "      <td>0.400000</td>\n",
       "      <td>0.100000</td>\n",
       "      <td>63.000000</td>\n",
       "      <td>10.000000</td>\n",
       "      <td>10.000000</td>\n",
       "      <td>2.700000</td>\n",
       "      <td>0.900000</td>\n",
       "      <td>0.300000</td>\n",
       "      <td>1.000000</td>\n",
       "    </tr>\n",
       "    <tr>\n",
       "      <th>25%</th>\n",
       "      <td>33.000000</td>\n",
       "      <td>1.000000</td>\n",
       "      <td>0.800000</td>\n",
       "      <td>0.200000</td>\n",
       "      <td>175.500000</td>\n",
       "      <td>23.000000</td>\n",
       "      <td>25.000000</td>\n",
       "      <td>5.800000</td>\n",
       "      <td>2.600000</td>\n",
       "      <td>0.700000</td>\n",
       "      <td>1.000000</td>\n",
       "    </tr>\n",
       "    <tr>\n",
       "      <th>50%</th>\n",
       "      <td>45.000000</td>\n",
       "      <td>1.000000</td>\n",
       "      <td>1.000000</td>\n",
       "      <td>0.300000</td>\n",
       "      <td>208.000000</td>\n",
       "      <td>35.000000</td>\n",
       "      <td>42.000000</td>\n",
       "      <td>6.600000</td>\n",
       "      <td>3.100000</td>\n",
       "      <td>0.947064</td>\n",
       "      <td>1.000000</td>\n",
       "    </tr>\n",
       "    <tr>\n",
       "      <th>75%</th>\n",
       "      <td>58.000000</td>\n",
       "      <td>1.000000</td>\n",
       "      <td>2.600000</td>\n",
       "      <td>1.300000</td>\n",
       "      <td>298.000000</td>\n",
       "      <td>60.500000</td>\n",
       "      <td>87.000000</td>\n",
       "      <td>7.200000</td>\n",
       "      <td>3.800000</td>\n",
       "      <td>1.100000</td>\n",
       "      <td>2.000000</td>\n",
       "    </tr>\n",
       "    <tr>\n",
       "      <th>max</th>\n",
       "      <td>90.000000</td>\n",
       "      <td>1.000000</td>\n",
       "      <td>75.000000</td>\n",
       "      <td>19.700000</td>\n",
       "      <td>2110.000000</td>\n",
       "      <td>2000.000000</td>\n",
       "      <td>4929.000000</td>\n",
       "      <td>9.600000</td>\n",
       "      <td>5.500000</td>\n",
       "      <td>2.800000</td>\n",
       "      <td>2.000000</td>\n",
       "    </tr>\n",
       "  </tbody>\n",
       "</table>\n",
       "</div>"
      ],
      "text/plain": [
       "               V1          V2          V3          V4           V5  \\\n",
       "count  583.000000  583.000000  583.000000  583.000000   583.000000   \n",
       "mean    44.746141    0.756432    3.298799    1.486106   290.576329   \n",
       "std     16.189833    0.429603    6.209522    2.808498   242.937989   \n",
       "min      4.000000    0.000000    0.400000    0.100000    63.000000   \n",
       "25%     33.000000    1.000000    0.800000    0.200000   175.500000   \n",
       "50%     45.000000    1.000000    1.000000    0.300000   208.000000   \n",
       "75%     58.000000    1.000000    2.600000    1.300000   298.000000   \n",
       "max     90.000000    1.000000   75.000000   19.700000  2110.000000   \n",
       "\n",
       "                V6           V7          V8          V9         V10  \\\n",
       "count   583.000000   583.000000  583.000000  583.000000  583.000000   \n",
       "mean     80.713551   109.910806    6.483190    3.141852    0.947064   \n",
       "std     182.620356   288.918529    1.085451    0.795519    0.318492   \n",
       "min      10.000000    10.000000    2.700000    0.900000    0.300000   \n",
       "25%      23.000000    25.000000    5.800000    2.600000    0.700000   \n",
       "50%      35.000000    42.000000    6.600000    3.100000    0.947064   \n",
       "75%      60.500000    87.000000    7.200000    3.800000    1.100000   \n",
       "max    2000.000000  4929.000000    9.600000    5.500000    2.800000   \n",
       "\n",
       "            Class  \n",
       "count  583.000000  \n",
       "mean     1.286449  \n",
       "std      0.452490  \n",
       "min      1.000000  \n",
       "25%      1.000000  \n",
       "50%      1.000000  \n",
       "75%      2.000000  \n",
       "max      2.000000  "
      ]
     },
     "execution_count": 7,
     "metadata": {},
     "output_type": "execute_result"
    }
   ],
   "source": [
    "df.describe()"
   ]
  },
  {
   "cell_type": "code",
   "execution_count": 8,
   "metadata": {},
   "outputs": [],
   "source": [
    "# separando os conjuntos de treino e teste\n",
    "y = np.array(df['Class'])\n",
    "\n",
    "# salvando a ordem das features\n",
    "feature_list = list(df.columns)"
   ]
  },
  {
   "cell_type": "code",
   "execution_count": 9,
   "metadata": {},
   "outputs": [
    {
     "data": {
      "text/plain": [
       "Index(['V1', 'V2', 'V3', 'V4', 'V5', 'V6', 'V7', 'V8', 'V9', 'V10'], dtype='object')"
      ]
     },
     "execution_count": 9,
     "metadata": {},
     "output_type": "execute_result"
    }
   ],
   "source": [
    "# removendo a coluna de target do df original\n",
    "df = df.drop('Class', axis = 1)\n",
    "\n",
    "# check\n",
    "df.columns"
   ]
  },
  {
   "cell_type": "code",
   "execution_count": 10,
   "metadata": {},
   "outputs": [],
   "source": [
    "# convertendo df para array\n",
    "X = np.array(df)"
   ]
  },
  {
   "cell_type": "code",
   "execution_count": 11,
   "metadata": {},
   "outputs": [],
   "source": [
    "# importando função para separar dados de treino e teste\n",
    "from sklearn.model_selection import train_test_split\n",
    "\n",
    "X_train, X_test, y_train, y_test = train_test_split(X, y, test_size = 0.25, random_state = 42)"
   ]
  },
  {
   "cell_type": "markdown",
   "metadata": {},
   "source": [
    "### Random Search - SVC"
   ]
  },
  {
   "cell_type": "code",
   "execution_count": 12,
   "metadata": {},
   "outputs": [],
   "source": [
    "from sklearn.ensemble import RandomForestClassifier\n",
    "from sklearn.svm import SVC\n",
    "from sklearn.model_selection import StratifiedKFold, RandomizedSearchCV\n",
    "from scipy.stats import uniform\n",
    "from scipy.stats import randint\n",
    "from sklearn.metrics import f1_score, make_scorer"
   ]
  },
  {
   "cell_type": "code",
   "execution_count": 13,
   "metadata": {},
   "outputs": [
    {
     "data": {
      "text/plain": [
       "RandomizedSearchCV(cv=StratifiedKFold(n_splits=10, random_state=None, shuffle=False),\n",
       "                   estimator=SVC(), n_iter=5,\n",
       "                   param_distributions={'C': <scipy.stats._distn_infrastructure.rv_frozen object at 0x000001E771649C70>,\n",
       "                                        'kernel': ['sigmoid', 'rbf']},\n",
       "                   random_state=42, scoring=make_scorer(f1_score))"
      ]
     },
     "execution_count": 13,
     "metadata": {},
     "output_type": "execute_result"
    }
   ],
   "source": [
    "# definindo o tipo de validação cruzada e o número de folds\n",
    "cv_strat = StratifiedKFold(n_splits=10)\n",
    "\n",
    "# definindo a estratégia de score a partir da métrica f1\n",
    "f1 = make_scorer(f1_score)\n",
    "\n",
    "# definindo hiperparâmetros\n",
    "distributions = dict(kernel = ['sigmoid','rbf'], C=uniform(loc=0, scale=10))\n",
    "\n",
    "# instanciando meu classificador\n",
    "classifier = SVC()\n",
    "\n",
    "# instanciando e modelando o random search com os hiperparâmetros e a validação definidas\n",
    "random_cv = RandomizedSearchCV(classifier, distributions, cv=cv_strat, scoring=f1, random_state=42, n_iter=5)\n",
    "random_cv.fit(X, y)"
   ]
  },
  {
   "cell_type": "code",
   "execution_count": 14,
   "metadata": {},
   "outputs": [
    {
     "name": "stdout",
     "output_type": "stream",
     "text": [
      "Resumo de todos os resultados encontrados:\n",
      "\n",
      " {'mean_fit_time': array([0.0099942 , 0.01519096, 0.0063957 , 0.00639591, 0.00929339]), 'std_fit_time': array([0.00256774, 0.00166101, 0.00048935, 0.0004899 , 0.0006403 ]), 'mean_score_time': array([0.0037976 , 0.00259888, 0.00179932, 0.00199957, 0.00200033]), 'std_score_time': array([2.13397922e-03, 9.16877128e-04, 3.99936396e-04, 1.02713867e-06,\n",
      "       1.26609021e-06]), 'param_C': masked_array(data=[3.745401188473625, 1.834347898661638,\n",
      "                   5.986584841970366, 4.458327528535912,\n",
      "                   0.5808361216819946],\n",
      "             mask=[False, False, False, False, False],\n",
      "       fill_value='?',\n",
      "            dtype=object), 'param_kernel': masked_array(data=['sigmoid', 'rbf', 'sigmoid', 'sigmoid', 'rbf'],\n",
      "             mask=[False, False, False, False, False],\n",
      "       fill_value='?',\n",
      "            dtype=object), 'params': [{'C': 3.745401188473625, 'kernel': 'sigmoid'}, {'C': 1.834347898661638, 'kernel': 'rbf'}, {'C': 5.986584841970366, 'kernel': 'sigmoid'}, {'C': 4.458327528535912, 'kernel': 'sigmoid'}, {'C': 0.5808361216819946, 'kernel': 'rbf'}], 'split0_test_score': array([0.73563218, 0.83168317, 0.73563218, 0.73563218, 0.83168317]), 'split1_test_score': array([0.73809524, 0.83168317, 0.74074074, 0.72289157, 0.83168317]), 'split2_test_score': array([0.69767442, 0.83168317, 0.69767442, 0.69767442, 0.83168317]), 'split3_test_score': array([0.66666667, 0.84      , 0.66666667, 0.66666667, 0.84      ]), 'split4_test_score': array([0.73809524, 0.84      , 0.73809524, 0.73809524, 0.84      ]), 'split5_test_score': array([0.78571429, 0.84      , 0.78571429, 0.8       , 0.84      ]), 'split6_test_score': array([0.74358974, 0.82828283, 0.74358974, 0.74358974, 0.82828283]), 'split7_test_score': array([0.65      , 0.82828283, 0.65      , 0.65      , 0.82828283]), 'split8_test_score': array([0.75862069, 0.82828283, 0.77272727, 0.75862069, 0.82828283]), 'split9_test_score': array([0.82222222, 0.82828283, 0.83146067, 0.83146067, 0.82828283]), 'mean_test_score': array([0.73363107, 0.83281808, 0.73623012, 0.73446312, 0.83281808]), 'std_test_score': array([0.04909159, 0.00490793, 0.05166157, 0.05253831, 0.00490793]), 'rank_test_score': array([5, 1, 3, 4, 1])}\n"
     ]
    }
   ],
   "source": [
    "# vamos olhar para todos os resultados encontrados\n",
    "print('Resumo de todos os resultados encontrados:\\n\\n', random_cv.cv_results_)"
   ]
  },
  {
   "cell_type": "code",
   "execution_count": 15,
   "metadata": {},
   "outputs": [
    {
     "name": "stdout",
     "output_type": "stream",
     "text": [
      "Melhor resultado f1: 0.832818081808181\n",
      "\n",
      "Melhor configuração de hiperparâmetros: {'C': 1.834347898661638, 'kernel': 'rbf'}\n",
      "\n",
      "Configurações de todos os hiperparâmetros do melhor estimador encontrado pelo RandomSearch:\n",
      " SVC(C=1.834347898661638)\n"
     ]
    }
   ],
   "source": [
    "# vamos olhar para os melhores resultados encontrados pelo Random Search\n",
    "print('Melhor resultado f1:', random_cv.best_score_)\n",
    "print('\\nMelhor configuração de hiperparâmetros:', random_cv.best_params_)\n",
    "print('\\nConfigurações de todos os hiperparâmetros do melhor estimador encontrado pelo RandomSearch:\\n', random_cv.best_estimator_)"
   ]
  },
  {
   "cell_type": "markdown",
   "metadata": {},
   "source": [
    "### Random Search - Random Forest Classifiers"
   ]
  },
  {
   "cell_type": "code",
   "execution_count": 16,
   "metadata": {},
   "outputs": [
    {
     "data": {
      "text/plain": [
       "RandomizedSearchCV(cv=StratifiedKFold(n_splits=10, random_state=None, shuffle=False),\n",
       "                   estimator=RandomForestClassifier(random_state=42), n_iter=5,\n",
       "                   param_distributions={'bootstrap': [True, False],\n",
       "                                        'criterion': ['gini', 'entropy'],\n",
       "                                        'n_estimators': <scipy.stats._distn_infrastructure.rv_frozen object at 0x000001E76F26DBB0>},\n",
       "                   random_state=42, scoring=make_scorer(f1_score))"
      ]
     },
     "execution_count": 16,
     "metadata": {},
     "output_type": "execute_result"
    }
   ],
   "source": [
    "# definindo o tipo de validação cruzada e o número de folds\n",
    "cv_strat = StratifiedKFold(n_splits=10)\n",
    "\n",
    "# definindo a estratégia de score a partir da métrica f1\n",
    "f1 = make_scorer(f1_score)\n",
    "\n",
    "# definindo hiperparâmetros\n",
    "distributions1 = dict(n_estimators=randint(100, 200), bootstrap=[True, False], criterion=['gini','entropy'])\n",
    "\n",
    "# instanciando meu classificador\n",
    "classifier1 = RandomForestClassifier(random_state=42)\n",
    "\n",
    "# instanciando e modelando o random search com os hiperparâmetros e a validação definidas\n",
    "random_cv1 = RandomizedSearchCV(classifier1, distributions1, cv=cv_strat, scoring=f1, random_state=42, n_iter=5)\n",
    "random_cv1.fit(X, y)"
   ]
  },
  {
   "cell_type": "code",
   "execution_count": 17,
   "metadata": {},
   "outputs": [
    {
     "name": "stdout",
     "output_type": "stream",
     "text": [
      "Resumo de todos os resultados encontrados:\n",
      "\n",
      " {'mean_fit_time': array([0.52006118, 0.38979087, 0.433355  , 0.39977338, 0.42545815]), 'std_fit_time': array([0.08323266, 0.0397046 , 0.08339978, 0.05070344, 0.0126039 ]), 'mean_score_time': array([0.02258615, 0.02308655, 0.02218904, 0.02338281, 0.023985  ]), 'std_score_time': array([0.00111726, 0.01131113, 0.00359317, 0.00955827, 0.00117676]), 'param_bootstrap': masked_array(data=[True, True, True, True, False],\n",
      "             mask=[False, False, False, False, False],\n",
      "       fill_value='?',\n",
      "            dtype=object), 'param_criterion': masked_array(data=['entropy', 'gini', 'gini', 'gini', 'gini'],\n",
      "             mask=[False, False, False, False, False],\n",
      "       fill_value='?',\n",
      "            dtype=object), 'param_n_estimators': masked_array(data=[192, 171, 182, 174, 199],\n",
      "             mask=[False, False, False, False, False],\n",
      "       fill_value='?',\n",
      "            dtype=object), 'params': [{'bootstrap': True, 'criterion': 'entropy', 'n_estimators': 192}, {'bootstrap': True, 'criterion': 'gini', 'n_estimators': 171}, {'bootstrap': True, 'criterion': 'gini', 'n_estimators': 182}, {'bootstrap': True, 'criterion': 'gini', 'n_estimators': 174}, {'bootstrap': False, 'criterion': 'gini', 'n_estimators': 199}], 'split0_test_score': array([0.82105263, 0.82608696, 0.8172043 , 0.8172043 , 0.79120879]), 'split1_test_score': array([0.8       , 0.77777778, 0.76923077, 0.77777778, 0.75555556]), 'split2_test_score': array([0.83333333, 0.82105263, 0.82105263, 0.82105263, 0.8172043 ]), 'split3_test_score': array([0.84705882, 0.88636364, 0.88636364, 0.88636364, 0.85057471]), 'split4_test_score': array([0.80898876, 0.79069767, 0.78651685, 0.7816092 , 0.78571429]), 'split5_test_score': array([0.7654321 , 0.79518072, 0.79518072, 0.79518072, 0.75949367]), 'split6_test_score': array([0.77333333, 0.76315789, 0.76315789, 0.77922078, 0.75324675]), 'split7_test_score': array([0.71264368, 0.72941176, 0.72941176, 0.72941176, 0.63291139]), 'split8_test_score': array([0.8       , 0.79120879, 0.79120879, 0.79120879, 0.79120879]), 'split9_test_score': array([0.82105263, 0.83870968, 0.85106383, 0.83870968, 0.81318681]), 'mean_test_score': array([0.79828953, 0.80196475, 0.80103912, 0.80177393, 0.77503051]), 'std_test_score': array([0.03714941, 0.04130759, 0.04285287, 0.04001485, 0.05556268]), 'rank_test_score': array([4, 1, 3, 2, 5])}\n"
     ]
    }
   ],
   "source": [
    "# vamos olhar para todos os resultados encontrados\n",
    "print('Resumo de todos os resultados encontrados:\\n\\n', random_cv1.cv_results_)"
   ]
  },
  {
   "cell_type": "code",
   "execution_count": 18,
   "metadata": {},
   "outputs": [
    {
     "name": "stdout",
     "output_type": "stream",
     "text": [
      "Melhor resultado f1: 0.8019647527623143\n",
      "\n",
      "Melhor configuração de hiperparâmetros: {'bootstrap': True, 'criterion': 'gini', 'n_estimators': 171}\n",
      "\n",
      "Configurações de todos os hiperparâmetros do melhor estimador encontrado pelo RandomSearch:\n",
      " RandomForestClassifier(n_estimators=171, random_state=42)\n"
     ]
    }
   ],
   "source": [
    "# vamos olhar para os melhores resultados encontrados pelo Random Search\n",
    "print('Melhor resultado f1:', random_cv1.best_score_)\n",
    "print('\\nMelhor configuração de hiperparâmetros:', random_cv1.best_params_)\n",
    "print('\\nConfigurações de todos os hiperparâmetros do melhor estimador encontrado pelo RandomSearch:\\n', random_cv1.best_estimator_)"
   ]
  }
 ],
 "metadata": {
  "colab": {
   "authorship_tag": "ABX9TyPn1qR4GvGfGPRQSZX5V/QP",
   "collapsed_sections": [],
   "name": "DevPython_Desafio_2.ipynb",
   "provenance": []
  },
  "kernelspec": {
   "display_name": "Python 3",
   "language": "python",
   "name": "python3"
  },
  "language_info": {
   "codemirror_mode": {
    "name": "ipython",
    "version": 3
   },
   "file_extension": ".py",
   "mimetype": "text/x-python",
   "name": "python",
   "nbconvert_exporter": "python",
   "pygments_lexer": "ipython3",
   "version": "3.8.3"
  }
 },
 "nbformat": 4,
 "nbformat_minor": 1
}
